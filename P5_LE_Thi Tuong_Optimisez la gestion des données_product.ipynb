{
 "cells": [
  {
   "cell_type": "markdown",
   "metadata": {},
   "source": [
    "# Projet 5 : Optimisez la gestion des données d'une boutique avec Python\n",
    "<div>\n",
    "<img src=\"bottleneck.png\" style = \"width: 600px; height: 300px\" title = \"BottleNeck\"/>\n",
    "</div>"
   ]
  },
  {
   "cell_type": "markdown",
   "metadata": {},
   "source": [
    "### <center>Réalisée par: Thi Tuong Le</center>"
   ]
  },
  {
   "cell_type": "markdown",
   "metadata": {},
   "source": [
    "#### <center>Data Analyst</center>"
   ]
  },
  {
   "cell_type": "markdown",
   "metadata": {},
   "source": [
    "**_Aujourd’hui est un grand jour, je commence ma mission en tant que data analyst freelance chez BottleNeck, un marchand de vin très prestigieux. Je vous présent le projet sur \"Optimisez la gestion des données de BottleNeck avec Python\". Les missions sont: 1) de manuplier et nettoyer les 3 jeu de données, 2)calculer le chiffre d’affaires par produit, ainsi que le total du chiffre d’affaires réalisé en ligne, 3)effectuer une analyse sur cette variable afin de détecter d’éventuelles valeurs aberrantes, de les lister et d’en faire une représentation graphique pour plus de lisibilité._**"
   ]
  },
  {
   "cell_type": "markdown",
   "metadata": {},
   "source": [
    "**_Compétences_**\n",
    "* **Classifier différents types de données**\n",
    "* **Gérer les erreurs et les incohérences présentes sur des données stockées**\n",
    "* **Réaliser une analyse univariée pour interpréter des données**"
   ]
  },
  {
   "cell_type": "markdown",
   "metadata": {},
   "source": [
    "## Sommaire \n",
    "\n",
    "1. [Libraries](#1.-Libraries)\n",
    "2. [Datasets](#2.-Datasets)\n",
    "3. [Analyse du dataframe \"erp\"](#3.-Analyse-du-dataframe-\"erp\")   \n",
    "4. [Analyse du dataframe \"liaison\"](#4.-Analyse-du-dataframe-\"liaison\")\n",
    "5. [Analyse du dataframe \"web\"](#5.-Analyse-du-dataframe-\"web\")                                                                      \n",
    "    5.1. [Explorer les produits et les informations des lignes correspondantes](#5.1.-Explorer-les-produits-et-les-informations-des-lignes-correspondantes)                      \n",
    "    5.2. [Nettoyage du dataframe \"web\"](#5.2.-Nettoyage-du-dataframe-\"web\")\n",
    "6. [Jointures des 3 dataframes](#6.-Jointures-des-3-dataframes)\n",
    "7. [Calcul du chiffre d'affaires](#7.-Calcul-du-chiffre-d'affaires)                                                                       \n",
    "    7.1. [Calcul du chiffre d'affaires par produit](#7.1.-Calcul-du-chiffre-d'affaires-par-produit)                                                    \n",
    "    7.2. [Calcul du chiffre d'affaire total](#7.2.-Calcul-du-chiffre-d'affaire-total)\n",
    "8. [Analyse sur le prix](#8.-Analyse-sur-le-prix)                                                                                  \n",
    "    8.1. [Visualization sur le prix ](#8.1-Visualization-sur-le-prix)                                                                \n",
    "    8.2. [Liste des outliers](#8.2.-Liste-des-outliers)                                                                         \n",
    "    8.3. [Les outliers les plus élevés](#8.3.-Les-outliers-les-plus-élevés)\n",
    "9. [Conclusion](#9.-Conclusion)"
   ]
  },
  {
   "cell_type": "markdown",
   "metadata": {},
   "source": [
    "## 1. Libraries "
   ]
  },
  {
   "cell_type": "code",
   "execution_count": 1,
   "metadata": {
    "ExecuteTime": {
     "end_time": "2022-02-06T11:47:43.161614Z",
     "start_time": "2022-02-06T11:47:40.597977Z"
    }
   },
   "outputs": [],
   "source": [
    "import numpy as np\n",
    "import pandas as pd\n",
    "import seaborn as sns\n",
    "import matplotlib.pyplot as plt\n",
    "import matplotlib as mpl"
   ]
  },
  {
   "cell_type": "markdown",
   "metadata": {},
   "source": [
    "## 2. Datasets "
   ]
  },
  {
   "cell_type": "code",
   "execution_count": 2,
   "metadata": {
    "ExecuteTime": {
     "end_time": "2022-02-06T11:47:43.184601Z",
     "start_time": "2022-02-06T11:47:43.167380Z"
    }
   },
   "outputs": [
    {
     "data": {
      "text/plain": [
       "'/Users/lethituong/Desktop/Data Analyst/P5/Optimize store data management with Python'"
      ]
     },
     "execution_count": 2,
     "metadata": {},
     "output_type": "execute_result"
    }
   ],
   "source": [
    "# Get current working directory\n",
    "import os\n",
    "os.getcwd()"
   ]
  },
  {
   "cell_type": "code",
   "execution_count": 3,
   "metadata": {
    "ExecuteTime": {
     "end_time": "2022-02-06T11:47:44.026879Z",
     "start_time": "2022-02-06T11:47:43.194274Z"
    }
   },
   "outputs": [],
   "source": [
    "erp = pd.read_excel(\"erp.xlsx\")\n",
    "web = pd.read_excel (\"web.xlsx\")\n",
    "liaison = pd.read_excel (\"liaison.xlsx\")"
   ]
  },
  {
   "cell_type": "markdown",
   "metadata": {},
   "source": [
    "## 3. Analyse du dataframe \"erp\" "
   ]
  },
  {
   "cell_type": "code",
   "execution_count": 4,
   "metadata": {
    "ExecuteTime": {
     "end_time": "2022-02-06T11:47:44.057853Z",
     "start_time": "2022-02-06T11:47:44.031200Z"
    }
   },
   "outputs": [
    {
     "data": {
      "text/html": [
       "<div>\n",
       "<style scoped>\n",
       "    .dataframe tbody tr th:only-of-type {\n",
       "        vertical-align: middle;\n",
       "    }\n",
       "\n",
       "    .dataframe tbody tr th {\n",
       "        vertical-align: top;\n",
       "    }\n",
       "\n",
       "    .dataframe thead th {\n",
       "        text-align: right;\n",
       "    }\n",
       "</style>\n",
       "<table border=\"1\" class=\"dataframe\">\n",
       "  <thead>\n",
       "    <tr style=\"text-align: right;\">\n",
       "      <th></th>\n",
       "      <th>product_id</th>\n",
       "      <th>onsale_web</th>\n",
       "      <th>price</th>\n",
       "      <th>stock_quantity</th>\n",
       "      <th>stock_status</th>\n",
       "    </tr>\n",
       "  </thead>\n",
       "  <tbody>\n",
       "    <tr>\n",
       "      <td>0</td>\n",
       "      <td>3847</td>\n",
       "      <td>1</td>\n",
       "      <td>24.2</td>\n",
       "      <td>0</td>\n",
       "      <td>outofstock</td>\n",
       "    </tr>\n",
       "    <tr>\n",
       "      <td>1</td>\n",
       "      <td>3849</td>\n",
       "      <td>1</td>\n",
       "      <td>34.3</td>\n",
       "      <td>0</td>\n",
       "      <td>outofstock</td>\n",
       "    </tr>\n",
       "    <tr>\n",
       "      <td>2</td>\n",
       "      <td>3850</td>\n",
       "      <td>1</td>\n",
       "      <td>20.8</td>\n",
       "      <td>0</td>\n",
       "      <td>outofstock</td>\n",
       "    </tr>\n",
       "    <tr>\n",
       "      <td>3</td>\n",
       "      <td>4032</td>\n",
       "      <td>1</td>\n",
       "      <td>14.1</td>\n",
       "      <td>0</td>\n",
       "      <td>outofstock</td>\n",
       "    </tr>\n",
       "    <tr>\n",
       "      <td>4</td>\n",
       "      <td>4039</td>\n",
       "      <td>1</td>\n",
       "      <td>46.0</td>\n",
       "      <td>0</td>\n",
       "      <td>outofstock</td>\n",
       "    </tr>\n",
       "  </tbody>\n",
       "</table>\n",
       "</div>"
      ],
      "text/plain": [
       "   product_id  onsale_web  price  stock_quantity stock_status\n",
       "0        3847           1   24.2               0   outofstock\n",
       "1        3849           1   34.3               0   outofstock\n",
       "2        3850           1   20.8               0   outofstock\n",
       "3        4032           1   14.1               0   outofstock\n",
       "4        4039           1   46.0               0   outofstock"
      ]
     },
     "execution_count": 4,
     "metadata": {},
     "output_type": "execute_result"
    }
   ],
   "source": [
    "# Insight into dataset\n",
    "erp.head()"
   ]
  },
  {
   "cell_type": "code",
   "execution_count": 5,
   "metadata": {
    "ExecuteTime": {
     "end_time": "2022-02-06T11:47:44.079648Z",
     "start_time": "2022-02-06T11:47:44.062518Z"
    }
   },
   "outputs": [
    {
     "name": "stdout",
     "output_type": "stream",
     "text": [
      "<class 'pandas.core.frame.DataFrame'>\n",
      "RangeIndex: 825 entries, 0 to 824\n",
      "Data columns (total 5 columns):\n",
      "product_id        825 non-null int64\n",
      "onsale_web        825 non-null int64\n",
      "price             825 non-null float64\n",
      "stock_quantity    825 non-null int64\n",
      "stock_status      825 non-null object\n",
      "dtypes: float64(1), int64(3), object(1)\n",
      "memory usage: 32.4+ KB\n"
     ]
    }
   ],
   "source": [
    "erp.info()"
   ]
  },
  {
   "cell_type": "code",
   "execution_count": 6,
   "metadata": {
    "ExecuteTime": {
     "end_time": "2022-02-06T11:47:44.097765Z",
     "start_time": "2022-02-06T11:47:44.084853Z"
    }
   },
   "outputs": [
    {
     "name": "stdout",
     "output_type": "stream",
     "text": [
      "False\n"
     ]
    }
   ],
   "source": [
    "# valeurs manquantes, nulls et NA\n",
    "print(erp.isnull().values.any())"
   ]
  },
  {
   "cell_type": "code",
   "execution_count": 7,
   "metadata": {
    "ExecuteTime": {
     "end_time": "2022-02-06T11:47:44.117926Z",
     "start_time": "2022-02-06T11:47:44.103272Z"
    }
   },
   "outputs": [
    {
     "name": "stdout",
     "output_type": "stream",
     "text": [
      "False\n"
     ]
    }
   ],
   "source": [
    "# doublons\n",
    "print(erp.duplicated().values.any())"
   ]
  },
  {
   "cell_type": "code",
   "execution_count": 8,
   "metadata": {
    "ExecuteTime": {
     "end_time": "2022-02-06T11:47:44.153895Z",
     "start_time": "2022-02-06T11:47:44.130470Z"
    }
   },
   "outputs": [
    {
     "data": {
      "text/plain": [
       "product_id        0\n",
       "onsale_web        0\n",
       "price             0\n",
       "stock_quantity    0\n",
       "stock_status      0\n",
       "dtype: int64"
      ]
     },
     "execution_count": 8,
     "metadata": {},
     "output_type": "execute_result"
    }
   ],
   "source": [
    "# la sommes de NaN \n",
    "erp.isna().sum()"
   ]
  },
  {
   "cell_type": "code",
   "execution_count": 9,
   "metadata": {
    "ExecuteTime": {
     "end_time": "2022-02-06T11:47:44.219362Z",
     "start_time": "2022-02-06T11:47:44.166566Z"
    }
   },
   "outputs": [
    {
     "data": {
      "text/html": [
       "<div>\n",
       "<style scoped>\n",
       "    .dataframe tbody tr th:only-of-type {\n",
       "        vertical-align: middle;\n",
       "    }\n",
       "\n",
       "    .dataframe tbody tr th {\n",
       "        vertical-align: top;\n",
       "    }\n",
       "\n",
       "    .dataframe thead th {\n",
       "        text-align: right;\n",
       "    }\n",
       "</style>\n",
       "<table border=\"1\" class=\"dataframe\">\n",
       "  <thead>\n",
       "    <tr style=\"text-align: right;\">\n",
       "      <th></th>\n",
       "      <th>product_id</th>\n",
       "      <th>onsale_web</th>\n",
       "      <th>price</th>\n",
       "      <th>stock_quantity</th>\n",
       "    </tr>\n",
       "  </thead>\n",
       "  <tbody>\n",
       "    <tr>\n",
       "      <td>count</td>\n",
       "      <td>825.000000</td>\n",
       "      <td>825.000000</td>\n",
       "      <td>825.000000</td>\n",
       "      <td>825.000000</td>\n",
       "    </tr>\n",
       "    <tr>\n",
       "      <td>mean</td>\n",
       "      <td>5162.597576</td>\n",
       "      <td>0.869091</td>\n",
       "      <td>32.415636</td>\n",
       "      <td>26.496970</td>\n",
       "    </tr>\n",
       "    <tr>\n",
       "      <td>std</td>\n",
       "      <td>902.644635</td>\n",
       "      <td>0.337506</td>\n",
       "      <td>26.795849</td>\n",
       "      <td>45.892422</td>\n",
       "    </tr>\n",
       "    <tr>\n",
       "      <td>min</td>\n",
       "      <td>3847.000000</td>\n",
       "      <td>0.000000</td>\n",
       "      <td>5.200000</td>\n",
       "      <td>0.000000</td>\n",
       "    </tr>\n",
       "    <tr>\n",
       "      <td>25%</td>\n",
       "      <td>4348.000000</td>\n",
       "      <td>1.000000</td>\n",
       "      <td>14.600000</td>\n",
       "      <td>1.000000</td>\n",
       "    </tr>\n",
       "    <tr>\n",
       "      <td>50%</td>\n",
       "      <td>4907.000000</td>\n",
       "      <td>1.000000</td>\n",
       "      <td>24.400000</td>\n",
       "      <td>11.000000</td>\n",
       "    </tr>\n",
       "    <tr>\n",
       "      <td>75%</td>\n",
       "      <td>5805.000000</td>\n",
       "      <td>1.000000</td>\n",
       "      <td>42.000000</td>\n",
       "      <td>34.000000</td>\n",
       "    </tr>\n",
       "    <tr>\n",
       "      <td>max</td>\n",
       "      <td>7338.000000</td>\n",
       "      <td>1.000000</td>\n",
       "      <td>225.000000</td>\n",
       "      <td>578.000000</td>\n",
       "    </tr>\n",
       "  </tbody>\n",
       "</table>\n",
       "</div>"
      ],
      "text/plain": [
       "        product_id  onsale_web       price  stock_quantity\n",
       "count   825.000000  825.000000  825.000000      825.000000\n",
       "mean   5162.597576    0.869091   32.415636       26.496970\n",
       "std     902.644635    0.337506   26.795849       45.892422\n",
       "min    3847.000000    0.000000    5.200000        0.000000\n",
       "25%    4348.000000    1.000000   14.600000        1.000000\n",
       "50%    4907.000000    1.000000   24.400000       11.000000\n",
       "75%    5805.000000    1.000000   42.000000       34.000000\n",
       "max    7338.000000    1.000000  225.000000      578.000000"
      ]
     },
     "execution_count": 9,
     "metadata": {},
     "output_type": "execute_result"
    }
   ],
   "source": [
    "# Description de le jeu de données\n",
    "erp.describe ()"
   ]
  },
  {
   "cell_type": "markdown",
   "metadata": {},
   "source": [
    "**_Le je de données \"erp\" ne contient pas de doublons ni de valeurs nulles._**"
   ]
  },
  {
   "cell_type": "markdown",
   "metadata": {},
   "source": [
    "## 4. Analyse du dataframe \"liaison\" "
   ]
  },
  {
   "cell_type": "code",
   "execution_count": 10,
   "metadata": {
    "ExecuteTime": {
     "end_time": "2022-02-06T11:47:44.244233Z",
     "start_time": "2022-02-06T11:47:44.225913Z"
    }
   },
   "outputs": [
    {
     "data": {
      "text/html": [
       "<div>\n",
       "<style scoped>\n",
       "    .dataframe tbody tr th:only-of-type {\n",
       "        vertical-align: middle;\n",
       "    }\n",
       "\n",
       "    .dataframe tbody tr th {\n",
       "        vertical-align: top;\n",
       "    }\n",
       "\n",
       "    .dataframe thead th {\n",
       "        text-align: right;\n",
       "    }\n",
       "</style>\n",
       "<table border=\"1\" class=\"dataframe\">\n",
       "  <thead>\n",
       "    <tr style=\"text-align: right;\">\n",
       "      <th></th>\n",
       "      <th>product_id</th>\n",
       "      <th>id_web</th>\n",
       "    </tr>\n",
       "  </thead>\n",
       "  <tbody>\n",
       "    <tr>\n",
       "      <td>0</td>\n",
       "      <td>3847</td>\n",
       "      <td>15298</td>\n",
       "    </tr>\n",
       "    <tr>\n",
       "      <td>1</td>\n",
       "      <td>3849</td>\n",
       "      <td>15296</td>\n",
       "    </tr>\n",
       "    <tr>\n",
       "      <td>2</td>\n",
       "      <td>3850</td>\n",
       "      <td>15300</td>\n",
       "    </tr>\n",
       "    <tr>\n",
       "      <td>3</td>\n",
       "      <td>4032</td>\n",
       "      <td>19814</td>\n",
       "    </tr>\n",
       "    <tr>\n",
       "      <td>4</td>\n",
       "      <td>4039</td>\n",
       "      <td>19815</td>\n",
       "    </tr>\n",
       "  </tbody>\n",
       "</table>\n",
       "</div>"
      ],
      "text/plain": [
       "   product_id id_web\n",
       "0        3847  15298\n",
       "1        3849  15296\n",
       "2        3850  15300\n",
       "3        4032  19814\n",
       "4        4039  19815"
      ]
     },
     "execution_count": 10,
     "metadata": {},
     "output_type": "execute_result"
    }
   ],
   "source": [
    "liaison.head()"
   ]
  },
  {
   "cell_type": "code",
   "execution_count": 11,
   "metadata": {
    "ExecuteTime": {
     "end_time": "2022-02-06T11:47:44.262337Z",
     "start_time": "2022-02-06T11:47:44.250127Z"
    }
   },
   "outputs": [
    {
     "data": {
      "text/plain": [
       "(825, 2)"
      ]
     },
     "execution_count": 11,
     "metadata": {},
     "output_type": "execute_result"
    }
   ],
   "source": [
    "# Taille de le data\n",
    "liaison.shape"
   ]
  },
  {
   "cell_type": "code",
   "execution_count": 12,
   "metadata": {
    "ExecuteTime": {
     "end_time": "2022-02-06T11:47:44.281921Z",
     "start_time": "2022-02-06T11:47:44.269874Z"
    }
   },
   "outputs": [
    {
     "name": "stdout",
     "output_type": "stream",
     "text": [
      "False\n"
     ]
    }
   ],
   "source": [
    "# doublons\n",
    "print(liaison.duplicated().values.any())"
   ]
  },
  {
   "cell_type": "code",
   "execution_count": 13,
   "metadata": {
    "ExecuteTime": {
     "end_time": "2022-02-06T11:47:44.296282Z",
     "start_time": "2022-02-06T11:47:44.287158Z"
    }
   },
   "outputs": [
    {
     "name": "stdout",
     "output_type": "stream",
     "text": [
      "True\n"
     ]
    }
   ],
   "source": [
    "# valeurs manquantes, nulls et NA\n",
    "print(liaison.isnull().values.any())"
   ]
  },
  {
   "cell_type": "code",
   "execution_count": 14,
   "metadata": {
    "ExecuteTime": {
     "end_time": "2022-02-06T11:47:44.312058Z",
     "start_time": "2022-02-06T11:47:44.301251Z"
    }
   },
   "outputs": [
    {
     "data": {
      "text/plain": [
       "product_id     0\n",
       "id_web        91\n",
       "dtype: int64"
      ]
     },
     "execution_count": 14,
     "metadata": {},
     "output_type": "execute_result"
    }
   ],
   "source": [
    "# Nombre de laveurs manquantes par colonne\n",
    "liaison.isnull().sum()"
   ]
  },
  {
   "cell_type": "code",
   "execution_count": 15,
   "metadata": {
    "ExecuteTime": {
     "end_time": "2022-02-06T11:47:44.325573Z",
     "start_time": "2022-02-06T11:47:44.316039Z"
    }
   },
   "outputs": [],
   "source": [
    "# Création une dataframe qui contient que les valeurs NaNs dans la colonne id_web\n",
    "nan = liaison[liaison.isna().any(axis=1)]"
   ]
  },
  {
   "cell_type": "code",
   "execution_count": 16,
   "metadata": {
    "ExecuteTime": {
     "end_time": "2022-02-06T11:47:44.346456Z",
     "start_time": "2022-02-06T11:47:44.330547Z"
    }
   },
   "outputs": [
    {
     "data": {
      "text/html": [
       "<div>\n",
       "<style scoped>\n",
       "    .dataframe tbody tr th:only-of-type {\n",
       "        vertical-align: middle;\n",
       "    }\n",
       "\n",
       "    .dataframe tbody tr th {\n",
       "        vertical-align: top;\n",
       "    }\n",
       "\n",
       "    .dataframe thead th {\n",
       "        text-align: right;\n",
       "    }\n",
       "</style>\n",
       "<table border=\"1\" class=\"dataframe\">\n",
       "  <thead>\n",
       "    <tr style=\"text-align: right;\">\n",
       "      <th></th>\n",
       "      <th>product_id</th>\n",
       "      <th>id_web</th>\n",
       "    </tr>\n",
       "  </thead>\n",
       "  <tbody>\n",
       "    <tr>\n",
       "      <td>19</td>\n",
       "      <td>4055</td>\n",
       "      <td>NaN</td>\n",
       "    </tr>\n",
       "    <tr>\n",
       "      <td>49</td>\n",
       "      <td>4090</td>\n",
       "      <td>NaN</td>\n",
       "    </tr>\n",
       "    <tr>\n",
       "      <td>50</td>\n",
       "      <td>4092</td>\n",
       "      <td>NaN</td>\n",
       "    </tr>\n",
       "    <tr>\n",
       "      <td>119</td>\n",
       "      <td>4195</td>\n",
       "      <td>NaN</td>\n",
       "    </tr>\n",
       "    <tr>\n",
       "      <td>131</td>\n",
       "      <td>4209</td>\n",
       "      <td>NaN</td>\n",
       "    </tr>\n",
       "    <tr>\n",
       "      <td>...</td>\n",
       "      <td>...</td>\n",
       "      <td>...</td>\n",
       "    </tr>\n",
       "    <tr>\n",
       "      <td>817</td>\n",
       "      <td>7196</td>\n",
       "      <td>NaN</td>\n",
       "    </tr>\n",
       "    <tr>\n",
       "      <td>818</td>\n",
       "      <td>7200</td>\n",
       "      <td>NaN</td>\n",
       "    </tr>\n",
       "    <tr>\n",
       "      <td>819</td>\n",
       "      <td>7201</td>\n",
       "      <td>NaN</td>\n",
       "    </tr>\n",
       "    <tr>\n",
       "      <td>820</td>\n",
       "      <td>7203</td>\n",
       "      <td>NaN</td>\n",
       "    </tr>\n",
       "    <tr>\n",
       "      <td>821</td>\n",
       "      <td>7204</td>\n",
       "      <td>NaN</td>\n",
       "    </tr>\n",
       "  </tbody>\n",
       "</table>\n",
       "<p>91 rows × 2 columns</p>\n",
       "</div>"
      ],
      "text/plain": [
       "     product_id id_web\n",
       "19         4055    NaN\n",
       "49         4090    NaN\n",
       "50         4092    NaN\n",
       "119        4195    NaN\n",
       "131        4209    NaN\n",
       "..          ...    ...\n",
       "817        7196    NaN\n",
       "818        7200    NaN\n",
       "819        7201    NaN\n",
       "820        7203    NaN\n",
       "821        7204    NaN\n",
       "\n",
       "[91 rows x 2 columns]"
      ]
     },
     "execution_count": 16,
     "metadata": {},
     "output_type": "execute_result"
    }
   ],
   "source": [
    "nan"
   ]
  },
  {
   "cell_type": "markdown",
   "metadata": {},
   "source": [
    "**Probablement, ce sont les produits qui n'ont pas été mis sur le web car ils ne sont pas vendus. Donc, on supprime toutes les lignes qui contiennent une NaN dans la colonne \"id_web\"** "
   ]
  },
  {
   "cell_type": "code",
   "execution_count": 17,
   "metadata": {
    "ExecuteTime": {
     "end_time": "2022-02-06T11:47:44.363256Z",
     "start_time": "2022-02-06T11:47:44.352260Z"
    }
   },
   "outputs": [],
   "source": [
    "# On supprimme toutes les lignes qui a été remplis par NaN dans la colonne \"id_web\"\n",
    "liaison = liaison.dropna()"
   ]
  },
  {
   "cell_type": "code",
   "execution_count": 18,
   "metadata": {
    "ExecuteTime": {
     "end_time": "2022-02-06T11:47:44.378510Z",
     "start_time": "2022-02-06T11:47:44.368532Z"
    }
   },
   "outputs": [
    {
     "data": {
      "text/plain": [
       "(734, 2)"
      ]
     },
     "execution_count": 18,
     "metadata": {},
     "output_type": "execute_result"
    }
   ],
   "source": [
    "liaison.shape"
   ]
  },
  {
   "cell_type": "code",
   "execution_count": 19,
   "metadata": {
    "ExecuteTime": {
     "end_time": "2022-02-06T11:47:44.397215Z",
     "start_time": "2022-02-06T11:47:44.383495Z"
    }
   },
   "outputs": [
    {
     "data": {
      "text/plain": [
       "0"
      ]
     },
     "execution_count": 19,
     "metadata": {},
     "output_type": "execute_result"
    }
   ],
   "source": [
    "# On affiche le nombre de doublons pour vérifier encore une fois \n",
    "liaison.duplicated(\"id_web\").sum ()"
   ]
  },
  {
   "cell_type": "code",
   "execution_count": 20,
   "metadata": {
    "ExecuteTime": {
     "end_time": "2022-02-06T11:47:44.419033Z",
     "start_time": "2022-02-06T11:47:44.405546Z"
    }
   },
   "outputs": [
    {
     "name": "stdout",
     "output_type": "stream",
     "text": [
      "<class 'pandas.core.frame.DataFrame'>\n",
      "Int64Index: 734 entries, 0 to 824\n",
      "Data columns (total 2 columns):\n",
      "product_id    734 non-null int64\n",
      "id_web        734 non-null object\n",
      "dtypes: int64(1), object(1)\n",
      "memory usage: 17.2+ KB\n"
     ]
    }
   ],
   "source": [
    "# On affiche les infos du \"liaison\"\n",
    "liaison.info()"
   ]
  },
  {
   "cell_type": "markdown",
   "metadata": {},
   "source": [
    "**On réussit de nettoyer le jeu de données \"liaison\".**"
   ]
  },
  {
   "cell_type": "markdown",
   "metadata": {},
   "source": [
    "## 5. Analyse du dataframe \"web\" "
   ]
  },
  {
   "cell_type": "code",
   "execution_count": 21,
   "metadata": {
    "ExecuteTime": {
     "end_time": "2022-02-06T11:47:44.515910Z",
     "start_time": "2022-02-06T11:47:44.425307Z"
    },
    "scrolled": true
   },
   "outputs": [
    {
     "data": {
      "text/html": [
       "<div>\n",
       "<style scoped>\n",
       "    .dataframe tbody tr th:only-of-type {\n",
       "        vertical-align: middle;\n",
       "    }\n",
       "\n",
       "    .dataframe tbody tr th {\n",
       "        vertical-align: top;\n",
       "    }\n",
       "\n",
       "    .dataframe thead th {\n",
       "        text-align: right;\n",
       "    }\n",
       "</style>\n",
       "<table border=\"1\" class=\"dataframe\">\n",
       "  <thead>\n",
       "    <tr style=\"text-align: right;\">\n",
       "      <th></th>\n",
       "      <th>sku</th>\n",
       "      <th>virtual</th>\n",
       "      <th>downloadable</th>\n",
       "      <th>rating_count</th>\n",
       "      <th>average_rating</th>\n",
       "      <th>total_sales</th>\n",
       "      <th>tax_status</th>\n",
       "      <th>tax_class</th>\n",
       "      <th>post_author</th>\n",
       "      <th>post_date</th>\n",
       "      <th>...</th>\n",
       "      <th>post_name</th>\n",
       "      <th>post_modified</th>\n",
       "      <th>post_modified_gmt</th>\n",
       "      <th>post_content_filtered</th>\n",
       "      <th>post_parent</th>\n",
       "      <th>guid</th>\n",
       "      <th>menu_order</th>\n",
       "      <th>post_type</th>\n",
       "      <th>post_mime_type</th>\n",
       "      <th>comment_count</th>\n",
       "    </tr>\n",
       "  </thead>\n",
       "  <tbody>\n",
       "    <tr>\n",
       "      <td>0</td>\n",
       "      <td>bon-cadeau-25-euros</td>\n",
       "      <td>0</td>\n",
       "      <td>0</td>\n",
       "      <td>0</td>\n",
       "      <td>0.0</td>\n",
       "      <td>10.0</td>\n",
       "      <td>taxable</td>\n",
       "      <td>NaN</td>\n",
       "      <td>1.0</td>\n",
       "      <td>2018-06-01 13:53:46</td>\n",
       "      <td>...</td>\n",
       "      <td>bon-cadeau-de-25-euros</td>\n",
       "      <td>2018-06-01 14:13:57</td>\n",
       "      <td>2018-06-01 12:13:57</td>\n",
       "      <td>NaN</td>\n",
       "      <td>0.0</td>\n",
       "      <td>https://www.bottle-neck.fr/?post_type=product&amp;...</td>\n",
       "      <td>0.0</td>\n",
       "      <td>product</td>\n",
       "      <td>NaN</td>\n",
       "      <td>0.0</td>\n",
       "    </tr>\n",
       "    <tr>\n",
       "      <td>1</td>\n",
       "      <td>15298</td>\n",
       "      <td>0</td>\n",
       "      <td>0</td>\n",
       "      <td>0</td>\n",
       "      <td>0.0</td>\n",
       "      <td>6.0</td>\n",
       "      <td>taxable</td>\n",
       "      <td>NaN</td>\n",
       "      <td>2.0</td>\n",
       "      <td>2018-02-08 12:58:52</td>\n",
       "      <td>...</td>\n",
       "      <td>pierre-jean-villa-saint-joseph-preface-2018</td>\n",
       "      <td>2019-12-30 09:30:29</td>\n",
       "      <td>2019-12-30 08:30:29</td>\n",
       "      <td>NaN</td>\n",
       "      <td>0.0</td>\n",
       "      <td>https://www.bottle-neck.fr/?post_type=product&amp;...</td>\n",
       "      <td>0.0</td>\n",
       "      <td>product</td>\n",
       "      <td>NaN</td>\n",
       "      <td>0.0</td>\n",
       "    </tr>\n",
       "    <tr>\n",
       "      <td>2</td>\n",
       "      <td>15296</td>\n",
       "      <td>0</td>\n",
       "      <td>0</td>\n",
       "      <td>0</td>\n",
       "      <td>0.0</td>\n",
       "      <td>0.0</td>\n",
       "      <td>taxable</td>\n",
       "      <td>NaN</td>\n",
       "      <td>2.0</td>\n",
       "      <td>2018-02-08 13:49:41</td>\n",
       "      <td>...</td>\n",
       "      <td>pierre-jean-villa-saint-joseph-tilde-2017</td>\n",
       "      <td>2019-12-21 09:00:17</td>\n",
       "      <td>2019-12-21 08:00:17</td>\n",
       "      <td>NaN</td>\n",
       "      <td>0.0</td>\n",
       "      <td>https://www.bottle-neck.fr/?post_type=product&amp;...</td>\n",
       "      <td>0.0</td>\n",
       "      <td>product</td>\n",
       "      <td>NaN</td>\n",
       "      <td>0.0</td>\n",
       "    </tr>\n",
       "    <tr>\n",
       "      <td>3</td>\n",
       "      <td>15300</td>\n",
       "      <td>0</td>\n",
       "      <td>0</td>\n",
       "      <td>0</td>\n",
       "      <td>0.0</td>\n",
       "      <td>0.0</td>\n",
       "      <td>taxable</td>\n",
       "      <td>NaN</td>\n",
       "      <td>2.0</td>\n",
       "      <td>2018-02-08 14:08:36</td>\n",
       "      <td>...</td>\n",
       "      <td>pierre-jean-villa-croze-hermitage-accroche-coe...</td>\n",
       "      <td>2020-06-26 18:15:03</td>\n",
       "      <td>2020-06-26 16:15:03</td>\n",
       "      <td>NaN</td>\n",
       "      <td>0.0</td>\n",
       "      <td>https://www.bottle-neck.fr/?post_type=product&amp;...</td>\n",
       "      <td>0.0</td>\n",
       "      <td>product</td>\n",
       "      <td>NaN</td>\n",
       "      <td>0.0</td>\n",
       "    </tr>\n",
       "    <tr>\n",
       "      <td>4</td>\n",
       "      <td>19814</td>\n",
       "      <td>0</td>\n",
       "      <td>0</td>\n",
       "      <td>0</td>\n",
       "      <td>0.0</td>\n",
       "      <td>3.0</td>\n",
       "      <td>taxable</td>\n",
       "      <td>NaN</td>\n",
       "      <td>2.0</td>\n",
       "      <td>2018-02-09 14:01:05</td>\n",
       "      <td>...</td>\n",
       "      <td>pierre-jean-villa-igp-gamine-2018</td>\n",
       "      <td>2020-01-04 16:36:01</td>\n",
       "      <td>2020-01-04 15:36:01</td>\n",
       "      <td>NaN</td>\n",
       "      <td>0.0</td>\n",
       "      <td>https://www.bottle-neck.fr/?post_type=product&amp;...</td>\n",
       "      <td>0.0</td>\n",
       "      <td>product</td>\n",
       "      <td>NaN</td>\n",
       "      <td>0.0</td>\n",
       "    </tr>\n",
       "    <tr>\n",
       "      <td>...</td>\n",
       "      <td>...</td>\n",
       "      <td>...</td>\n",
       "      <td>...</td>\n",
       "      <td>...</td>\n",
       "      <td>...</td>\n",
       "      <td>...</td>\n",
       "      <td>...</td>\n",
       "      <td>...</td>\n",
       "      <td>...</td>\n",
       "      <td>...</td>\n",
       "      <td>...</td>\n",
       "      <td>...</td>\n",
       "      <td>...</td>\n",
       "      <td>...</td>\n",
       "      <td>...</td>\n",
       "      <td>...</td>\n",
       "      <td>...</td>\n",
       "      <td>...</td>\n",
       "      <td>...</td>\n",
       "      <td>...</td>\n",
       "      <td>...</td>\n",
       "    </tr>\n",
       "    <tr>\n",
       "      <td>1508</td>\n",
       "      <td>16135</td>\n",
       "      <td>0</td>\n",
       "      <td>0</td>\n",
       "      <td>0</td>\n",
       "      <td>0.0</td>\n",
       "      <td>5.0</td>\n",
       "      <td>NaN</td>\n",
       "      <td>NaN</td>\n",
       "      <td>2.0</td>\n",
       "      <td>2020-04-25 13:22:38</td>\n",
       "      <td>...</td>\n",
       "      <td>mouthes-le-bihan-aime-chai-2015</td>\n",
       "      <td>2020-08-26 17:35:03</td>\n",
       "      <td>2020-08-26 15:35:03</td>\n",
       "      <td>NaN</td>\n",
       "      <td>0.0</td>\n",
       "      <td>https://www.bottle-neck.fr/wp-content/uploads/...</td>\n",
       "      <td>0.0</td>\n",
       "      <td>attachment</td>\n",
       "      <td>image/jpeg</td>\n",
       "      <td>0.0</td>\n",
       "    </tr>\n",
       "    <tr>\n",
       "      <td>1509</td>\n",
       "      <td>15891</td>\n",
       "      <td>0</td>\n",
       "      <td>0</td>\n",
       "      <td>0</td>\n",
       "      <td>0.0</td>\n",
       "      <td>0.0</td>\n",
       "      <td>NaN</td>\n",
       "      <td>NaN</td>\n",
       "      <td>2.0</td>\n",
       "      <td>2020-05-02 14:53:40</td>\n",
       "      <td>...</td>\n",
       "      <td>camin-larredya-jurancon-sec-la-virada-2018</td>\n",
       "      <td>2020-08-26 17:35:02</td>\n",
       "      <td>2020-08-26 15:35:02</td>\n",
       "      <td>NaN</td>\n",
       "      <td>0.0</td>\n",
       "      <td>https://www.bottle-neck.fr/wp-content/uploads/...</td>\n",
       "      <td>0.0</td>\n",
       "      <td>attachment</td>\n",
       "      <td>image/jpeg</td>\n",
       "      <td>0.0</td>\n",
       "    </tr>\n",
       "    <tr>\n",
       "      <td>1510</td>\n",
       "      <td>15887</td>\n",
       "      <td>0</td>\n",
       "      <td>0</td>\n",
       "      <td>0</td>\n",
       "      <td>0.0</td>\n",
       "      <td>0.0</td>\n",
       "      <td>NaN</td>\n",
       "      <td>NaN</td>\n",
       "      <td>2.0</td>\n",
       "      <td>2020-05-02 15:00:54</td>\n",
       "      <td>...</td>\n",
       "      <td>jamet-cote-rotie-fructus-voluptas-2018</td>\n",
       "      <td>2020-08-14 18:15:03</td>\n",
       "      <td>2020-08-14 16:15:03</td>\n",
       "      <td>NaN</td>\n",
       "      <td>0.0</td>\n",
       "      <td>https://www.bottle-neck.fr/wp-content/uploads/...</td>\n",
       "      <td>0.0</td>\n",
       "      <td>attachment</td>\n",
       "      <td>image/jpeg</td>\n",
       "      <td>0.0</td>\n",
       "    </tr>\n",
       "    <tr>\n",
       "      <td>1511</td>\n",
       "      <td>13127-1</td>\n",
       "      <td>0</td>\n",
       "      <td>0</td>\n",
       "      <td>0</td>\n",
       "      <td>0.0</td>\n",
       "      <td>0.0</td>\n",
       "      <td>NaN</td>\n",
       "      <td>NaN</td>\n",
       "      <td>2.0</td>\n",
       "      <td>2020-06-09 15:42:04</td>\n",
       "      <td>...</td>\n",
       "      <td>clos-du-mont-olivet-chateauneuf-du-pape-2007-2</td>\n",
       "      <td>2020-07-20 17:09:06</td>\n",
       "      <td>2020-07-20 15:09:06</td>\n",
       "      <td>NaN</td>\n",
       "      <td>0.0</td>\n",
       "      <td>https://www.bottle-neck.fr/wp-content/uploads/...</td>\n",
       "      <td>0.0</td>\n",
       "      <td>attachment</td>\n",
       "      <td>image/jpeg</td>\n",
       "      <td>0.0</td>\n",
       "    </tr>\n",
       "    <tr>\n",
       "      <td>1512</td>\n",
       "      <td>16230</td>\n",
       "      <td>0</td>\n",
       "      <td>0</td>\n",
       "      <td>0</td>\n",
       "      <td>0.0</td>\n",
       "      <td>0.0</td>\n",
       "      <td>NaN</td>\n",
       "      <td>NaN</td>\n",
       "      <td>2.0</td>\n",
       "      <td>2020-07-20 11:00:00</td>\n",
       "      <td>...</td>\n",
       "      <td>domaine-saint-nicolas-fiefs-vendeens-blanc-les...</td>\n",
       "      <td>2020-08-13 10:45:03</td>\n",
       "      <td>2020-08-13 08:45:03</td>\n",
       "      <td>NaN</td>\n",
       "      <td>0.0</td>\n",
       "      <td>https://www.bottle-neck.fr/wp-content/uploads/...</td>\n",
       "      <td>0.0</td>\n",
       "      <td>attachment</td>\n",
       "      <td>image/jpeg</td>\n",
       "      <td>0.0</td>\n",
       "    </tr>\n",
       "  </tbody>\n",
       "</table>\n",
       "<p>1513 rows × 28 columns</p>\n",
       "</div>"
      ],
      "text/plain": [
       "                      sku  virtual  downloadable  rating_count  \\\n",
       "0     bon-cadeau-25-euros        0             0             0   \n",
       "1                   15298        0             0             0   \n",
       "2                   15296        0             0             0   \n",
       "3                   15300        0             0             0   \n",
       "4                   19814        0             0             0   \n",
       "...                   ...      ...           ...           ...   \n",
       "1508                16135        0             0             0   \n",
       "1509                15891        0             0             0   \n",
       "1510                15887        0             0             0   \n",
       "1511              13127-1        0             0             0   \n",
       "1512                16230        0             0             0   \n",
       "\n",
       "      average_rating  total_sales tax_status  tax_class  post_author  \\\n",
       "0                0.0         10.0    taxable        NaN          1.0   \n",
       "1                0.0          6.0    taxable        NaN          2.0   \n",
       "2                0.0          0.0    taxable        NaN          2.0   \n",
       "3                0.0          0.0    taxable        NaN          2.0   \n",
       "4                0.0          3.0    taxable        NaN          2.0   \n",
       "...              ...          ...        ...        ...          ...   \n",
       "1508             0.0          5.0        NaN        NaN          2.0   \n",
       "1509             0.0          0.0        NaN        NaN          2.0   \n",
       "1510             0.0          0.0        NaN        NaN          2.0   \n",
       "1511             0.0          0.0        NaN        NaN          2.0   \n",
       "1512             0.0          0.0        NaN        NaN          2.0   \n",
       "\n",
       "               post_date  ...  \\\n",
       "0    2018-06-01 13:53:46  ...   \n",
       "1    2018-02-08 12:58:52  ...   \n",
       "2    2018-02-08 13:49:41  ...   \n",
       "3    2018-02-08 14:08:36  ...   \n",
       "4    2018-02-09 14:01:05  ...   \n",
       "...                  ...  ...   \n",
       "1508 2020-04-25 13:22:38  ...   \n",
       "1509 2020-05-02 14:53:40  ...   \n",
       "1510 2020-05-02 15:00:54  ...   \n",
       "1511 2020-06-09 15:42:04  ...   \n",
       "1512 2020-07-20 11:00:00  ...   \n",
       "\n",
       "                                              post_name       post_modified  \\\n",
       "0                                bon-cadeau-de-25-euros 2018-06-01 14:13:57   \n",
       "1           pierre-jean-villa-saint-joseph-preface-2018 2019-12-30 09:30:29   \n",
       "2             pierre-jean-villa-saint-joseph-tilde-2017 2019-12-21 09:00:17   \n",
       "3     pierre-jean-villa-croze-hermitage-accroche-coe... 2020-06-26 18:15:03   \n",
       "4                     pierre-jean-villa-igp-gamine-2018 2020-01-04 16:36:01   \n",
       "...                                                 ...                 ...   \n",
       "1508                    mouthes-le-bihan-aime-chai-2015 2020-08-26 17:35:03   \n",
       "1509         camin-larredya-jurancon-sec-la-virada-2018 2020-08-26 17:35:02   \n",
       "1510             jamet-cote-rotie-fructus-voluptas-2018 2020-08-14 18:15:03   \n",
       "1511     clos-du-mont-olivet-chateauneuf-du-pape-2007-2 2020-07-20 17:09:06   \n",
       "1512  domaine-saint-nicolas-fiefs-vendeens-blanc-les... 2020-08-13 10:45:03   \n",
       "\n",
       "       post_modified_gmt post_content_filtered post_parent  \\\n",
       "0    2018-06-01 12:13:57                   NaN         0.0   \n",
       "1    2019-12-30 08:30:29                   NaN         0.0   \n",
       "2    2019-12-21 08:00:17                   NaN         0.0   \n",
       "3    2020-06-26 16:15:03                   NaN         0.0   \n",
       "4    2020-01-04 15:36:01                   NaN         0.0   \n",
       "...                  ...                   ...         ...   \n",
       "1508 2020-08-26 15:35:03                   NaN         0.0   \n",
       "1509 2020-08-26 15:35:02                   NaN         0.0   \n",
       "1510 2020-08-14 16:15:03                   NaN         0.0   \n",
       "1511 2020-07-20 15:09:06                   NaN         0.0   \n",
       "1512 2020-08-13 08:45:03                   NaN         0.0   \n",
       "\n",
       "                                                   guid menu_order  \\\n",
       "0     https://www.bottle-neck.fr/?post_type=product&...        0.0   \n",
       "1     https://www.bottle-neck.fr/?post_type=product&...        0.0   \n",
       "2     https://www.bottle-neck.fr/?post_type=product&...        0.0   \n",
       "3     https://www.bottle-neck.fr/?post_type=product&...        0.0   \n",
       "4     https://www.bottle-neck.fr/?post_type=product&...        0.0   \n",
       "...                                                 ...        ...   \n",
       "1508  https://www.bottle-neck.fr/wp-content/uploads/...        0.0   \n",
       "1509  https://www.bottle-neck.fr/wp-content/uploads/...        0.0   \n",
       "1510  https://www.bottle-neck.fr/wp-content/uploads/...        0.0   \n",
       "1511  https://www.bottle-neck.fr/wp-content/uploads/...        0.0   \n",
       "1512  https://www.bottle-neck.fr/wp-content/uploads/...        0.0   \n",
       "\n",
       "       post_type post_mime_type comment_count  \n",
       "0        product            NaN           0.0  \n",
       "1        product            NaN           0.0  \n",
       "2        product            NaN           0.0  \n",
       "3        product            NaN           0.0  \n",
       "4        product            NaN           0.0  \n",
       "...          ...            ...           ...  \n",
       "1508  attachment     image/jpeg           0.0  \n",
       "1509  attachment     image/jpeg           0.0  \n",
       "1510  attachment     image/jpeg           0.0  \n",
       "1511  attachment     image/jpeg           0.0  \n",
       "1512  attachment     image/jpeg           0.0  \n",
       "\n",
       "[1513 rows x 28 columns]"
      ]
     },
     "execution_count": 21,
     "metadata": {},
     "output_type": "execute_result"
    }
   ],
   "source": [
    "web"
   ]
  },
  {
   "cell_type": "markdown",
   "metadata": {},
   "source": [
    "**On calculte le nombre de valeur NaN dans la colonne \"sku\".**"
   ]
  },
  {
   "cell_type": "code",
   "execution_count": 22,
   "metadata": {
    "ExecuteTime": {
     "end_time": "2022-02-06T11:47:44.594105Z",
     "start_time": "2022-02-06T11:47:44.520704Z"
    },
    "scrolled": true
   },
   "outputs": [
    {
     "name": "stdout",
     "output_type": "stream",
     "text": [
      "(85, 28)\n",
      " \n"
     ]
    },
    {
     "data": {
      "text/html": [
       "<div>\n",
       "<style scoped>\n",
       "    .dataframe tbody tr th:only-of-type {\n",
       "        vertical-align: middle;\n",
       "    }\n",
       "\n",
       "    .dataframe tbody tr th {\n",
       "        vertical-align: top;\n",
       "    }\n",
       "\n",
       "    .dataframe thead th {\n",
       "        text-align: right;\n",
       "    }\n",
       "</style>\n",
       "<table border=\"1\" class=\"dataframe\">\n",
       "  <thead>\n",
       "    <tr style=\"text-align: right;\">\n",
       "      <th></th>\n",
       "      <th>sku</th>\n",
       "      <th>virtual</th>\n",
       "      <th>downloadable</th>\n",
       "      <th>rating_count</th>\n",
       "      <th>average_rating</th>\n",
       "      <th>total_sales</th>\n",
       "      <th>tax_status</th>\n",
       "      <th>tax_class</th>\n",
       "      <th>post_author</th>\n",
       "      <th>post_date</th>\n",
       "      <th>...</th>\n",
       "      <th>post_name</th>\n",
       "      <th>post_modified</th>\n",
       "      <th>post_modified_gmt</th>\n",
       "      <th>post_content_filtered</th>\n",
       "      <th>post_parent</th>\n",
       "      <th>guid</th>\n",
       "      <th>menu_order</th>\n",
       "      <th>post_type</th>\n",
       "      <th>post_mime_type</th>\n",
       "      <th>comment_count</th>\n",
       "    </tr>\n",
       "  </thead>\n",
       "  <tbody>\n",
       "    <tr>\n",
       "      <td>178</td>\n",
       "      <td>NaN</td>\n",
       "      <td>0</td>\n",
       "      <td>0</td>\n",
       "      <td>0</td>\n",
       "      <td>NaN</td>\n",
       "      <td>NaN</td>\n",
       "      <td>NaN</td>\n",
       "      <td>NaN</td>\n",
       "      <td>NaN</td>\n",
       "      <td>NaT</td>\n",
       "      <td>...</td>\n",
       "      <td>NaN</td>\n",
       "      <td>NaT</td>\n",
       "      <td>NaT</td>\n",
       "      <td>NaN</td>\n",
       "      <td>NaN</td>\n",
       "      <td>NaN</td>\n",
       "      <td>NaN</td>\n",
       "      <td>NaN</td>\n",
       "      <td>NaN</td>\n",
       "      <td>NaN</td>\n",
       "    </tr>\n",
       "    <tr>\n",
       "      <td>179</td>\n",
       "      <td>NaN</td>\n",
       "      <td>0</td>\n",
       "      <td>0</td>\n",
       "      <td>0</td>\n",
       "      <td>NaN</td>\n",
       "      <td>NaN</td>\n",
       "      <td>NaN</td>\n",
       "      <td>NaN</td>\n",
       "      <td>NaN</td>\n",
       "      <td>NaT</td>\n",
       "      <td>...</td>\n",
       "      <td>NaN</td>\n",
       "      <td>NaT</td>\n",
       "      <td>NaT</td>\n",
       "      <td>NaN</td>\n",
       "      <td>NaN</td>\n",
       "      <td>NaN</td>\n",
       "      <td>NaN</td>\n",
       "      <td>NaN</td>\n",
       "      <td>NaN</td>\n",
       "      <td>NaN</td>\n",
       "    </tr>\n",
       "    <tr>\n",
       "      <td>227</td>\n",
       "      <td>NaN</td>\n",
       "      <td>0</td>\n",
       "      <td>0</td>\n",
       "      <td>0</td>\n",
       "      <td>NaN</td>\n",
       "      <td>NaN</td>\n",
       "      <td>NaN</td>\n",
       "      <td>NaN</td>\n",
       "      <td>NaN</td>\n",
       "      <td>NaT</td>\n",
       "      <td>...</td>\n",
       "      <td>NaN</td>\n",
       "      <td>NaT</td>\n",
       "      <td>NaT</td>\n",
       "      <td>NaN</td>\n",
       "      <td>NaN</td>\n",
       "      <td>NaN</td>\n",
       "      <td>NaN</td>\n",
       "      <td>NaN</td>\n",
       "      <td>NaN</td>\n",
       "      <td>NaN</td>\n",
       "    </tr>\n",
       "    <tr>\n",
       "      <td>230</td>\n",
       "      <td>NaN</td>\n",
       "      <td>0</td>\n",
       "      <td>0</td>\n",
       "      <td>0</td>\n",
       "      <td>NaN</td>\n",
       "      <td>NaN</td>\n",
       "      <td>NaN</td>\n",
       "      <td>NaN</td>\n",
       "      <td>NaN</td>\n",
       "      <td>NaT</td>\n",
       "      <td>...</td>\n",
       "      <td>NaN</td>\n",
       "      <td>NaT</td>\n",
       "      <td>NaT</td>\n",
       "      <td>NaN</td>\n",
       "      <td>NaN</td>\n",
       "      <td>NaN</td>\n",
       "      <td>NaN</td>\n",
       "      <td>NaN</td>\n",
       "      <td>NaN</td>\n",
       "      <td>NaN</td>\n",
       "    </tr>\n",
       "    <tr>\n",
       "      <td>231</td>\n",
       "      <td>NaN</td>\n",
       "      <td>0</td>\n",
       "      <td>0</td>\n",
       "      <td>0</td>\n",
       "      <td>NaN</td>\n",
       "      <td>NaN</td>\n",
       "      <td>NaN</td>\n",
       "      <td>NaN</td>\n",
       "      <td>NaN</td>\n",
       "      <td>NaT</td>\n",
       "      <td>...</td>\n",
       "      <td>NaN</td>\n",
       "      <td>NaT</td>\n",
       "      <td>NaT</td>\n",
       "      <td>NaN</td>\n",
       "      <td>NaN</td>\n",
       "      <td>NaN</td>\n",
       "      <td>NaN</td>\n",
       "      <td>NaN</td>\n",
       "      <td>NaN</td>\n",
       "      <td>NaN</td>\n",
       "    </tr>\n",
       "    <tr>\n",
       "      <td>233</td>\n",
       "      <td>NaN</td>\n",
       "      <td>0</td>\n",
       "      <td>0</td>\n",
       "      <td>0</td>\n",
       "      <td>NaN</td>\n",
       "      <td>NaN</td>\n",
       "      <td>NaN</td>\n",
       "      <td>NaN</td>\n",
       "      <td>NaN</td>\n",
       "      <td>NaT</td>\n",
       "      <td>...</td>\n",
       "      <td>NaN</td>\n",
       "      <td>NaT</td>\n",
       "      <td>NaT</td>\n",
       "      <td>NaN</td>\n",
       "      <td>NaN</td>\n",
       "      <td>NaN</td>\n",
       "      <td>NaN</td>\n",
       "      <td>NaN</td>\n",
       "      <td>NaN</td>\n",
       "      <td>NaN</td>\n",
       "    </tr>\n",
       "    <tr>\n",
       "      <td>237</td>\n",
       "      <td>NaN</td>\n",
       "      <td>0</td>\n",
       "      <td>0</td>\n",
       "      <td>0</td>\n",
       "      <td>NaN</td>\n",
       "      <td>NaN</td>\n",
       "      <td>NaN</td>\n",
       "      <td>NaN</td>\n",
       "      <td>NaN</td>\n",
       "      <td>NaT</td>\n",
       "      <td>...</td>\n",
       "      <td>NaN</td>\n",
       "      <td>NaT</td>\n",
       "      <td>NaT</td>\n",
       "      <td>NaN</td>\n",
       "      <td>NaN</td>\n",
       "      <td>NaN</td>\n",
       "      <td>NaN</td>\n",
       "      <td>NaN</td>\n",
       "      <td>NaN</td>\n",
       "      <td>NaN</td>\n",
       "    </tr>\n",
       "    <tr>\n",
       "      <td>283</td>\n",
       "      <td>NaN</td>\n",
       "      <td>0</td>\n",
       "      <td>0</td>\n",
       "      <td>0</td>\n",
       "      <td>NaN</td>\n",
       "      <td>NaN</td>\n",
       "      <td>NaN</td>\n",
       "      <td>NaN</td>\n",
       "      <td>NaN</td>\n",
       "      <td>NaT</td>\n",
       "      <td>...</td>\n",
       "      <td>NaN</td>\n",
       "      <td>NaT</td>\n",
       "      <td>NaT</td>\n",
       "      <td>NaN</td>\n",
       "      <td>NaN</td>\n",
       "      <td>NaN</td>\n",
       "      <td>NaN</td>\n",
       "      <td>NaN</td>\n",
       "      <td>NaN</td>\n",
       "      <td>NaN</td>\n",
       "    </tr>\n",
       "    <tr>\n",
       "      <td>309</td>\n",
       "      <td>NaN</td>\n",
       "      <td>0</td>\n",
       "      <td>0</td>\n",
       "      <td>0</td>\n",
       "      <td>NaN</td>\n",
       "      <td>NaN</td>\n",
       "      <td>NaN</td>\n",
       "      <td>NaN</td>\n",
       "      <td>NaN</td>\n",
       "      <td>NaT</td>\n",
       "      <td>...</td>\n",
       "      <td>NaN</td>\n",
       "      <td>NaT</td>\n",
       "      <td>NaT</td>\n",
       "      <td>NaN</td>\n",
       "      <td>NaN</td>\n",
       "      <td>NaN</td>\n",
       "      <td>NaN</td>\n",
       "      <td>NaN</td>\n",
       "      <td>NaN</td>\n",
       "      <td>NaN</td>\n",
       "    </tr>\n",
       "    <tr>\n",
       "      <td>310</td>\n",
       "      <td>NaN</td>\n",
       "      <td>0</td>\n",
       "      <td>0</td>\n",
       "      <td>0</td>\n",
       "      <td>NaN</td>\n",
       "      <td>NaN</td>\n",
       "      <td>NaN</td>\n",
       "      <td>NaN</td>\n",
       "      <td>NaN</td>\n",
       "      <td>NaT</td>\n",
       "      <td>...</td>\n",
       "      <td>NaN</td>\n",
       "      <td>NaT</td>\n",
       "      <td>NaT</td>\n",
       "      <td>NaN</td>\n",
       "      <td>NaN</td>\n",
       "      <td>NaN</td>\n",
       "      <td>NaN</td>\n",
       "      <td>NaN</td>\n",
       "      <td>NaN</td>\n",
       "      <td>NaN</td>\n",
       "    </tr>\n",
       "    <tr>\n",
       "      <td>311</td>\n",
       "      <td>NaN</td>\n",
       "      <td>0</td>\n",
       "      <td>0</td>\n",
       "      <td>0</td>\n",
       "      <td>NaN</td>\n",
       "      <td>NaN</td>\n",
       "      <td>NaN</td>\n",
       "      <td>NaN</td>\n",
       "      <td>NaN</td>\n",
       "      <td>NaT</td>\n",
       "      <td>...</td>\n",
       "      <td>NaN</td>\n",
       "      <td>NaT</td>\n",
       "      <td>NaT</td>\n",
       "      <td>NaN</td>\n",
       "      <td>NaN</td>\n",
       "      <td>NaN</td>\n",
       "      <td>NaN</td>\n",
       "      <td>NaN</td>\n",
       "      <td>NaN</td>\n",
       "      <td>NaN</td>\n",
       "    </tr>\n",
       "    <tr>\n",
       "      <td>312</td>\n",
       "      <td>NaN</td>\n",
       "      <td>0</td>\n",
       "      <td>0</td>\n",
       "      <td>0</td>\n",
       "      <td>NaN</td>\n",
       "      <td>NaN</td>\n",
       "      <td>NaN</td>\n",
       "      <td>NaN</td>\n",
       "      <td>NaN</td>\n",
       "      <td>NaT</td>\n",
       "      <td>...</td>\n",
       "      <td>NaN</td>\n",
       "      <td>NaT</td>\n",
       "      <td>NaT</td>\n",
       "      <td>NaN</td>\n",
       "      <td>NaN</td>\n",
       "      <td>NaN</td>\n",
       "      <td>NaN</td>\n",
       "      <td>NaN</td>\n",
       "      <td>NaN</td>\n",
       "      <td>NaN</td>\n",
       "    </tr>\n",
       "    <tr>\n",
       "      <td>313</td>\n",
       "      <td>NaN</td>\n",
       "      <td>0</td>\n",
       "      <td>0</td>\n",
       "      <td>0</td>\n",
       "      <td>NaN</td>\n",
       "      <td>NaN</td>\n",
       "      <td>NaN</td>\n",
       "      <td>NaN</td>\n",
       "      <td>NaN</td>\n",
       "      <td>NaT</td>\n",
       "      <td>...</td>\n",
       "      <td>NaN</td>\n",
       "      <td>NaT</td>\n",
       "      <td>NaT</td>\n",
       "      <td>NaN</td>\n",
       "      <td>NaN</td>\n",
       "      <td>NaN</td>\n",
       "      <td>NaN</td>\n",
       "      <td>NaN</td>\n",
       "      <td>NaN</td>\n",
       "      <td>NaN</td>\n",
       "    </tr>\n",
       "    <tr>\n",
       "      <td>331</td>\n",
       "      <td>NaN</td>\n",
       "      <td>0</td>\n",
       "      <td>0</td>\n",
       "      <td>0</td>\n",
       "      <td>NaN</td>\n",
       "      <td>NaN</td>\n",
       "      <td>NaN</td>\n",
       "      <td>NaN</td>\n",
       "      <td>NaN</td>\n",
       "      <td>NaT</td>\n",
       "      <td>...</td>\n",
       "      <td>NaN</td>\n",
       "      <td>NaT</td>\n",
       "      <td>NaT</td>\n",
       "      <td>NaN</td>\n",
       "      <td>NaN</td>\n",
       "      <td>NaN</td>\n",
       "      <td>NaN</td>\n",
       "      <td>NaN</td>\n",
       "      <td>NaN</td>\n",
       "      <td>NaN</td>\n",
       "    </tr>\n",
       "    <tr>\n",
       "      <td>343</td>\n",
       "      <td>NaN</td>\n",
       "      <td>0</td>\n",
       "      <td>0</td>\n",
       "      <td>0</td>\n",
       "      <td>NaN</td>\n",
       "      <td>NaN</td>\n",
       "      <td>NaN</td>\n",
       "      <td>NaN</td>\n",
       "      <td>NaN</td>\n",
       "      <td>NaT</td>\n",
       "      <td>...</td>\n",
       "      <td>NaN</td>\n",
       "      <td>NaT</td>\n",
       "      <td>NaT</td>\n",
       "      <td>NaN</td>\n",
       "      <td>NaN</td>\n",
       "      <td>NaN</td>\n",
       "      <td>NaN</td>\n",
       "      <td>NaN</td>\n",
       "      <td>NaN</td>\n",
       "      <td>NaN</td>\n",
       "    </tr>\n",
       "    <tr>\n",
       "      <td>346</td>\n",
       "      <td>NaN</td>\n",
       "      <td>0</td>\n",
       "      <td>0</td>\n",
       "      <td>0</td>\n",
       "      <td>NaN</td>\n",
       "      <td>NaN</td>\n",
       "      <td>NaN</td>\n",
       "      <td>NaN</td>\n",
       "      <td>NaN</td>\n",
       "      <td>NaT</td>\n",
       "      <td>...</td>\n",
       "      <td>NaN</td>\n",
       "      <td>NaT</td>\n",
       "      <td>NaT</td>\n",
       "      <td>NaN</td>\n",
       "      <td>NaN</td>\n",
       "      <td>NaN</td>\n",
       "      <td>NaN</td>\n",
       "      <td>NaN</td>\n",
       "      <td>NaN</td>\n",
       "      <td>NaN</td>\n",
       "    </tr>\n",
       "    <tr>\n",
       "      <td>374</td>\n",
       "      <td>NaN</td>\n",
       "      <td>0</td>\n",
       "      <td>0</td>\n",
       "      <td>0</td>\n",
       "      <td>NaN</td>\n",
       "      <td>NaN</td>\n",
       "      <td>NaN</td>\n",
       "      <td>NaN</td>\n",
       "      <td>NaN</td>\n",
       "      <td>NaT</td>\n",
       "      <td>...</td>\n",
       "      <td>NaN</td>\n",
       "      <td>NaT</td>\n",
       "      <td>NaT</td>\n",
       "      <td>NaN</td>\n",
       "      <td>NaN</td>\n",
       "      <td>NaN</td>\n",
       "      <td>NaN</td>\n",
       "      <td>NaN</td>\n",
       "      <td>NaN</td>\n",
       "      <td>NaN</td>\n",
       "    </tr>\n",
       "    <tr>\n",
       "      <td>384</td>\n",
       "      <td>NaN</td>\n",
       "      <td>0</td>\n",
       "      <td>0</td>\n",
       "      <td>0</td>\n",
       "      <td>NaN</td>\n",
       "      <td>NaN</td>\n",
       "      <td>NaN</td>\n",
       "      <td>NaN</td>\n",
       "      <td>NaN</td>\n",
       "      <td>NaT</td>\n",
       "      <td>...</td>\n",
       "      <td>NaN</td>\n",
       "      <td>NaT</td>\n",
       "      <td>NaT</td>\n",
       "      <td>NaN</td>\n",
       "      <td>NaN</td>\n",
       "      <td>NaN</td>\n",
       "      <td>NaN</td>\n",
       "      <td>NaN</td>\n",
       "      <td>NaN</td>\n",
       "      <td>NaN</td>\n",
       "    </tr>\n",
       "    <tr>\n",
       "      <td>404</td>\n",
       "      <td>NaN</td>\n",
       "      <td>0</td>\n",
       "      <td>0</td>\n",
       "      <td>0</td>\n",
       "      <td>NaN</td>\n",
       "      <td>NaN</td>\n",
       "      <td>NaN</td>\n",
       "      <td>NaN</td>\n",
       "      <td>NaN</td>\n",
       "      <td>NaT</td>\n",
       "      <td>...</td>\n",
       "      <td>NaN</td>\n",
       "      <td>NaT</td>\n",
       "      <td>NaT</td>\n",
       "      <td>NaN</td>\n",
       "      <td>NaN</td>\n",
       "      <td>NaN</td>\n",
       "      <td>NaN</td>\n",
       "      <td>NaN</td>\n",
       "      <td>NaN</td>\n",
       "      <td>NaN</td>\n",
       "    </tr>\n",
       "    <tr>\n",
       "      <td>435</td>\n",
       "      <td>NaN</td>\n",
       "      <td>0</td>\n",
       "      <td>0</td>\n",
       "      <td>0</td>\n",
       "      <td>NaN</td>\n",
       "      <td>NaN</td>\n",
       "      <td>NaN</td>\n",
       "      <td>NaN</td>\n",
       "      <td>NaN</td>\n",
       "      <td>NaT</td>\n",
       "      <td>...</td>\n",
       "      <td>NaN</td>\n",
       "      <td>NaT</td>\n",
       "      <td>NaT</td>\n",
       "      <td>NaN</td>\n",
       "      <td>NaN</td>\n",
       "      <td>NaN</td>\n",
       "      <td>NaN</td>\n",
       "      <td>NaN</td>\n",
       "      <td>NaN</td>\n",
       "      <td>NaN</td>\n",
       "    </tr>\n",
       "    <tr>\n",
       "      <td>455</td>\n",
       "      <td>NaN</td>\n",
       "      <td>0</td>\n",
       "      <td>0</td>\n",
       "      <td>0</td>\n",
       "      <td>NaN</td>\n",
       "      <td>NaN</td>\n",
       "      <td>NaN</td>\n",
       "      <td>NaN</td>\n",
       "      <td>NaN</td>\n",
       "      <td>NaT</td>\n",
       "      <td>...</td>\n",
       "      <td>NaN</td>\n",
       "      <td>NaT</td>\n",
       "      <td>NaT</td>\n",
       "      <td>NaN</td>\n",
       "      <td>NaN</td>\n",
       "      <td>NaN</td>\n",
       "      <td>NaN</td>\n",
       "      <td>NaN</td>\n",
       "      <td>NaN</td>\n",
       "      <td>NaN</td>\n",
       "    </tr>\n",
       "    <tr>\n",
       "      <td>457</td>\n",
       "      <td>NaN</td>\n",
       "      <td>0</td>\n",
       "      <td>0</td>\n",
       "      <td>0</td>\n",
       "      <td>NaN</td>\n",
       "      <td>NaN</td>\n",
       "      <td>NaN</td>\n",
       "      <td>NaN</td>\n",
       "      <td>NaN</td>\n",
       "      <td>NaT</td>\n",
       "      <td>...</td>\n",
       "      <td>NaN</td>\n",
       "      <td>NaT</td>\n",
       "      <td>NaT</td>\n",
       "      <td>NaN</td>\n",
       "      <td>NaN</td>\n",
       "      <td>NaN</td>\n",
       "      <td>NaN</td>\n",
       "      <td>NaN</td>\n",
       "      <td>NaN</td>\n",
       "      <td>NaN</td>\n",
       "    </tr>\n",
       "    <tr>\n",
       "      <td>470</td>\n",
       "      <td>NaN</td>\n",
       "      <td>0</td>\n",
       "      <td>0</td>\n",
       "      <td>0</td>\n",
       "      <td>0.0</td>\n",
       "      <td>0.0</td>\n",
       "      <td>taxable</td>\n",
       "      <td>NaN</td>\n",
       "      <td>2.0</td>\n",
       "      <td>2018-07-31 12:07:23</td>\n",
       "      <td>...</td>\n",
       "      <td>pierre-jean-villa-cote-rotie-fongeant-2017</td>\n",
       "      <td>2019-11-02 13:24:15</td>\n",
       "      <td>2019-11-02 12:24:15</td>\n",
       "      <td>NaN</td>\n",
       "      <td>0.0</td>\n",
       "      <td>https://www.bottle-neck.fr/?post_type=product&amp;...</td>\n",
       "      <td>0.0</td>\n",
       "      <td>product</td>\n",
       "      <td>NaN</td>\n",
       "      <td>0.0</td>\n",
       "    </tr>\n",
       "    <tr>\n",
       "      <td>471</td>\n",
       "      <td>NaN</td>\n",
       "      <td>0</td>\n",
       "      <td>0</td>\n",
       "      <td>0</td>\n",
       "      <td>0.0</td>\n",
       "      <td>0.0</td>\n",
       "      <td>taxable</td>\n",
       "      <td>NaN</td>\n",
       "      <td>2.0</td>\n",
       "      <td>2018-08-08 11:23:43</td>\n",
       "      <td>...</td>\n",
       "      <td>pierre-jean-villa-condrieu-suspendu-2018</td>\n",
       "      <td>2019-11-02 13:24:01</td>\n",
       "      <td>2019-11-02 12:24:01</td>\n",
       "      <td>NaN</td>\n",
       "      <td>0.0</td>\n",
       "      <td>https://www.bottle-neck.fr/?post_type=product&amp;...</td>\n",
       "      <td>0.0</td>\n",
       "      <td>product</td>\n",
       "      <td>NaN</td>\n",
       "      <td>0.0</td>\n",
       "    </tr>\n",
       "    <tr>\n",
       "      <td>523</td>\n",
       "      <td>NaN</td>\n",
       "      <td>0</td>\n",
       "      <td>0</td>\n",
       "      <td>0</td>\n",
       "      <td>NaN</td>\n",
       "      <td>NaN</td>\n",
       "      <td>NaN</td>\n",
       "      <td>NaN</td>\n",
       "      <td>NaN</td>\n",
       "      <td>NaT</td>\n",
       "      <td>...</td>\n",
       "      <td>NaN</td>\n",
       "      <td>NaT</td>\n",
       "      <td>NaT</td>\n",
       "      <td>NaN</td>\n",
       "      <td>NaN</td>\n",
       "      <td>NaN</td>\n",
       "      <td>NaN</td>\n",
       "      <td>NaN</td>\n",
       "      <td>NaN</td>\n",
       "      <td>NaN</td>\n",
       "    </tr>\n",
       "    <tr>\n",
       "      <td>529</td>\n",
       "      <td>NaN</td>\n",
       "      <td>0</td>\n",
       "      <td>0</td>\n",
       "      <td>0</td>\n",
       "      <td>NaN</td>\n",
       "      <td>NaN</td>\n",
       "      <td>NaN</td>\n",
       "      <td>NaN</td>\n",
       "      <td>NaN</td>\n",
       "      <td>NaT</td>\n",
       "      <td>...</td>\n",
       "      <td>NaN</td>\n",
       "      <td>NaT</td>\n",
       "      <td>NaT</td>\n",
       "      <td>NaN</td>\n",
       "      <td>NaN</td>\n",
       "      <td>NaN</td>\n",
       "      <td>NaN</td>\n",
       "      <td>NaN</td>\n",
       "      <td>NaN</td>\n",
       "      <td>NaN</td>\n",
       "    </tr>\n",
       "    <tr>\n",
       "      <td>598</td>\n",
       "      <td>NaN</td>\n",
       "      <td>0</td>\n",
       "      <td>0</td>\n",
       "      <td>0</td>\n",
       "      <td>NaN</td>\n",
       "      <td>NaN</td>\n",
       "      <td>NaN</td>\n",
       "      <td>NaN</td>\n",
       "      <td>NaN</td>\n",
       "      <td>NaT</td>\n",
       "      <td>...</td>\n",
       "      <td>NaN</td>\n",
       "      <td>NaT</td>\n",
       "      <td>NaT</td>\n",
       "      <td>NaN</td>\n",
       "      <td>NaN</td>\n",
       "      <td>NaN</td>\n",
       "      <td>NaN</td>\n",
       "      <td>NaN</td>\n",
       "      <td>NaN</td>\n",
       "      <td>NaN</td>\n",
       "    </tr>\n",
       "    <tr>\n",
       "      <td>601</td>\n",
       "      <td>NaN</td>\n",
       "      <td>0</td>\n",
       "      <td>0</td>\n",
       "      <td>0</td>\n",
       "      <td>NaN</td>\n",
       "      <td>NaN</td>\n",
       "      <td>NaN</td>\n",
       "      <td>NaN</td>\n",
       "      <td>NaN</td>\n",
       "      <td>NaT</td>\n",
       "      <td>...</td>\n",
       "      <td>NaN</td>\n",
       "      <td>NaT</td>\n",
       "      <td>NaT</td>\n",
       "      <td>NaN</td>\n",
       "      <td>NaN</td>\n",
       "      <td>NaN</td>\n",
       "      <td>NaN</td>\n",
       "      <td>NaN</td>\n",
       "      <td>NaN</td>\n",
       "      <td>NaN</td>\n",
       "    </tr>\n",
       "    <tr>\n",
       "      <td>639</td>\n",
       "      <td>NaN</td>\n",
       "      <td>0</td>\n",
       "      <td>0</td>\n",
       "      <td>0</td>\n",
       "      <td>NaN</td>\n",
       "      <td>NaN</td>\n",
       "      <td>NaN</td>\n",
       "      <td>NaN</td>\n",
       "      <td>NaN</td>\n",
       "      <td>NaT</td>\n",
       "      <td>...</td>\n",
       "      <td>NaN</td>\n",
       "      <td>NaT</td>\n",
       "      <td>NaT</td>\n",
       "      <td>NaN</td>\n",
       "      <td>NaN</td>\n",
       "      <td>NaN</td>\n",
       "      <td>NaN</td>\n",
       "      <td>NaN</td>\n",
       "      <td>NaN</td>\n",
       "      <td>NaN</td>\n",
       "    </tr>\n",
       "    <tr>\n",
       "      <td>671</td>\n",
       "      <td>NaN</td>\n",
       "      <td>0</td>\n",
       "      <td>0</td>\n",
       "      <td>0</td>\n",
       "      <td>NaN</td>\n",
       "      <td>NaN</td>\n",
       "      <td>NaN</td>\n",
       "      <td>NaN</td>\n",
       "      <td>NaN</td>\n",
       "      <td>NaT</td>\n",
       "      <td>...</td>\n",
       "      <td>NaN</td>\n",
       "      <td>NaT</td>\n",
       "      <td>NaT</td>\n",
       "      <td>NaN</td>\n",
       "      <td>NaN</td>\n",
       "      <td>NaN</td>\n",
       "      <td>NaN</td>\n",
       "      <td>NaN</td>\n",
       "      <td>NaN</td>\n",
       "      <td>NaN</td>\n",
       "    </tr>\n",
       "  </tbody>\n",
       "</table>\n",
       "<p>30 rows × 28 columns</p>\n",
       "</div>"
      ],
      "text/plain": [
       "     sku  virtual  downloadable  rating_count  average_rating  total_sales  \\\n",
       "178  NaN        0             0             0             NaN          NaN   \n",
       "179  NaN        0             0             0             NaN          NaN   \n",
       "227  NaN        0             0             0             NaN          NaN   \n",
       "230  NaN        0             0             0             NaN          NaN   \n",
       "231  NaN        0             0             0             NaN          NaN   \n",
       "233  NaN        0             0             0             NaN          NaN   \n",
       "237  NaN        0             0             0             NaN          NaN   \n",
       "283  NaN        0             0             0             NaN          NaN   \n",
       "309  NaN        0             0             0             NaN          NaN   \n",
       "310  NaN        0             0             0             NaN          NaN   \n",
       "311  NaN        0             0             0             NaN          NaN   \n",
       "312  NaN        0             0             0             NaN          NaN   \n",
       "313  NaN        0             0             0             NaN          NaN   \n",
       "331  NaN        0             0             0             NaN          NaN   \n",
       "343  NaN        0             0             0             NaN          NaN   \n",
       "346  NaN        0             0             0             NaN          NaN   \n",
       "374  NaN        0             0             0             NaN          NaN   \n",
       "384  NaN        0             0             0             NaN          NaN   \n",
       "404  NaN        0             0             0             NaN          NaN   \n",
       "435  NaN        0             0             0             NaN          NaN   \n",
       "455  NaN        0             0             0             NaN          NaN   \n",
       "457  NaN        0             0             0             NaN          NaN   \n",
       "470  NaN        0             0             0             0.0          0.0   \n",
       "471  NaN        0             0             0             0.0          0.0   \n",
       "523  NaN        0             0             0             NaN          NaN   \n",
       "529  NaN        0             0             0             NaN          NaN   \n",
       "598  NaN        0             0             0             NaN          NaN   \n",
       "601  NaN        0             0             0             NaN          NaN   \n",
       "639  NaN        0             0             0             NaN          NaN   \n",
       "671  NaN        0             0             0             NaN          NaN   \n",
       "\n",
       "    tax_status  tax_class  post_author           post_date  ...  \\\n",
       "178        NaN        NaN          NaN                 NaT  ...   \n",
       "179        NaN        NaN          NaN                 NaT  ...   \n",
       "227        NaN        NaN          NaN                 NaT  ...   \n",
       "230        NaN        NaN          NaN                 NaT  ...   \n",
       "231        NaN        NaN          NaN                 NaT  ...   \n",
       "233        NaN        NaN          NaN                 NaT  ...   \n",
       "237        NaN        NaN          NaN                 NaT  ...   \n",
       "283        NaN        NaN          NaN                 NaT  ...   \n",
       "309        NaN        NaN          NaN                 NaT  ...   \n",
       "310        NaN        NaN          NaN                 NaT  ...   \n",
       "311        NaN        NaN          NaN                 NaT  ...   \n",
       "312        NaN        NaN          NaN                 NaT  ...   \n",
       "313        NaN        NaN          NaN                 NaT  ...   \n",
       "331        NaN        NaN          NaN                 NaT  ...   \n",
       "343        NaN        NaN          NaN                 NaT  ...   \n",
       "346        NaN        NaN          NaN                 NaT  ...   \n",
       "374        NaN        NaN          NaN                 NaT  ...   \n",
       "384        NaN        NaN          NaN                 NaT  ...   \n",
       "404        NaN        NaN          NaN                 NaT  ...   \n",
       "435        NaN        NaN          NaN                 NaT  ...   \n",
       "455        NaN        NaN          NaN                 NaT  ...   \n",
       "457        NaN        NaN          NaN                 NaT  ...   \n",
       "470    taxable        NaN          2.0 2018-07-31 12:07:23  ...   \n",
       "471    taxable        NaN          2.0 2018-08-08 11:23:43  ...   \n",
       "523        NaN        NaN          NaN                 NaT  ...   \n",
       "529        NaN        NaN          NaN                 NaT  ...   \n",
       "598        NaN        NaN          NaN                 NaT  ...   \n",
       "601        NaN        NaN          NaN                 NaT  ...   \n",
       "639        NaN        NaN          NaN                 NaT  ...   \n",
       "671        NaN        NaN          NaN                 NaT  ...   \n",
       "\n",
       "                                      post_name       post_modified  \\\n",
       "178                                         NaN                 NaT   \n",
       "179                                         NaN                 NaT   \n",
       "227                                         NaN                 NaT   \n",
       "230                                         NaN                 NaT   \n",
       "231                                         NaN                 NaT   \n",
       "233                                         NaN                 NaT   \n",
       "237                                         NaN                 NaT   \n",
       "283                                         NaN                 NaT   \n",
       "309                                         NaN                 NaT   \n",
       "310                                         NaN                 NaT   \n",
       "311                                         NaN                 NaT   \n",
       "312                                         NaN                 NaT   \n",
       "313                                         NaN                 NaT   \n",
       "331                                         NaN                 NaT   \n",
       "343                                         NaN                 NaT   \n",
       "346                                         NaN                 NaT   \n",
       "374                                         NaN                 NaT   \n",
       "384                                         NaN                 NaT   \n",
       "404                                         NaN                 NaT   \n",
       "435                                         NaN                 NaT   \n",
       "455                                         NaN                 NaT   \n",
       "457                                         NaN                 NaT   \n",
       "470  pierre-jean-villa-cote-rotie-fongeant-2017 2019-11-02 13:24:15   \n",
       "471    pierre-jean-villa-condrieu-suspendu-2018 2019-11-02 13:24:01   \n",
       "523                                         NaN                 NaT   \n",
       "529                                         NaN                 NaT   \n",
       "598                                         NaN                 NaT   \n",
       "601                                         NaN                 NaT   \n",
       "639                                         NaN                 NaT   \n",
       "671                                         NaN                 NaT   \n",
       "\n",
       "      post_modified_gmt post_content_filtered post_parent  \\\n",
       "178                 NaT                   NaN         NaN   \n",
       "179                 NaT                   NaN         NaN   \n",
       "227                 NaT                   NaN         NaN   \n",
       "230                 NaT                   NaN         NaN   \n",
       "231                 NaT                   NaN         NaN   \n",
       "233                 NaT                   NaN         NaN   \n",
       "237                 NaT                   NaN         NaN   \n",
       "283                 NaT                   NaN         NaN   \n",
       "309                 NaT                   NaN         NaN   \n",
       "310                 NaT                   NaN         NaN   \n",
       "311                 NaT                   NaN         NaN   \n",
       "312                 NaT                   NaN         NaN   \n",
       "313                 NaT                   NaN         NaN   \n",
       "331                 NaT                   NaN         NaN   \n",
       "343                 NaT                   NaN         NaN   \n",
       "346                 NaT                   NaN         NaN   \n",
       "374                 NaT                   NaN         NaN   \n",
       "384                 NaT                   NaN         NaN   \n",
       "404                 NaT                   NaN         NaN   \n",
       "435                 NaT                   NaN         NaN   \n",
       "455                 NaT                   NaN         NaN   \n",
       "457                 NaT                   NaN         NaN   \n",
       "470 2019-11-02 12:24:15                   NaN         0.0   \n",
       "471 2019-11-02 12:24:01                   NaN         0.0   \n",
       "523                 NaT                   NaN         NaN   \n",
       "529                 NaT                   NaN         NaN   \n",
       "598                 NaT                   NaN         NaN   \n",
       "601                 NaT                   NaN         NaN   \n",
       "639                 NaT                   NaN         NaN   \n",
       "671                 NaT                   NaN         NaN   \n",
       "\n",
       "                                                  guid menu_order  post_type  \\\n",
       "178                                                NaN        NaN        NaN   \n",
       "179                                                NaN        NaN        NaN   \n",
       "227                                                NaN        NaN        NaN   \n",
       "230                                                NaN        NaN        NaN   \n",
       "231                                                NaN        NaN        NaN   \n",
       "233                                                NaN        NaN        NaN   \n",
       "237                                                NaN        NaN        NaN   \n",
       "283                                                NaN        NaN        NaN   \n",
       "309                                                NaN        NaN        NaN   \n",
       "310                                                NaN        NaN        NaN   \n",
       "311                                                NaN        NaN        NaN   \n",
       "312                                                NaN        NaN        NaN   \n",
       "313                                                NaN        NaN        NaN   \n",
       "331                                                NaN        NaN        NaN   \n",
       "343                                                NaN        NaN        NaN   \n",
       "346                                                NaN        NaN        NaN   \n",
       "374                                                NaN        NaN        NaN   \n",
       "384                                                NaN        NaN        NaN   \n",
       "404                                                NaN        NaN        NaN   \n",
       "435                                                NaN        NaN        NaN   \n",
       "455                                                NaN        NaN        NaN   \n",
       "457                                                NaN        NaN        NaN   \n",
       "470  https://www.bottle-neck.fr/?post_type=product&...        0.0    product   \n",
       "471  https://www.bottle-neck.fr/?post_type=product&...        0.0    product   \n",
       "523                                                NaN        NaN        NaN   \n",
       "529                                                NaN        NaN        NaN   \n",
       "598                                                NaN        NaN        NaN   \n",
       "601                                                NaN        NaN        NaN   \n",
       "639                                                NaN        NaN        NaN   \n",
       "671                                                NaN        NaN        NaN   \n",
       "\n",
       "    post_mime_type comment_count  \n",
       "178            NaN           NaN  \n",
       "179            NaN           NaN  \n",
       "227            NaN           NaN  \n",
       "230            NaN           NaN  \n",
       "231            NaN           NaN  \n",
       "233            NaN           NaN  \n",
       "237            NaN           NaN  \n",
       "283            NaN           NaN  \n",
       "309            NaN           NaN  \n",
       "310            NaN           NaN  \n",
       "311            NaN           NaN  \n",
       "312            NaN           NaN  \n",
       "313            NaN           NaN  \n",
       "331            NaN           NaN  \n",
       "343            NaN           NaN  \n",
       "346            NaN           NaN  \n",
       "374            NaN           NaN  \n",
       "384            NaN           NaN  \n",
       "404            NaN           NaN  \n",
       "435            NaN           NaN  \n",
       "455            NaN           NaN  \n",
       "457            NaN           NaN  \n",
       "470            NaN           0.0  \n",
       "471            NaN           0.0  \n",
       "523            NaN           NaN  \n",
       "529            NaN           NaN  \n",
       "598            NaN           NaN  \n",
       "601            NaN           NaN  \n",
       "639            NaN           NaN  \n",
       "671            NaN           NaN  \n",
       "\n",
       "[30 rows x 28 columns]"
      ]
     },
     "execution_count": 22,
     "metadata": {},
     "output_type": "execute_result"
    }
   ],
   "source": [
    "recherche_null = web [ web[\"sku\"].isnull()]\n",
    "print(recherche_null.shape)\n",
    "print(\" \")\n",
    "recherche_null.head(30)"
   ]
  },
  {
   "cell_type": "markdown",
   "metadata": {},
   "source": [
    "**Le nombre des NaNs dans la colonne \"sku\" est de 85.**"
   ]
  },
  {
   "cell_type": "code",
   "execution_count": 23,
   "metadata": {
    "ExecuteTime": {
     "end_time": "2022-02-06T11:47:44.683157Z",
     "start_time": "2022-02-06T11:47:44.615791Z"
    }
   },
   "outputs": [
    {
     "data": {
      "text/html": [
       "<div>\n",
       "<style scoped>\n",
       "    .dataframe tbody tr th:only-of-type {\n",
       "        vertical-align: middle;\n",
       "    }\n",
       "\n",
       "    .dataframe tbody tr th {\n",
       "        vertical-align: top;\n",
       "    }\n",
       "\n",
       "    .dataframe thead th {\n",
       "        text-align: right;\n",
       "    }\n",
       "</style>\n",
       "<table border=\"1\" class=\"dataframe\">\n",
       "  <thead>\n",
       "    <tr style=\"text-align: right;\">\n",
       "      <th></th>\n",
       "      <th>sku</th>\n",
       "      <th>virtual</th>\n",
       "      <th>downloadable</th>\n",
       "      <th>rating_count</th>\n",
       "      <th>average_rating</th>\n",
       "      <th>total_sales</th>\n",
       "      <th>tax_status</th>\n",
       "      <th>tax_class</th>\n",
       "      <th>post_author</th>\n",
       "      <th>post_date</th>\n",
       "      <th>...</th>\n",
       "      <th>post_name</th>\n",
       "      <th>post_modified</th>\n",
       "      <th>post_modified_gmt</th>\n",
       "      <th>post_content_filtered</th>\n",
       "      <th>post_parent</th>\n",
       "      <th>guid</th>\n",
       "      <th>menu_order</th>\n",
       "      <th>post_type</th>\n",
       "      <th>post_mime_type</th>\n",
       "      <th>comment_count</th>\n",
       "    </tr>\n",
       "  </thead>\n",
       "  <tbody>\n",
       "    <tr>\n",
       "      <td>470</td>\n",
       "      <td>NaN</td>\n",
       "      <td>0</td>\n",
       "      <td>0</td>\n",
       "      <td>0</td>\n",
       "      <td>0.0</td>\n",
       "      <td>0.0</td>\n",
       "      <td>taxable</td>\n",
       "      <td>NaN</td>\n",
       "      <td>2.0</td>\n",
       "      <td>2018-07-31 12:07:23</td>\n",
       "      <td>...</td>\n",
       "      <td>pierre-jean-villa-cote-rotie-fongeant-2017</td>\n",
       "      <td>2019-11-02 13:24:15</td>\n",
       "      <td>2019-11-02 12:24:15</td>\n",
       "      <td>NaN</td>\n",
       "      <td>0.0</td>\n",
       "      <td>https://www.bottle-neck.fr/?post_type=product&amp;...</td>\n",
       "      <td>0.0</td>\n",
       "      <td>product</td>\n",
       "      <td>NaN</td>\n",
       "      <td>0.0</td>\n",
       "    </tr>\n",
       "    <tr>\n",
       "      <td>471</td>\n",
       "      <td>NaN</td>\n",
       "      <td>0</td>\n",
       "      <td>0</td>\n",
       "      <td>0</td>\n",
       "      <td>0.0</td>\n",
       "      <td>0.0</td>\n",
       "      <td>taxable</td>\n",
       "      <td>NaN</td>\n",
       "      <td>2.0</td>\n",
       "      <td>2018-08-08 11:23:43</td>\n",
       "      <td>...</td>\n",
       "      <td>pierre-jean-villa-condrieu-suspendu-2018</td>\n",
       "      <td>2019-11-02 13:24:01</td>\n",
       "      <td>2019-11-02 12:24:01</td>\n",
       "      <td>NaN</td>\n",
       "      <td>0.0</td>\n",
       "      <td>https://www.bottle-neck.fr/?post_type=product&amp;...</td>\n",
       "      <td>0.0</td>\n",
       "      <td>product</td>\n",
       "      <td>NaN</td>\n",
       "      <td>0.0</td>\n",
       "    </tr>\n",
       "  </tbody>\n",
       "</table>\n",
       "<p>2 rows × 28 columns</p>\n",
       "</div>"
      ],
      "text/plain": [
       "     sku  virtual  downloadable  rating_count  average_rating  total_sales  \\\n",
       "470  NaN        0             0             0             0.0          0.0   \n",
       "471  NaN        0             0             0             0.0          0.0   \n",
       "\n",
       "    tax_status  tax_class  post_author           post_date  ...  \\\n",
       "470    taxable        NaN          2.0 2018-07-31 12:07:23  ...   \n",
       "471    taxable        NaN          2.0 2018-08-08 11:23:43  ...   \n",
       "\n",
       "                                      post_name       post_modified  \\\n",
       "470  pierre-jean-villa-cote-rotie-fongeant-2017 2019-11-02 13:24:15   \n",
       "471    pierre-jean-villa-condrieu-suspendu-2018 2019-11-02 13:24:01   \n",
       "\n",
       "      post_modified_gmt post_content_filtered post_parent  \\\n",
       "470 2019-11-02 12:24:15                   NaN         0.0   \n",
       "471 2019-11-02 12:24:01                   NaN         0.0   \n",
       "\n",
       "                                                  guid menu_order  post_type  \\\n",
       "470  https://www.bottle-neck.fr/?post_type=product&...        0.0    product   \n",
       "471  https://www.bottle-neck.fr/?post_type=product&...        0.0    product   \n",
       "\n",
       "    post_mime_type comment_count  \n",
       "470            NaN           0.0  \n",
       "471            NaN           0.0  \n",
       "\n",
       "[2 rows x 28 columns]"
      ]
     },
     "execution_count": 23,
     "metadata": {},
     "output_type": "execute_result"
    }
   ],
   "source": [
    "# recuperation des lignes contenant de l'informations sur de vrais produits = > investiguer aupres des collegues\n",
    "ligne = recherche_null[recherche_null['post_name'].notnull()]\n",
    "ligne"
   ]
  },
  {
   "cell_type": "markdown",
   "metadata": {},
   "source": [
    "**_On trouve que les deux lignes qui contient des informations sur le post_name, post_date, et post_modified mais indiquent NaN sur la colonne \"sku\". Le post a été modifié en 2019 et posté en 2018. Donc, probablement les deux produits ne sont plus vendus. On observe aussi les autre colonnes comme virtual, ownloadable,\trating_count sont remplis avec les valeurs par 0._**"
   ]
  },
  {
   "cell_type": "code",
   "execution_count": 24,
   "metadata": {
    "ExecuteTime": {
     "end_time": "2022-02-06T11:47:44.726907Z",
     "start_time": "2022-02-06T11:47:44.707399Z"
    }
   },
   "outputs": [
    {
     "data": {
      "text/plain": [
       "(1428, 28)"
      ]
     },
     "execution_count": 24,
     "metadata": {},
     "output_type": "execute_result"
    }
   ],
   "source": [
    "web_sans_null = web[web['sku'].notnull()]\n",
    "web_sans_null.shape"
   ]
  },
  {
   "cell_type": "markdown",
   "metadata": {},
   "source": [
    "### 5.1. Explorer les produits et les informations des lignes correspondantes "
   ]
  },
  {
   "cell_type": "code",
   "execution_count": 25,
   "metadata": {
    "ExecuteTime": {
     "end_time": "2022-02-06T11:47:44.742664Z",
     "start_time": "2022-02-06T11:47:44.731826Z"
    }
   },
   "outputs": [
    {
     "data": {
      "text/plain": [
       "(1513, 28)"
      ]
     },
     "execution_count": 25,
     "metadata": {},
     "output_type": "execute_result"
    }
   ],
   "source": [
    "web.shape"
   ]
  },
  {
   "cell_type": "code",
   "execution_count": 26,
   "metadata": {
    "ExecuteTime": {
     "end_time": "2022-02-06T11:47:44.765369Z",
     "start_time": "2022-02-06T11:47:44.747618Z"
    }
   },
   "outputs": [
    {
     "name": "stdout",
     "output_type": "stream",
     "text": [
      "39984\n",
      "19992\n"
     ]
    }
   ],
   "source": [
    "#aide pour ecrire la fonction pour tester la cles primaire\n",
    "print(web_sans_null.size)\n",
    "print(web_sans_null.drop_duplicates(['sku']).size)"
   ]
  },
  {
   "cell_type": "code",
   "execution_count": 27,
   "metadata": {
    "ExecuteTime": {
     "end_time": "2022-02-06T11:47:44.786922Z",
     "start_time": "2022-02-06T11:47:44.771879Z"
    },
    "scrolled": true
   },
   "outputs": [
    {
     "name": "stdout",
     "output_type": "stream",
     "text": [
      "Les valeurs unique de sku dans le web dataframe est de ['bon-cadeau-25-euros' 15298 15296 15300 19814 19815 15303 14975 16042\n",
      " 14980 16041 15269 14977 16044 16043 16449 16045 16030 13127 19816 16029\n",
      " 16039 16318 16275 16498 16320 16319 15966 15022 15967 15490 16416 11862\n",
      " 15444 15953 12045 13074 15941 16069 13072 15440 13435 13078 13117 16296\n",
      " 16014 16462 16013 16180 15676 16120 15564 15675 15378 15813 13416 14905\n",
      " 15767 16505 15683 16504 15787 14800 15353 15382 15339 11668 13209 15341\n",
      " 13217 304 11641 1662 1360 15648 1364 7086 1366 15140 16238 16237 15141\n",
      " 14944 14941 14751 16093 15668 15373 15375 14474 15482 13453 15075 16124\n",
      " 15785 15784 15786 14332 16210 16211 16209 15629 15583 16160 16166 15783\n",
      " 16560 15747 15746 16190 16189 16265 16191 16263 15605 16529 15441 13032\n",
      " 16256 16322 16295 15656 15655 15415 15414 15413 16023 16024 15720 15714\n",
      " 15717 15718 15480 15213 15672 12599 15758 15829 15759 16585 15306 16497\n",
      " 15261 12657 15403 15461 16269 13905 16567 15436 14725 15310 15770 16097\n",
      " 15428 15033 16317 15032 6616 12203 14253 12476 14485 14945 15662 15663\n",
      " 15664 15665 15136 16537 16307 16244 15839 13460 13089 12942 14864 14527\n",
      " nan 14865 15690 16330 16154 16153 16066 16065 15292 16246 16501 16578\n",
      " 15567 16553 13172 15120 15949 15946 7818 13599 4679 12586 12588 15940\n",
      " 12587 12589 12585 9562 13854 13853 11585 11467 11586 13765 13766 11587\n",
      " 9636 12639 12641 12640 14768 3506 3510 3507 13230 7819 3509 15426 15621\n",
      " 15457 13604 12857 15476 14000 15478 15475 16151 15659 15147 15660 15148\n",
      " 15149 15146 15145 15801 15452 15038 15030 15875 16186 14371 10459 14372\n",
      " 11049 15850 15849 812 807 805 802 2534 793 791 2179 804 41 798 2361 15848\n",
      " 16525 16262 16261 15206 11849 13515 13514 13516 10814 11847 13517 16081\n",
      " 15402 15404 13647 14657 16053 15525 15527 14676 16057 16056 13762 15280\n",
      " 15282 15281 15283 15934 15933 15575 16239 14451 16324 15582 13736 13659\n",
      " 15465 15004 14699 15349 15466 14700 10775 16119 15667 14746 15361 15196\n",
      " 15657 15658 15670 16527 16513 15880 15879 16010 14950 16540 15729 38 5646\n",
      " 8344 15576 16138 14366 13412 14632 15315 13627 14184 15429 16132 14680\n",
      " 15859 16229 14302 16072 14300 13096 16564 13754 15734 15448 15881 15731\n",
      " 15316 15732 14599 15733 15730 12771 3568 14506 15811 16342 16292 15307\n",
      " 16047 16255 16274 16148 16149 16289 14981 15773 15776 16037 16038 15807\n",
      " 15952 15808 16062 16063 14802 13052 14805 14220 14374 14395 15614 13809\n",
      " 15612 13814 15613 15615 15533 15531 15530 15928 16276 16277 15456 15425\n",
      " 15047 15927 16155 16280 9937 16281 15554 15106 16283 13379 15338 15337\n",
      " 15737 15958 16515 16586 11225 16004 14756 16005 14930 13313 15229 14507\n",
      " 14509 14508 15868 14581 14580 15869 15871 15870 12791 11602 15073 14839\n",
      " 14696 11996 13914 13913 11997 531 13531 15711 15713 15715 15346 15345\n",
      " 15344 15755 15677 14561 16022 16011 3383 14149 13904 14141 12494 15462\n",
      " 15095 14626 12496 12315 15649 14809 15155 12194 16328 14469 16034 14679\n",
      " 15526 16305 16306 15138 15753 15756 16131 16130 16129 14712 15481 16146\n",
      " 14192 15860 15863 15861 15862 15864 14819 14828 14827 15202 13959 13965\n",
      " 13958 13957 13520 13969 19820 19821 15748 19822 16192 14729 8463 13982\n",
      " 15944 15930 14912 15945 14915 14855 14856 15923 14845 14844 15921 15922\n",
      " 12366 8365 12365 14647 15812 14661 16304 15797 16094 14736 11736 15036\n",
      " 15360 15674 13557 15035 16121 14241 14982 15026 15116 15369 15566 16003\n",
      " 15127 15125 14323 15631 16147 7033 11258 13849 15818 15179 15185 15183\n",
      " 15254 15178 15184 15180 15264 14338 15561 16213 14692 13291 13895 15688\n",
      " 14461 11277 15399 13572 14955 13567 15471 15080 14429 15238 15237 14600\n",
      " 15241 11933 15240 15325 15328 15329 15775 15774 14983 13910 16539 15910\n",
      " 12339 12869 14095 14099 15856 12881 15857 12882 15227 10014 14265 14774\n",
      " 14775 14773 15343 15351 16323 523 15432 16472 15895 15577 15766 15892\n",
      " 16326 15574 13662 11669 13215 13211 15342 15318 13073 16159 16264 14899\n",
      " 15134 16133 16028 15951 15487 15486 15489 14089 14100 14092 14090 14106\n",
      " 14101 14797 15201 14923 14573 14569 14570 15834 14596 15126 14604 16565\n",
      " 16580 16077 13996 15072 11601 12790 15070 16096 7032 15324 15162 15161\n",
      " 15163 16273 16247 15654 15710 15745 15678 15810 15779 15707 15705 15706\n",
      " 15704 15473 15479 15647 15769 15434 15764 16071 15781 16031 15539 16046\n",
      " 15204 15205 15790 15791 15792 15793 15795 15794 15763 16152 15661 16068\n",
      " 16067 8193 16144 15256 15735 14897 15736 15740 15845 15741 16135 15891\n",
      " 15887 '13127-1' 16230]\n"
     ]
    }
   ],
   "source": [
    "print(\"Les valeurs unique de sku dans le web dataframe est de\", web.sku.unique())"
   ]
  },
  {
   "cell_type": "code",
   "execution_count": 28,
   "metadata": {
    "ExecuteTime": {
     "end_time": "2022-02-06T11:47:44.808166Z",
     "start_time": "2022-02-06T11:47:44.792496Z"
    }
   },
   "outputs": [
    {
     "data": {
      "text/plain": [
       "798"
      ]
     },
     "execution_count": 28,
     "metadata": {},
     "output_type": "execute_result"
    }
   ],
   "source": [
    "# Le nommre de doublons dans la colonne \"sku\"\n",
    "web.duplicated(\"sku\").sum()"
   ]
  },
  {
   "cell_type": "code",
   "execution_count": 29,
   "metadata": {
    "ExecuteTime": {
     "end_time": "2022-02-06T11:47:44.994802Z",
     "start_time": "2022-02-06T11:47:44.829161Z"
    },
    "scrolled": true
   },
   "outputs": [
    {
     "data": {
      "text/plain": [
       "sku                       714\n",
       "virtual                     1\n",
       "downloadable                1\n",
       "rating_count                1\n",
       "average_rating              1\n",
       "total_sales                41\n",
       "tax_status                  1\n",
       "tax_class                   0\n",
       "post_author                 2\n",
       "post_date                 716\n",
       "post_date_gmt             716\n",
       "post_content                0\n",
       "post_title                713\n",
       "post_excerpt              679\n",
       "post_status                 1\n",
       "comment_status              1\n",
       "ping_status                 1\n",
       "post_password               0\n",
       "post_name                 716\n",
       "post_modified             589\n",
       "post_modified_gmt         589\n",
       "post_content_filtered       0\n",
       "post_parent                 1\n",
       "guid                     1430\n",
       "menu_order                  1\n",
       "post_type                   2\n",
       "post_mime_type              1\n",
       "comment_count               1\n",
       "dtype: int64"
      ]
     },
     "execution_count": 29,
     "metadata": {},
     "output_type": "execute_result"
    }
   ],
   "source": [
    "# Le nombre de valeur unique par colonne\n",
    "web.nunique ()"
   ]
  },
  {
   "cell_type": "code",
   "execution_count": 30,
   "metadata": {
    "ExecuteTime": {
     "end_time": "2022-02-06T11:47:45.085443Z",
     "start_time": "2022-02-06T11:47:45.000317Z"
    },
    "scrolled": true
   },
   "outputs": [
    {
     "data": {
      "text/html": [
       "<div>\n",
       "<style scoped>\n",
       "    .dataframe tbody tr th:only-of-type {\n",
       "        vertical-align: middle;\n",
       "    }\n",
       "\n",
       "    .dataframe tbody tr th {\n",
       "        vertical-align: top;\n",
       "    }\n",
       "\n",
       "    .dataframe thead th {\n",
       "        text-align: right;\n",
       "    }\n",
       "</style>\n",
       "<table border=\"1\" class=\"dataframe\">\n",
       "  <thead>\n",
       "    <tr style=\"text-align: right;\">\n",
       "      <th></th>\n",
       "      <th>virtual</th>\n",
       "      <th>downloadable</th>\n",
       "      <th>rating_count</th>\n",
       "      <th>average_rating</th>\n",
       "      <th>total_sales</th>\n",
       "      <th>tax_class</th>\n",
       "      <th>post_author</th>\n",
       "      <th>post_content</th>\n",
       "      <th>post_password</th>\n",
       "      <th>post_content_filtered</th>\n",
       "      <th>post_parent</th>\n",
       "      <th>menu_order</th>\n",
       "      <th>comment_count</th>\n",
       "    </tr>\n",
       "  </thead>\n",
       "  <tbody>\n",
       "    <tr>\n",
       "      <td>count</td>\n",
       "      <td>1513.0</td>\n",
       "      <td>1513.0</td>\n",
       "      <td>1513.0</td>\n",
       "      <td>1430.0</td>\n",
       "      <td>1430.000000</td>\n",
       "      <td>0.0</td>\n",
       "      <td>1430.000000</td>\n",
       "      <td>0.0</td>\n",
       "      <td>0.0</td>\n",
       "      <td>0.0</td>\n",
       "      <td>1430.0</td>\n",
       "      <td>1430.0</td>\n",
       "      <td>1430.0</td>\n",
       "    </tr>\n",
       "    <tr>\n",
       "      <td>mean</td>\n",
       "      <td>0.0</td>\n",
       "      <td>0.0</td>\n",
       "      <td>0.0</td>\n",
       "      <td>0.0</td>\n",
       "      <td>4.006993</td>\n",
       "      <td>NaN</td>\n",
       "      <td>1.998601</td>\n",
       "      <td>NaN</td>\n",
       "      <td>NaN</td>\n",
       "      <td>NaN</td>\n",
       "      <td>0.0</td>\n",
       "      <td>0.0</td>\n",
       "      <td>0.0</td>\n",
       "    </tr>\n",
       "    <tr>\n",
       "      <td>std</td>\n",
       "      <td>0.0</td>\n",
       "      <td>0.0</td>\n",
       "      <td>0.0</td>\n",
       "      <td>0.0</td>\n",
       "      <td>8.510559</td>\n",
       "      <td>NaN</td>\n",
       "      <td>0.037385</td>\n",
       "      <td>NaN</td>\n",
       "      <td>NaN</td>\n",
       "      <td>NaN</td>\n",
       "      <td>0.0</td>\n",
       "      <td>0.0</td>\n",
       "      <td>0.0</td>\n",
       "    </tr>\n",
       "    <tr>\n",
       "      <td>min</td>\n",
       "      <td>0.0</td>\n",
       "      <td>0.0</td>\n",
       "      <td>0.0</td>\n",
       "      <td>0.0</td>\n",
       "      <td>0.000000</td>\n",
       "      <td>NaN</td>\n",
       "      <td>1.000000</td>\n",
       "      <td>NaN</td>\n",
       "      <td>NaN</td>\n",
       "      <td>NaN</td>\n",
       "      <td>0.0</td>\n",
       "      <td>0.0</td>\n",
       "      <td>0.0</td>\n",
       "    </tr>\n",
       "    <tr>\n",
       "      <td>25%</td>\n",
       "      <td>0.0</td>\n",
       "      <td>0.0</td>\n",
       "      <td>0.0</td>\n",
       "      <td>0.0</td>\n",
       "      <td>0.000000</td>\n",
       "      <td>NaN</td>\n",
       "      <td>2.000000</td>\n",
       "      <td>NaN</td>\n",
       "      <td>NaN</td>\n",
       "      <td>NaN</td>\n",
       "      <td>0.0</td>\n",
       "      <td>0.0</td>\n",
       "      <td>0.0</td>\n",
       "    </tr>\n",
       "    <tr>\n",
       "      <td>50%</td>\n",
       "      <td>0.0</td>\n",
       "      <td>0.0</td>\n",
       "      <td>0.0</td>\n",
       "      <td>0.0</td>\n",
       "      <td>1.000000</td>\n",
       "      <td>NaN</td>\n",
       "      <td>2.000000</td>\n",
       "      <td>NaN</td>\n",
       "      <td>NaN</td>\n",
       "      <td>NaN</td>\n",
       "      <td>0.0</td>\n",
       "      <td>0.0</td>\n",
       "      <td>0.0</td>\n",
       "    </tr>\n",
       "    <tr>\n",
       "      <td>75%</td>\n",
       "      <td>0.0</td>\n",
       "      <td>0.0</td>\n",
       "      <td>0.0</td>\n",
       "      <td>0.0</td>\n",
       "      <td>4.000000</td>\n",
       "      <td>NaN</td>\n",
       "      <td>2.000000</td>\n",
       "      <td>NaN</td>\n",
       "      <td>NaN</td>\n",
       "      <td>NaN</td>\n",
       "      <td>0.0</td>\n",
       "      <td>0.0</td>\n",
       "      <td>0.0</td>\n",
       "    </tr>\n",
       "    <tr>\n",
       "      <td>max</td>\n",
       "      <td>0.0</td>\n",
       "      <td>0.0</td>\n",
       "      <td>0.0</td>\n",
       "      <td>0.0</td>\n",
       "      <td>96.000000</td>\n",
       "      <td>NaN</td>\n",
       "      <td>2.000000</td>\n",
       "      <td>NaN</td>\n",
       "      <td>NaN</td>\n",
       "      <td>NaN</td>\n",
       "      <td>0.0</td>\n",
       "      <td>0.0</td>\n",
       "      <td>0.0</td>\n",
       "    </tr>\n",
       "  </tbody>\n",
       "</table>\n",
       "</div>"
      ],
      "text/plain": [
       "       virtual  downloadable  rating_count  average_rating  total_sales  \\\n",
       "count   1513.0        1513.0        1513.0          1430.0  1430.000000   \n",
       "mean       0.0           0.0           0.0             0.0     4.006993   \n",
       "std        0.0           0.0           0.0             0.0     8.510559   \n",
       "min        0.0           0.0           0.0             0.0     0.000000   \n",
       "25%        0.0           0.0           0.0             0.0     0.000000   \n",
       "50%        0.0           0.0           0.0             0.0     1.000000   \n",
       "75%        0.0           0.0           0.0             0.0     4.000000   \n",
       "max        0.0           0.0           0.0             0.0    96.000000   \n",
       "\n",
       "       tax_class  post_author  post_content  post_password  \\\n",
       "count        0.0  1430.000000           0.0            0.0   \n",
       "mean         NaN     1.998601           NaN            NaN   \n",
       "std          NaN     0.037385           NaN            NaN   \n",
       "min          NaN     1.000000           NaN            NaN   \n",
       "25%          NaN     2.000000           NaN            NaN   \n",
       "50%          NaN     2.000000           NaN            NaN   \n",
       "75%          NaN     2.000000           NaN            NaN   \n",
       "max          NaN     2.000000           NaN            NaN   \n",
       "\n",
       "       post_content_filtered  post_parent  menu_order  comment_count  \n",
       "count                    0.0       1430.0      1430.0         1430.0  \n",
       "mean                     NaN          0.0         0.0            0.0  \n",
       "std                      NaN          0.0         0.0            0.0  \n",
       "min                      NaN          0.0         0.0            0.0  \n",
       "25%                      NaN          0.0         0.0            0.0  \n",
       "50%                      NaN          0.0         0.0            0.0  \n",
       "75%                      NaN          0.0         0.0            0.0  \n",
       "max                      NaN          0.0         0.0            0.0  "
      ]
     },
     "execution_count": 30,
     "metadata": {},
     "output_type": "execute_result"
    }
   ],
   "source": [
    "# Description de la dataframe\n",
    "web.describe()"
   ]
  },
  {
   "cell_type": "code",
   "execution_count": 31,
   "metadata": {
    "ExecuteTime": {
     "end_time": "2022-02-06T11:47:45.147253Z",
     "start_time": "2022-02-06T11:47:45.091396Z"
    },
    "scrolled": true
   },
   "outputs": [
    {
     "data": {
      "text/html": [
       "<div>\n",
       "<style scoped>\n",
       "    .dataframe tbody tr th:only-of-type {\n",
       "        vertical-align: middle;\n",
       "    }\n",
       "\n",
       "    .dataframe tbody tr th {\n",
       "        vertical-align: top;\n",
       "    }\n",
       "\n",
       "    .dataframe thead th {\n",
       "        text-align: right;\n",
       "    }\n",
       "</style>\n",
       "<table border=\"1\" class=\"dataframe\">\n",
       "  <thead>\n",
       "    <tr style=\"text-align: right;\">\n",
       "      <th></th>\n",
       "      <th>sku</th>\n",
       "      <th>virtual</th>\n",
       "      <th>downloadable</th>\n",
       "      <th>rating_count</th>\n",
       "      <th>average_rating</th>\n",
       "      <th>total_sales</th>\n",
       "      <th>tax_status</th>\n",
       "      <th>tax_class</th>\n",
       "      <th>post_author</th>\n",
       "      <th>post_date</th>\n",
       "      <th>...</th>\n",
       "      <th>post_name</th>\n",
       "      <th>post_modified</th>\n",
       "      <th>post_modified_gmt</th>\n",
       "      <th>post_content_filtered</th>\n",
       "      <th>post_parent</th>\n",
       "      <th>guid</th>\n",
       "      <th>menu_order</th>\n",
       "      <th>post_type</th>\n",
       "      <th>post_mime_type</th>\n",
       "      <th>comment_count</th>\n",
       "    </tr>\n",
       "  </thead>\n",
       "  <tbody>\n",
       "    <tr>\n",
       "      <td>797</td>\n",
       "      <td>13127-1</td>\n",
       "      <td>0</td>\n",
       "      <td>0</td>\n",
       "      <td>0</td>\n",
       "      <td>0.0</td>\n",
       "      <td>0.0</td>\n",
       "      <td>taxable</td>\n",
       "      <td>NaN</td>\n",
       "      <td>2.0</td>\n",
       "      <td>2020-06-09 15:42:04</td>\n",
       "      <td>...</td>\n",
       "      <td>clos-du-mont-olivet-chateauneuf-du-pape-2007-2</td>\n",
       "      <td>2020-07-20 17:09:06</td>\n",
       "      <td>2020-07-20 15:09:06</td>\n",
       "      <td>NaN</td>\n",
       "      <td>0.0</td>\n",
       "      <td>https://www.bottle-neck.fr/?post_type=product&amp;...</td>\n",
       "      <td>0.0</td>\n",
       "      <td>product</td>\n",
       "      <td>NaN</td>\n",
       "      <td>0.0</td>\n",
       "    </tr>\n",
       "    <tr>\n",
       "      <td>1511</td>\n",
       "      <td>13127-1</td>\n",
       "      <td>0</td>\n",
       "      <td>0</td>\n",
       "      <td>0</td>\n",
       "      <td>0.0</td>\n",
       "      <td>0.0</td>\n",
       "      <td>NaN</td>\n",
       "      <td>NaN</td>\n",
       "      <td>2.0</td>\n",
       "      <td>2020-06-09 15:42:04</td>\n",
       "      <td>...</td>\n",
       "      <td>clos-du-mont-olivet-chateauneuf-du-pape-2007-2</td>\n",
       "      <td>2020-07-20 17:09:06</td>\n",
       "      <td>2020-07-20 15:09:06</td>\n",
       "      <td>NaN</td>\n",
       "      <td>0.0</td>\n",
       "      <td>https://www.bottle-neck.fr/wp-content/uploads/...</td>\n",
       "      <td>0.0</td>\n",
       "      <td>attachment</td>\n",
       "      <td>image/jpeg</td>\n",
       "      <td>0.0</td>\n",
       "    </tr>\n",
       "  </tbody>\n",
       "</table>\n",
       "<p>2 rows × 28 columns</p>\n",
       "</div>"
      ],
      "text/plain": [
       "          sku  virtual  downloadable  rating_count  average_rating  \\\n",
       "797   13127-1        0             0             0             0.0   \n",
       "1511  13127-1        0             0             0             0.0   \n",
       "\n",
       "      total_sales tax_status  tax_class  post_author           post_date  ...  \\\n",
       "797           0.0    taxable        NaN          2.0 2020-06-09 15:42:04  ...   \n",
       "1511          0.0        NaN        NaN          2.0 2020-06-09 15:42:04  ...   \n",
       "\n",
       "                                           post_name       post_modified  \\\n",
       "797   clos-du-mont-olivet-chateauneuf-du-pape-2007-2 2020-07-20 17:09:06   \n",
       "1511  clos-du-mont-olivet-chateauneuf-du-pape-2007-2 2020-07-20 17:09:06   \n",
       "\n",
       "       post_modified_gmt post_content_filtered post_parent  \\\n",
       "797  2020-07-20 15:09:06                   NaN         0.0   \n",
       "1511 2020-07-20 15:09:06                   NaN         0.0   \n",
       "\n",
       "                                                   guid menu_order  \\\n",
       "797   https://www.bottle-neck.fr/?post_type=product&...        0.0   \n",
       "1511  https://www.bottle-neck.fr/wp-content/uploads/...        0.0   \n",
       "\n",
       "       post_type post_mime_type comment_count  \n",
       "797      product            NaN           0.0  \n",
       "1511  attachment     image/jpeg           0.0  \n",
       "\n",
       "[2 rows x 28 columns]"
      ]
     },
     "execution_count": 31,
     "metadata": {},
     "output_type": "execute_result"
    }
   ],
   "source": [
    "# On affiche un produit pour avoir une idée du doublon\n",
    "web.loc[web[\"sku\"]== \"13127-1\"]"
   ]
  },
  {
   "cell_type": "code",
   "execution_count": 32,
   "metadata": {
    "ExecuteTime": {
     "end_time": "2022-02-06T11:47:45.214210Z",
     "start_time": "2022-02-06T11:47:45.155520Z"
    }
   },
   "outputs": [
    {
     "data": {
      "text/html": [
       "<div>\n",
       "<style scoped>\n",
       "    .dataframe tbody tr th:only-of-type {\n",
       "        vertical-align: middle;\n",
       "    }\n",
       "\n",
       "    .dataframe tbody tr th {\n",
       "        vertical-align: top;\n",
       "    }\n",
       "\n",
       "    .dataframe thead th {\n",
       "        text-align: right;\n",
       "    }\n",
       "</style>\n",
       "<table border=\"1\" class=\"dataframe\">\n",
       "  <thead>\n",
       "    <tr style=\"text-align: right;\">\n",
       "      <th></th>\n",
       "      <th>sku</th>\n",
       "      <th>virtual</th>\n",
       "      <th>downloadable</th>\n",
       "      <th>rating_count</th>\n",
       "      <th>average_rating</th>\n",
       "      <th>total_sales</th>\n",
       "      <th>tax_status</th>\n",
       "      <th>tax_class</th>\n",
       "      <th>post_author</th>\n",
       "      <th>post_date</th>\n",
       "      <th>...</th>\n",
       "      <th>post_name</th>\n",
       "      <th>post_modified</th>\n",
       "      <th>post_modified_gmt</th>\n",
       "      <th>post_content_filtered</th>\n",
       "      <th>post_parent</th>\n",
       "      <th>guid</th>\n",
       "      <th>menu_order</th>\n",
       "      <th>post_type</th>\n",
       "      <th>post_mime_type</th>\n",
       "      <th>comment_count</th>\n",
       "    </tr>\n",
       "  </thead>\n",
       "  <tbody>\n",
       "    <tr>\n",
       "      <td>0</td>\n",
       "      <td>bon-cadeau-25-euros</td>\n",
       "      <td>0</td>\n",
       "      <td>0</td>\n",
       "      <td>0</td>\n",
       "      <td>0.0</td>\n",
       "      <td>10.0</td>\n",
       "      <td>taxable</td>\n",
       "      <td>NaN</td>\n",
       "      <td>1.0</td>\n",
       "      <td>2018-06-01 13:53:46</td>\n",
       "      <td>...</td>\n",
       "      <td>bon-cadeau-de-25-euros</td>\n",
       "      <td>2018-06-01 14:13:57</td>\n",
       "      <td>2018-06-01 12:13:57</td>\n",
       "      <td>NaN</td>\n",
       "      <td>0.0</td>\n",
       "      <td>https://www.bottle-neck.fr/?post_type=product&amp;...</td>\n",
       "      <td>0.0</td>\n",
       "      <td>product</td>\n",
       "      <td>NaN</td>\n",
       "      <td>0.0</td>\n",
       "    </tr>\n",
       "    <tr>\n",
       "      <td>1209</td>\n",
       "      <td>bon-cadeau-25-euros</td>\n",
       "      <td>0</td>\n",
       "      <td>0</td>\n",
       "      <td>0</td>\n",
       "      <td>0.0</td>\n",
       "      <td>10.0</td>\n",
       "      <td>NaN</td>\n",
       "      <td>NaN</td>\n",
       "      <td>1.0</td>\n",
       "      <td>2018-06-01 13:53:46</td>\n",
       "      <td>...</td>\n",
       "      <td>bon-cadeau-de-25-euros</td>\n",
       "      <td>2018-06-01 14:13:57</td>\n",
       "      <td>2018-06-01 12:13:57</td>\n",
       "      <td>NaN</td>\n",
       "      <td>0.0</td>\n",
       "      <td>https://www.bottle-neck.fr/wp-content/uploads/...</td>\n",
       "      <td>0.0</td>\n",
       "      <td>attachment</td>\n",
       "      <td>image/jpeg</td>\n",
       "      <td>0.0</td>\n",
       "    </tr>\n",
       "  </tbody>\n",
       "</table>\n",
       "<p>2 rows × 28 columns</p>\n",
       "</div>"
      ],
      "text/plain": [
       "                      sku  virtual  downloadable  rating_count  \\\n",
       "0     bon-cadeau-25-euros        0             0             0   \n",
       "1209  bon-cadeau-25-euros        0             0             0   \n",
       "\n",
       "      average_rating  total_sales tax_status  tax_class  post_author  \\\n",
       "0                0.0         10.0    taxable        NaN          1.0   \n",
       "1209             0.0         10.0        NaN        NaN          1.0   \n",
       "\n",
       "               post_date  ...               post_name       post_modified  \\\n",
       "0    2018-06-01 13:53:46  ...  bon-cadeau-de-25-euros 2018-06-01 14:13:57   \n",
       "1209 2018-06-01 13:53:46  ...  bon-cadeau-de-25-euros 2018-06-01 14:13:57   \n",
       "\n",
       "       post_modified_gmt post_content_filtered post_parent  \\\n",
       "0    2018-06-01 12:13:57                   NaN         0.0   \n",
       "1209 2018-06-01 12:13:57                   NaN         0.0   \n",
       "\n",
       "                                                   guid menu_order  \\\n",
       "0     https://www.bottle-neck.fr/?post_type=product&...        0.0   \n",
       "1209  https://www.bottle-neck.fr/wp-content/uploads/...        0.0   \n",
       "\n",
       "       post_type post_mime_type comment_count  \n",
       "0        product            NaN           0.0  \n",
       "1209  attachment     image/jpeg           0.0  \n",
       "\n",
       "[2 rows x 28 columns]"
      ]
     },
     "execution_count": 32,
     "metadata": {},
     "output_type": "execute_result"
    }
   ],
   "source": [
    "# On affiche le \"bon de cadeau\"\n",
    "web.loc[web[\"sku\"] == \"bon-cadeau-25-euros\"]"
   ]
  },
  {
   "cell_type": "markdown",
   "metadata": {},
   "source": [
    "**_Ici on trouve que les produits choisi qu'il y a un doublon sur les deux et les lignes sont bien identiques (même valeur et même produit). Sauf dans la colonne de \"tax_status\" (l'un a une valeur qui indiqué \"taxable\" et l'autre c'est \"NaN\"). Peut-être c'est le produit a vendu qui a indiqué \"taxable\" et l'autre aucune valeur? Dans la colonne \"post_type\", il y a \"product\" et l'autre a \"attachment\". Dans la colonne \"post_mime_type\", il y a \"NaN\" et l'autre a \"image/jpeg\". Donc, on décide de garder les lignes qui contient \"product\"._**"
   ]
  },
  {
   "cell_type": "markdown",
   "metadata": {},
   "source": [
    "### 5.2. Nettoyage du dataframe \"web\" "
   ]
  },
  {
   "cell_type": "code",
   "execution_count": 33,
   "metadata": {
    "ExecuteTime": {
     "end_time": "2022-02-06T11:47:45.226630Z",
     "start_time": "2022-02-06T11:47:45.218445Z"
    }
   },
   "outputs": [],
   "source": [
    "# On decide de garder les doublons qui ont les lignes contiennet une image\n",
    "web = web[web.post_type == \"product\"]"
   ]
  },
  {
   "cell_type": "code",
   "execution_count": 34,
   "metadata": {
    "ExecuteTime": {
     "end_time": "2022-02-06T11:47:45.243955Z",
     "start_time": "2022-02-06T11:47:45.230134Z"
    }
   },
   "outputs": [],
   "source": [
    "# On supprime les colonnes qui ont que des NaNs\n",
    "web = web.dropna (how = \"all\", axis = 1)"
   ]
  },
  {
   "cell_type": "code",
   "execution_count": 35,
   "metadata": {
    "ExecuteTime": {
     "end_time": "2022-02-06T11:47:45.258689Z",
     "start_time": "2022-02-06T11:47:45.250556Z"
    }
   },
   "outputs": [],
   "source": [
    "# On renomme la colonne \"sku\" en \"id_web\" pour profiter plus tard\n",
    "web = web.rename(columns={\"sku\": \"id_web\"})"
   ]
  },
  {
   "cell_type": "code",
   "execution_count": 36,
   "metadata": {
    "ExecuteTime": {
     "end_time": "2022-02-06T11:47:45.325946Z",
     "start_time": "2022-02-06T11:47:45.264458Z"
    }
   },
   "outputs": [
    {
     "data": {
      "text/html": [
       "<div>\n",
       "<style scoped>\n",
       "    .dataframe tbody tr th:only-of-type {\n",
       "        vertical-align: middle;\n",
       "    }\n",
       "\n",
       "    .dataframe tbody tr th {\n",
       "        vertical-align: top;\n",
       "    }\n",
       "\n",
       "    .dataframe thead th {\n",
       "        text-align: right;\n",
       "    }\n",
       "</style>\n",
       "<table border=\"1\" class=\"dataframe\">\n",
       "  <thead>\n",
       "    <tr style=\"text-align: right;\">\n",
       "      <th></th>\n",
       "      <th>id_web</th>\n",
       "      <th>virtual</th>\n",
       "      <th>downloadable</th>\n",
       "      <th>rating_count</th>\n",
       "      <th>average_rating</th>\n",
       "      <th>total_sales</th>\n",
       "      <th>tax_status</th>\n",
       "      <th>post_author</th>\n",
       "      <th>post_date</th>\n",
       "      <th>post_date_gmt</th>\n",
       "      <th>...</th>\n",
       "      <th>comment_status</th>\n",
       "      <th>ping_status</th>\n",
       "      <th>post_name</th>\n",
       "      <th>post_modified</th>\n",
       "      <th>post_modified_gmt</th>\n",
       "      <th>post_parent</th>\n",
       "      <th>guid</th>\n",
       "      <th>menu_order</th>\n",
       "      <th>post_type</th>\n",
       "      <th>comment_count</th>\n",
       "    </tr>\n",
       "  </thead>\n",
       "  <tbody>\n",
       "    <tr>\n",
       "      <td>0</td>\n",
       "      <td>bon-cadeau-25-euros</td>\n",
       "      <td>0</td>\n",
       "      <td>0</td>\n",
       "      <td>0</td>\n",
       "      <td>0.0</td>\n",
       "      <td>10.0</td>\n",
       "      <td>taxable</td>\n",
       "      <td>1.0</td>\n",
       "      <td>2018-06-01 13:53:46</td>\n",
       "      <td>2018-06-01 11:53:46</td>\n",
       "      <td>...</td>\n",
       "      <td>closed</td>\n",
       "      <td>closed</td>\n",
       "      <td>bon-cadeau-de-25-euros</td>\n",
       "      <td>2018-06-01 14:13:57</td>\n",
       "      <td>2018-06-01 12:13:57</td>\n",
       "      <td>0.0</td>\n",
       "      <td>https://www.bottle-neck.fr/?post_type=product&amp;...</td>\n",
       "      <td>0.0</td>\n",
       "      <td>product</td>\n",
       "      <td>0.0</td>\n",
       "    </tr>\n",
       "    <tr>\n",
       "      <td>1</td>\n",
       "      <td>15298</td>\n",
       "      <td>0</td>\n",
       "      <td>0</td>\n",
       "      <td>0</td>\n",
       "      <td>0.0</td>\n",
       "      <td>6.0</td>\n",
       "      <td>taxable</td>\n",
       "      <td>2.0</td>\n",
       "      <td>2018-02-08 12:58:52</td>\n",
       "      <td>2018-02-08 11:58:52</td>\n",
       "      <td>...</td>\n",
       "      <td>closed</td>\n",
       "      <td>closed</td>\n",
       "      <td>pierre-jean-villa-saint-joseph-preface-2018</td>\n",
       "      <td>2019-12-30 09:30:29</td>\n",
       "      <td>2019-12-30 08:30:29</td>\n",
       "      <td>0.0</td>\n",
       "      <td>https://www.bottle-neck.fr/?post_type=product&amp;...</td>\n",
       "      <td>0.0</td>\n",
       "      <td>product</td>\n",
       "      <td>0.0</td>\n",
       "    </tr>\n",
       "    <tr>\n",
       "      <td>2</td>\n",
       "      <td>15296</td>\n",
       "      <td>0</td>\n",
       "      <td>0</td>\n",
       "      <td>0</td>\n",
       "      <td>0.0</td>\n",
       "      <td>0.0</td>\n",
       "      <td>taxable</td>\n",
       "      <td>2.0</td>\n",
       "      <td>2018-02-08 13:49:41</td>\n",
       "      <td>2018-02-08 12:49:41</td>\n",
       "      <td>...</td>\n",
       "      <td>closed</td>\n",
       "      <td>closed</td>\n",
       "      <td>pierre-jean-villa-saint-joseph-tilde-2017</td>\n",
       "      <td>2019-12-21 09:00:17</td>\n",
       "      <td>2019-12-21 08:00:17</td>\n",
       "      <td>0.0</td>\n",
       "      <td>https://www.bottle-neck.fr/?post_type=product&amp;...</td>\n",
       "      <td>0.0</td>\n",
       "      <td>product</td>\n",
       "      <td>0.0</td>\n",
       "    </tr>\n",
       "    <tr>\n",
       "      <td>3</td>\n",
       "      <td>15300</td>\n",
       "      <td>0</td>\n",
       "      <td>0</td>\n",
       "      <td>0</td>\n",
       "      <td>0.0</td>\n",
       "      <td>0.0</td>\n",
       "      <td>taxable</td>\n",
       "      <td>2.0</td>\n",
       "      <td>2018-02-08 14:08:36</td>\n",
       "      <td>2018-02-08 13:08:36</td>\n",
       "      <td>...</td>\n",
       "      <td>closed</td>\n",
       "      <td>closed</td>\n",
       "      <td>pierre-jean-villa-croze-hermitage-accroche-coe...</td>\n",
       "      <td>2020-06-26 18:15:03</td>\n",
       "      <td>2020-06-26 16:15:03</td>\n",
       "      <td>0.0</td>\n",
       "      <td>https://www.bottle-neck.fr/?post_type=product&amp;...</td>\n",
       "      <td>0.0</td>\n",
       "      <td>product</td>\n",
       "      <td>0.0</td>\n",
       "    </tr>\n",
       "    <tr>\n",
       "      <td>4</td>\n",
       "      <td>19814</td>\n",
       "      <td>0</td>\n",
       "      <td>0</td>\n",
       "      <td>0</td>\n",
       "      <td>0.0</td>\n",
       "      <td>3.0</td>\n",
       "      <td>taxable</td>\n",
       "      <td>2.0</td>\n",
       "      <td>2018-02-09 14:01:05</td>\n",
       "      <td>2018-02-09 13:01:05</td>\n",
       "      <td>...</td>\n",
       "      <td>closed</td>\n",
       "      <td>closed</td>\n",
       "      <td>pierre-jean-villa-igp-gamine-2018</td>\n",
       "      <td>2020-01-04 16:36:01</td>\n",
       "      <td>2020-01-04 15:36:01</td>\n",
       "      <td>0.0</td>\n",
       "      <td>https://www.bottle-neck.fr/?post_type=product&amp;...</td>\n",
       "      <td>0.0</td>\n",
       "      <td>product</td>\n",
       "      <td>0.0</td>\n",
       "    </tr>\n",
       "  </tbody>\n",
       "</table>\n",
       "<p>5 rows × 23 columns</p>\n",
       "</div>"
      ],
      "text/plain": [
       "                id_web  virtual  downloadable  rating_count  average_rating  \\\n",
       "0  bon-cadeau-25-euros        0             0             0             0.0   \n",
       "1                15298        0             0             0             0.0   \n",
       "2                15296        0             0             0             0.0   \n",
       "3                15300        0             0             0             0.0   \n",
       "4                19814        0             0             0             0.0   \n",
       "\n",
       "   total_sales tax_status  post_author           post_date  \\\n",
       "0         10.0    taxable          1.0 2018-06-01 13:53:46   \n",
       "1          6.0    taxable          2.0 2018-02-08 12:58:52   \n",
       "2          0.0    taxable          2.0 2018-02-08 13:49:41   \n",
       "3          0.0    taxable          2.0 2018-02-08 14:08:36   \n",
       "4          3.0    taxable          2.0 2018-02-09 14:01:05   \n",
       "\n",
       "        post_date_gmt  ... comment_status ping_status  \\\n",
       "0 2018-06-01 11:53:46  ...         closed      closed   \n",
       "1 2018-02-08 11:58:52  ...         closed      closed   \n",
       "2 2018-02-08 12:49:41  ...         closed      closed   \n",
       "3 2018-02-08 13:08:36  ...         closed      closed   \n",
       "4 2018-02-09 13:01:05  ...         closed      closed   \n",
       "\n",
       "                                           post_name       post_modified  \\\n",
       "0                             bon-cadeau-de-25-euros 2018-06-01 14:13:57   \n",
       "1        pierre-jean-villa-saint-joseph-preface-2018 2019-12-30 09:30:29   \n",
       "2          pierre-jean-villa-saint-joseph-tilde-2017 2019-12-21 09:00:17   \n",
       "3  pierre-jean-villa-croze-hermitage-accroche-coe... 2020-06-26 18:15:03   \n",
       "4                  pierre-jean-villa-igp-gamine-2018 2020-01-04 16:36:01   \n",
       "\n",
       "    post_modified_gmt post_parent  \\\n",
       "0 2018-06-01 12:13:57         0.0   \n",
       "1 2019-12-30 08:30:29         0.0   \n",
       "2 2019-12-21 08:00:17         0.0   \n",
       "3 2020-06-26 16:15:03         0.0   \n",
       "4 2020-01-04 15:36:01         0.0   \n",
       "\n",
       "                                                guid menu_order  post_type  \\\n",
       "0  https://www.bottle-neck.fr/?post_type=product&...        0.0    product   \n",
       "1  https://www.bottle-neck.fr/?post_type=product&...        0.0    product   \n",
       "2  https://www.bottle-neck.fr/?post_type=product&...        0.0    product   \n",
       "3  https://www.bottle-neck.fr/?post_type=product&...        0.0    product   \n",
       "4  https://www.bottle-neck.fr/?post_type=product&...        0.0    product   \n",
       "\n",
       "  comment_count  \n",
       "0           0.0  \n",
       "1           0.0  \n",
       "2           0.0  \n",
       "3           0.0  \n",
       "4           0.0  \n",
       "\n",
       "[5 rows x 23 columns]"
      ]
     },
     "execution_count": 36,
     "metadata": {},
     "output_type": "execute_result"
    }
   ],
   "source": [
    "# On affiche \"web\"\n",
    "web.head()"
   ]
  },
  {
   "cell_type": "code",
   "execution_count": 37,
   "metadata": {
    "ExecuteTime": {
     "end_time": "2022-02-06T11:47:45.344882Z",
     "start_time": "2022-02-06T11:47:45.333764Z"
    }
   },
   "outputs": [
    {
     "data": {
      "text/plain": [
       "(716, 23)"
      ]
     },
     "execution_count": 37,
     "metadata": {},
     "output_type": "execute_result"
    }
   ],
   "source": [
    "web.shape"
   ]
  },
  {
   "cell_type": "code",
   "execution_count": 38,
   "metadata": {
    "ExecuteTime": {
     "end_time": "2022-02-06T11:47:45.370828Z",
     "start_time": "2022-02-06T11:47:45.351314Z"
    },
    "scrolled": true
   },
   "outputs": [
    {
     "name": "stdout",
     "output_type": "stream",
     "text": [
      "<class 'pandas.core.frame.DataFrame'>\n",
      "Int64Index: 716 entries, 0 to 798\n",
      "Data columns (total 23 columns):\n",
      "id_web               714 non-null object\n",
      "virtual              716 non-null int64\n",
      "downloadable         716 non-null int64\n",
      "rating_count         716 non-null int64\n",
      "average_rating       716 non-null float64\n",
      "total_sales          716 non-null float64\n",
      "tax_status           716 non-null object\n",
      "post_author          716 non-null float64\n",
      "post_date            716 non-null datetime64[ns]\n",
      "post_date_gmt        716 non-null datetime64[ns]\n",
      "post_title           716 non-null object\n",
      "post_excerpt         716 non-null object\n",
      "post_status          716 non-null object\n",
      "comment_status       716 non-null object\n",
      "ping_status          716 non-null object\n",
      "post_name            716 non-null object\n",
      "post_modified        716 non-null datetime64[ns]\n",
      "post_modified_gmt    716 non-null datetime64[ns]\n",
      "post_parent          716 non-null float64\n",
      "guid                 716 non-null object\n",
      "menu_order           716 non-null float64\n",
      "post_type            716 non-null object\n",
      "comment_count        716 non-null float64\n",
      "dtypes: datetime64[ns](4), float64(6), int64(3), object(10)\n",
      "memory usage: 134.2+ KB\n"
     ]
    }
   ],
   "source": [
    "# On affiche les infos de \"web\"\n",
    "web.info()"
   ]
  },
  {
   "cell_type": "markdown",
   "metadata": {},
   "source": [
    "**_On réussit de nettoyer le jeu de données du \"web\"_**"
   ]
  },
  {
   "cell_type": "markdown",
   "metadata": {},
   "source": [
    "## 6. Jointures des 3 dataframes "
   ]
  },
  {
   "cell_type": "code",
   "execution_count": 39,
   "metadata": {
    "ExecuteTime": {
     "end_time": "2022-02-06T11:47:45.397282Z",
     "start_time": "2022-02-06T11:47:45.376286Z"
    }
   },
   "outputs": [
    {
     "data": {
      "text/plain": [
       "(734, 6)"
      ]
     },
     "execution_count": 39,
     "metadata": {},
     "output_type": "execute_result"
    }
   ],
   "source": [
    "# On merge de la dataframe \"liaison\" à \"erp\" par la même clé \"product_id\"\n",
    "df_erp_liaison = erp.merge(right = liaison, on = \"product_id\")\n",
    "df_erp_liaison.shape"
   ]
  },
  {
   "cell_type": "code",
   "execution_count": 40,
   "metadata": {
    "ExecuteTime": {
     "end_time": "2022-02-06T11:47:45.427649Z",
     "start_time": "2022-02-06T11:47:45.402383Z"
    }
   },
   "outputs": [
    {
     "data": {
      "text/html": [
       "<div>\n",
       "<style scoped>\n",
       "    .dataframe tbody tr th:only-of-type {\n",
       "        vertical-align: middle;\n",
       "    }\n",
       "\n",
       "    .dataframe tbody tr th {\n",
       "        vertical-align: top;\n",
       "    }\n",
       "\n",
       "    .dataframe thead th {\n",
       "        text-align: right;\n",
       "    }\n",
       "</style>\n",
       "<table border=\"1\" class=\"dataframe\">\n",
       "  <thead>\n",
       "    <tr style=\"text-align: right;\">\n",
       "      <th></th>\n",
       "      <th>product_id</th>\n",
       "      <th>onsale_web</th>\n",
       "      <th>price</th>\n",
       "      <th>stock_quantity</th>\n",
       "      <th>stock_status</th>\n",
       "      <th>id_web</th>\n",
       "    </tr>\n",
       "  </thead>\n",
       "  <tbody>\n",
       "    <tr>\n",
       "      <td>0</td>\n",
       "      <td>3847</td>\n",
       "      <td>1</td>\n",
       "      <td>24.2</td>\n",
       "      <td>0</td>\n",
       "      <td>outofstock</td>\n",
       "      <td>15298</td>\n",
       "    </tr>\n",
       "    <tr>\n",
       "      <td>1</td>\n",
       "      <td>3849</td>\n",
       "      <td>1</td>\n",
       "      <td>34.3</td>\n",
       "      <td>0</td>\n",
       "      <td>outofstock</td>\n",
       "      <td>15296</td>\n",
       "    </tr>\n",
       "    <tr>\n",
       "      <td>2</td>\n",
       "      <td>3850</td>\n",
       "      <td>1</td>\n",
       "      <td>20.8</td>\n",
       "      <td>0</td>\n",
       "      <td>outofstock</td>\n",
       "      <td>15300</td>\n",
       "    </tr>\n",
       "    <tr>\n",
       "      <td>3</td>\n",
       "      <td>4032</td>\n",
       "      <td>1</td>\n",
       "      <td>14.1</td>\n",
       "      <td>0</td>\n",
       "      <td>outofstock</td>\n",
       "      <td>19814</td>\n",
       "    </tr>\n",
       "    <tr>\n",
       "      <td>4</td>\n",
       "      <td>4039</td>\n",
       "      <td>1</td>\n",
       "      <td>46.0</td>\n",
       "      <td>0</td>\n",
       "      <td>outofstock</td>\n",
       "      <td>19815</td>\n",
       "    </tr>\n",
       "  </tbody>\n",
       "</table>\n",
       "</div>"
      ],
      "text/plain": [
       "   product_id  onsale_web  price  stock_quantity stock_status id_web\n",
       "0        3847           1   24.2               0   outofstock  15298\n",
       "1        3849           1   34.3               0   outofstock  15296\n",
       "2        3850           1   20.8               0   outofstock  15300\n",
       "3        4032           1   14.1               0   outofstock  19814\n",
       "4        4039           1   46.0               0   outofstock  19815"
      ]
     },
     "execution_count": 40,
     "metadata": {},
     "output_type": "execute_result"
    }
   ],
   "source": [
    "# On afiche \"df_erp_liaison\"\n",
    "df_erp_liaison.head()"
   ]
  },
  {
   "cell_type": "code",
   "execution_count": 41,
   "metadata": {
    "ExecuteTime": {
     "end_time": "2022-02-06T11:47:45.484805Z",
     "start_time": "2022-02-06T11:47:45.437618Z"
    }
   },
   "outputs": [
    {
     "data": {
      "text/html": [
       "<div>\n",
       "<style scoped>\n",
       "    .dataframe tbody tr th:only-of-type {\n",
       "        vertical-align: middle;\n",
       "    }\n",
       "\n",
       "    .dataframe tbody tr th {\n",
       "        vertical-align: top;\n",
       "    }\n",
       "\n",
       "    .dataframe thead th {\n",
       "        text-align: right;\n",
       "    }\n",
       "</style>\n",
       "<table border=\"1\" class=\"dataframe\">\n",
       "  <thead>\n",
       "    <tr style=\"text-align: right;\">\n",
       "      <th></th>\n",
       "      <th>product_id</th>\n",
       "      <th>onsale_web</th>\n",
       "      <th>price</th>\n",
       "      <th>stock_quantity</th>\n",
       "      <th>stock_status</th>\n",
       "      <th>id_web</th>\n",
       "    </tr>\n",
       "  </thead>\n",
       "  <tbody>\n",
       "    <tr>\n",
       "      <td>count</td>\n",
       "      <td>734.000000</td>\n",
       "      <td>734.000000</td>\n",
       "      <td>734.000000</td>\n",
       "      <td>734.000000</td>\n",
       "      <td>734</td>\n",
       "      <td>734.0</td>\n",
       "    </tr>\n",
       "    <tr>\n",
       "      <td>unique</td>\n",
       "      <td>NaN</td>\n",
       "      <td>NaN</td>\n",
       "      <td>NaN</td>\n",
       "      <td>NaN</td>\n",
       "      <td>2</td>\n",
       "      <td>734.0</td>\n",
       "    </tr>\n",
       "    <tr>\n",
       "      <td>top</td>\n",
       "      <td>NaN</td>\n",
       "      <td>NaN</td>\n",
       "      <td>NaN</td>\n",
       "      <td>NaN</td>\n",
       "      <td>instock</td>\n",
       "      <td>15711.0</td>\n",
       "    </tr>\n",
       "    <tr>\n",
       "      <td>freq</td>\n",
       "      <td>NaN</td>\n",
       "      <td>NaN</td>\n",
       "      <td>NaN</td>\n",
       "      <td>NaN</td>\n",
       "      <td>576</td>\n",
       "      <td>1.0</td>\n",
       "    </tr>\n",
       "    <tr>\n",
       "      <td>mean</td>\n",
       "      <td>5041.859673</td>\n",
       "      <td>0.972752</td>\n",
       "      <td>32.216894</td>\n",
       "      <td>27.986376</td>\n",
       "      <td>NaN</td>\n",
       "      <td>NaN</td>\n",
       "    </tr>\n",
       "    <tr>\n",
       "      <td>std</td>\n",
       "      <td>790.309295</td>\n",
       "      <td>0.162916</td>\n",
       "      <td>27.525448</td>\n",
       "      <td>47.573392</td>\n",
       "      <td>NaN</td>\n",
       "      <td>NaN</td>\n",
       "    </tr>\n",
       "    <tr>\n",
       "      <td>min</td>\n",
       "      <td>3847.000000</td>\n",
       "      <td>0.000000</td>\n",
       "      <td>5.200000</td>\n",
       "      <td>0.000000</td>\n",
       "      <td>NaN</td>\n",
       "      <td>NaN</td>\n",
       "    </tr>\n",
       "    <tr>\n",
       "      <td>25%</td>\n",
       "      <td>4287.250000</td>\n",
       "      <td>1.000000</td>\n",
       "      <td>14.100000</td>\n",
       "      <td>1.000000</td>\n",
       "      <td>NaN</td>\n",
       "      <td>NaN</td>\n",
       "    </tr>\n",
       "    <tr>\n",
       "      <td>50%</td>\n",
       "      <td>4862.500000</td>\n",
       "      <td>1.000000</td>\n",
       "      <td>23.400000</td>\n",
       "      <td>12.000000</td>\n",
       "      <td>NaN</td>\n",
       "      <td>NaN</td>\n",
       "    </tr>\n",
       "    <tr>\n",
       "      <td>75%</td>\n",
       "      <td>5714.250000</td>\n",
       "      <td>1.000000</td>\n",
       "      <td>41.800000</td>\n",
       "      <td>35.000000</td>\n",
       "      <td>NaN</td>\n",
       "      <td>NaN</td>\n",
       "    </tr>\n",
       "    <tr>\n",
       "      <td>max</td>\n",
       "      <td>7338.000000</td>\n",
       "      <td>1.000000</td>\n",
       "      <td>225.000000</td>\n",
       "      <td>578.000000</td>\n",
       "      <td>NaN</td>\n",
       "      <td>NaN</td>\n",
       "    </tr>\n",
       "  </tbody>\n",
       "</table>\n",
       "</div>"
      ],
      "text/plain": [
       "         product_id  onsale_web       price  stock_quantity stock_status  \\\n",
       "count    734.000000  734.000000  734.000000      734.000000          734   \n",
       "unique          NaN         NaN         NaN             NaN            2   \n",
       "top             NaN         NaN         NaN             NaN      instock   \n",
       "freq            NaN         NaN         NaN             NaN          576   \n",
       "mean    5041.859673    0.972752   32.216894       27.986376          NaN   \n",
       "std      790.309295    0.162916   27.525448       47.573392          NaN   \n",
       "min     3847.000000    0.000000    5.200000        0.000000          NaN   \n",
       "25%     4287.250000    1.000000   14.100000        1.000000          NaN   \n",
       "50%     4862.500000    1.000000   23.400000       12.000000          NaN   \n",
       "75%     5714.250000    1.000000   41.800000       35.000000          NaN   \n",
       "max     7338.000000    1.000000  225.000000      578.000000          NaN   \n",
       "\n",
       "         id_web  \n",
       "count     734.0  \n",
       "unique    734.0  \n",
       "top     15711.0  \n",
       "freq        1.0  \n",
       "mean        NaN  \n",
       "std         NaN  \n",
       "min         NaN  \n",
       "25%         NaN  \n",
       "50%         NaN  \n",
       "75%         NaN  \n",
       "max         NaN  "
      ]
     },
     "execution_count": 41,
     "metadata": {},
     "output_type": "execute_result"
    }
   ],
   "source": [
    "# Description détaillée de ce dataframe\n",
    "df_erp_liaison.describe(include = \"all\")"
   ]
  },
  {
   "cell_type": "code",
   "execution_count": 42,
   "metadata": {
    "ExecuteTime": {
     "end_time": "2022-02-06T11:47:45.510098Z",
     "start_time": "2022-02-06T11:47:45.489921Z"
    }
   },
   "outputs": [],
   "source": [
    "# On merge de la dataframe \"web\" à \"df_erp_liaison\" par même clé \"id_web\"\n",
    "df = df_erp_liaison.merge(right = web, on = \"id_web\")"
   ]
  },
  {
   "cell_type": "code",
   "execution_count": 43,
   "metadata": {
    "ExecuteTime": {
     "end_time": "2022-02-06T11:47:45.558910Z",
     "start_time": "2022-02-06T11:47:45.516216Z"
    }
   },
   "outputs": [
    {
     "data": {
      "text/html": [
       "<div>\n",
       "<style scoped>\n",
       "    .dataframe tbody tr th:only-of-type {\n",
       "        vertical-align: middle;\n",
       "    }\n",
       "\n",
       "    .dataframe tbody tr th {\n",
       "        vertical-align: top;\n",
       "    }\n",
       "\n",
       "    .dataframe thead th {\n",
       "        text-align: right;\n",
       "    }\n",
       "</style>\n",
       "<table border=\"1\" class=\"dataframe\">\n",
       "  <thead>\n",
       "    <tr style=\"text-align: right;\">\n",
       "      <th></th>\n",
       "      <th>product_id</th>\n",
       "      <th>onsale_web</th>\n",
       "      <th>price</th>\n",
       "      <th>stock_quantity</th>\n",
       "      <th>stock_status</th>\n",
       "      <th>id_web</th>\n",
       "      <th>virtual</th>\n",
       "      <th>downloadable</th>\n",
       "      <th>rating_count</th>\n",
       "      <th>average_rating</th>\n",
       "      <th>...</th>\n",
       "      <th>comment_status</th>\n",
       "      <th>ping_status</th>\n",
       "      <th>post_name</th>\n",
       "      <th>post_modified</th>\n",
       "      <th>post_modified_gmt</th>\n",
       "      <th>post_parent</th>\n",
       "      <th>guid</th>\n",
       "      <th>menu_order</th>\n",
       "      <th>post_type</th>\n",
       "      <th>comment_count</th>\n",
       "    </tr>\n",
       "  </thead>\n",
       "  <tbody>\n",
       "    <tr>\n",
       "      <td>0</td>\n",
       "      <td>3847</td>\n",
       "      <td>1</td>\n",
       "      <td>24.2</td>\n",
       "      <td>0</td>\n",
       "      <td>outofstock</td>\n",
       "      <td>15298</td>\n",
       "      <td>0</td>\n",
       "      <td>0</td>\n",
       "      <td>0</td>\n",
       "      <td>0.0</td>\n",
       "      <td>...</td>\n",
       "      <td>closed</td>\n",
       "      <td>closed</td>\n",
       "      <td>pierre-jean-villa-saint-joseph-preface-2018</td>\n",
       "      <td>2019-12-30 09:30:29</td>\n",
       "      <td>2019-12-30 08:30:29</td>\n",
       "      <td>0.0</td>\n",
       "      <td>https://www.bottle-neck.fr/?post_type=product&amp;...</td>\n",
       "      <td>0.0</td>\n",
       "      <td>product</td>\n",
       "      <td>0.0</td>\n",
       "    </tr>\n",
       "    <tr>\n",
       "      <td>1</td>\n",
       "      <td>3849</td>\n",
       "      <td>1</td>\n",
       "      <td>34.3</td>\n",
       "      <td>0</td>\n",
       "      <td>outofstock</td>\n",
       "      <td>15296</td>\n",
       "      <td>0</td>\n",
       "      <td>0</td>\n",
       "      <td>0</td>\n",
       "      <td>0.0</td>\n",
       "      <td>...</td>\n",
       "      <td>closed</td>\n",
       "      <td>closed</td>\n",
       "      <td>pierre-jean-villa-saint-joseph-tilde-2017</td>\n",
       "      <td>2019-12-21 09:00:17</td>\n",
       "      <td>2019-12-21 08:00:17</td>\n",
       "      <td>0.0</td>\n",
       "      <td>https://www.bottle-neck.fr/?post_type=product&amp;...</td>\n",
       "      <td>0.0</td>\n",
       "      <td>product</td>\n",
       "      <td>0.0</td>\n",
       "    </tr>\n",
       "    <tr>\n",
       "      <td>2</td>\n",
       "      <td>3850</td>\n",
       "      <td>1</td>\n",
       "      <td>20.8</td>\n",
       "      <td>0</td>\n",
       "      <td>outofstock</td>\n",
       "      <td>15300</td>\n",
       "      <td>0</td>\n",
       "      <td>0</td>\n",
       "      <td>0</td>\n",
       "      <td>0.0</td>\n",
       "      <td>...</td>\n",
       "      <td>closed</td>\n",
       "      <td>closed</td>\n",
       "      <td>pierre-jean-villa-croze-hermitage-accroche-coe...</td>\n",
       "      <td>2020-06-26 18:15:03</td>\n",
       "      <td>2020-06-26 16:15:03</td>\n",
       "      <td>0.0</td>\n",
       "      <td>https://www.bottle-neck.fr/?post_type=product&amp;...</td>\n",
       "      <td>0.0</td>\n",
       "      <td>product</td>\n",
       "      <td>0.0</td>\n",
       "    </tr>\n",
       "    <tr>\n",
       "      <td>3</td>\n",
       "      <td>4032</td>\n",
       "      <td>1</td>\n",
       "      <td>14.1</td>\n",
       "      <td>0</td>\n",
       "      <td>outofstock</td>\n",
       "      <td>19814</td>\n",
       "      <td>0</td>\n",
       "      <td>0</td>\n",
       "      <td>0</td>\n",
       "      <td>0.0</td>\n",
       "      <td>...</td>\n",
       "      <td>closed</td>\n",
       "      <td>closed</td>\n",
       "      <td>pierre-jean-villa-igp-gamine-2018</td>\n",
       "      <td>2020-01-04 16:36:01</td>\n",
       "      <td>2020-01-04 15:36:01</td>\n",
       "      <td>0.0</td>\n",
       "      <td>https://www.bottle-neck.fr/?post_type=product&amp;...</td>\n",
       "      <td>0.0</td>\n",
       "      <td>product</td>\n",
       "      <td>0.0</td>\n",
       "    </tr>\n",
       "    <tr>\n",
       "      <td>4</td>\n",
       "      <td>4039</td>\n",
       "      <td>1</td>\n",
       "      <td>46.0</td>\n",
       "      <td>0</td>\n",
       "      <td>outofstock</td>\n",
       "      <td>19815</td>\n",
       "      <td>0</td>\n",
       "      <td>0</td>\n",
       "      <td>0</td>\n",
       "      <td>0.0</td>\n",
       "      <td>...</td>\n",
       "      <td>closed</td>\n",
       "      <td>closed</td>\n",
       "      <td>pierre-jean-villa-cote-rotie-carmina-2017</td>\n",
       "      <td>2020-01-04 16:36:10</td>\n",
       "      <td>2020-01-04 15:36:10</td>\n",
       "      <td>0.0</td>\n",
       "      <td>https://www.bottle-neck.fr/?post_type=product&amp;...</td>\n",
       "      <td>0.0</td>\n",
       "      <td>product</td>\n",
       "      <td>0.0</td>\n",
       "    </tr>\n",
       "  </tbody>\n",
       "</table>\n",
       "<p>5 rows × 28 columns</p>\n",
       "</div>"
      ],
      "text/plain": [
       "   product_id  onsale_web  price  stock_quantity stock_status id_web  virtual  \\\n",
       "0        3847           1   24.2               0   outofstock  15298        0   \n",
       "1        3849           1   34.3               0   outofstock  15296        0   \n",
       "2        3850           1   20.8               0   outofstock  15300        0   \n",
       "3        4032           1   14.1               0   outofstock  19814        0   \n",
       "4        4039           1   46.0               0   outofstock  19815        0   \n",
       "\n",
       "   downloadable  rating_count  average_rating  ...  comment_status  \\\n",
       "0             0             0             0.0  ...          closed   \n",
       "1             0             0             0.0  ...          closed   \n",
       "2             0             0             0.0  ...          closed   \n",
       "3             0             0             0.0  ...          closed   \n",
       "4             0             0             0.0  ...          closed   \n",
       "\n",
       "  ping_status                                          post_name  \\\n",
       "0      closed        pierre-jean-villa-saint-joseph-preface-2018   \n",
       "1      closed          pierre-jean-villa-saint-joseph-tilde-2017   \n",
       "2      closed  pierre-jean-villa-croze-hermitage-accroche-coe...   \n",
       "3      closed                  pierre-jean-villa-igp-gamine-2018   \n",
       "4      closed          pierre-jean-villa-cote-rotie-carmina-2017   \n",
       "\n",
       "        post_modified   post_modified_gmt post_parent  \\\n",
       "0 2019-12-30 09:30:29 2019-12-30 08:30:29         0.0   \n",
       "1 2019-12-21 09:00:17 2019-12-21 08:00:17         0.0   \n",
       "2 2020-06-26 18:15:03 2020-06-26 16:15:03         0.0   \n",
       "3 2020-01-04 16:36:01 2020-01-04 15:36:01         0.0   \n",
       "4 2020-01-04 16:36:10 2020-01-04 15:36:10         0.0   \n",
       "\n",
       "                                                guid menu_order post_type  \\\n",
       "0  https://www.bottle-neck.fr/?post_type=product&...        0.0   product   \n",
       "1  https://www.bottle-neck.fr/?post_type=product&...        0.0   product   \n",
       "2  https://www.bottle-neck.fr/?post_type=product&...        0.0   product   \n",
       "3  https://www.bottle-neck.fr/?post_type=product&...        0.0   product   \n",
       "4  https://www.bottle-neck.fr/?post_type=product&...        0.0   product   \n",
       "\n",
       "  comment_count  \n",
       "0           0.0  \n",
       "1           0.0  \n",
       "2           0.0  \n",
       "3           0.0  \n",
       "4           0.0  \n",
       "\n",
       "[5 rows x 28 columns]"
      ]
     },
     "execution_count": 43,
     "metadata": {},
     "output_type": "execute_result"
    }
   ],
   "source": [
    "# On affiche df\n",
    "df.head()"
   ]
  },
  {
   "cell_type": "code",
   "execution_count": 44,
   "metadata": {
    "ExecuteTime": {
     "end_time": "2022-02-06T11:47:45.584608Z",
     "start_time": "2022-02-06T11:47:45.563211Z"
    }
   },
   "outputs": [
    {
     "name": "stdout",
     "output_type": "stream",
     "text": [
      "<class 'pandas.core.frame.DataFrame'>\n",
      "Int64Index: 714 entries, 0 to 713\n",
      "Data columns (total 28 columns):\n",
      "product_id           714 non-null int64\n",
      "onsale_web           714 non-null int64\n",
      "price                714 non-null float64\n",
      "stock_quantity       714 non-null int64\n",
      "stock_status         714 non-null object\n",
      "id_web               714 non-null object\n",
      "virtual              714 non-null int64\n",
      "downloadable         714 non-null int64\n",
      "rating_count         714 non-null int64\n",
      "average_rating       714 non-null float64\n",
      "total_sales          714 non-null float64\n",
      "tax_status           714 non-null object\n",
      "post_author          714 non-null float64\n",
      "post_date            714 non-null datetime64[ns]\n",
      "post_date_gmt        714 non-null datetime64[ns]\n",
      "post_title           714 non-null object\n",
      "post_excerpt         714 non-null object\n",
      "post_status          714 non-null object\n",
      "comment_status       714 non-null object\n",
      "ping_status          714 non-null object\n",
      "post_name            714 non-null object\n",
      "post_modified        714 non-null datetime64[ns]\n",
      "post_modified_gmt    714 non-null datetime64[ns]\n",
      "post_parent          714 non-null float64\n",
      "guid                 714 non-null object\n",
      "menu_order           714 non-null float64\n",
      "post_type            714 non-null object\n",
      "comment_count        714 non-null float64\n",
      "dtypes: datetime64[ns](4), float64(7), int64(6), object(11)\n",
      "memory usage: 161.8+ KB\n"
     ]
    }
   ],
   "source": [
    "# On affiche les infos de df\n",
    "df.info ()"
   ]
  },
  {
   "cell_type": "markdown",
   "metadata": {},
   "source": [
    "_**On bien remarque la price est \"float64\" mais le \"total_sales\" est aussi de \"float64\".**_"
   ]
  },
  {
   "cell_type": "markdown",
   "metadata": {},
   "source": [
    "## 7. Calcul du chiffre d'affaires "
   ]
  },
  {
   "cell_type": "markdown",
   "metadata": {},
   "source": [
    "### 7.1. Calcul du chiffre d'affaires par produit "
   ]
  },
  {
   "cell_type": "markdown",
   "metadata": {},
   "source": [
    "**_Pour calculer le chiffre d'affaires, on doit changer le type de la colonne \"total_sales\" de \"float64\" à \"int\"._**"
   ]
  },
  {
   "cell_type": "code",
   "execution_count": 45,
   "metadata": {
    "ExecuteTime": {
     "end_time": "2022-02-06T11:47:45.596521Z",
     "start_time": "2022-02-06T11:47:45.589645Z"
    }
   },
   "outputs": [],
   "source": [
    "# Changer le type de la colonne \"total_sales\" de \"float64\" à \"int\"\n",
    "df[\"total_sales\"] = df[\"total_sales\"].astype(int)"
   ]
  },
  {
   "cell_type": "code",
   "execution_count": 46,
   "metadata": {
    "ExecuteTime": {
     "end_time": "2022-02-06T11:47:45.626456Z",
     "start_time": "2022-02-06T11:47:45.601558Z"
    }
   },
   "outputs": [],
   "source": [
    "# On crée une nouvelle colonne \"ca\" pour contenir le chiffre d'affaire pour chaque produit\n",
    "df[\"ca\"] = df[\"price\"] * df [\"total_sales\"]"
   ]
  },
  {
   "cell_type": "code",
   "execution_count": 47,
   "metadata": {
    "ExecuteTime": {
     "end_time": "2022-02-06T11:47:45.685728Z",
     "start_time": "2022-02-06T11:47:45.629264Z"
    }
   },
   "outputs": [
    {
     "data": {
      "text/html": [
       "<div>\n",
       "<style scoped>\n",
       "    .dataframe tbody tr th:only-of-type {\n",
       "        vertical-align: middle;\n",
       "    }\n",
       "\n",
       "    .dataframe tbody tr th {\n",
       "        vertical-align: top;\n",
       "    }\n",
       "\n",
       "    .dataframe thead th {\n",
       "        text-align: right;\n",
       "    }\n",
       "</style>\n",
       "<table border=\"1\" class=\"dataframe\">\n",
       "  <thead>\n",
       "    <tr style=\"text-align: right;\">\n",
       "      <th></th>\n",
       "      <th>product_id</th>\n",
       "      <th>onsale_web</th>\n",
       "      <th>price</th>\n",
       "      <th>stock_quantity</th>\n",
       "      <th>stock_status</th>\n",
       "      <th>id_web</th>\n",
       "      <th>virtual</th>\n",
       "      <th>downloadable</th>\n",
       "      <th>rating_count</th>\n",
       "      <th>average_rating</th>\n",
       "      <th>...</th>\n",
       "      <th>ping_status</th>\n",
       "      <th>post_name</th>\n",
       "      <th>post_modified</th>\n",
       "      <th>post_modified_gmt</th>\n",
       "      <th>post_parent</th>\n",
       "      <th>guid</th>\n",
       "      <th>menu_order</th>\n",
       "      <th>post_type</th>\n",
       "      <th>comment_count</th>\n",
       "      <th>ca</th>\n",
       "    </tr>\n",
       "  </thead>\n",
       "  <tbody>\n",
       "    <tr>\n",
       "      <td>0</td>\n",
       "      <td>3847</td>\n",
       "      <td>1</td>\n",
       "      <td>24.2</td>\n",
       "      <td>0</td>\n",
       "      <td>outofstock</td>\n",
       "      <td>15298</td>\n",
       "      <td>0</td>\n",
       "      <td>0</td>\n",
       "      <td>0</td>\n",
       "      <td>0.0</td>\n",
       "      <td>...</td>\n",
       "      <td>closed</td>\n",
       "      <td>pierre-jean-villa-saint-joseph-preface-2018</td>\n",
       "      <td>2019-12-30 09:30:29</td>\n",
       "      <td>2019-12-30 08:30:29</td>\n",
       "      <td>0.0</td>\n",
       "      <td>https://www.bottle-neck.fr/?post_type=product&amp;...</td>\n",
       "      <td>0.0</td>\n",
       "      <td>product</td>\n",
       "      <td>0.0</td>\n",
       "      <td>145.2</td>\n",
       "    </tr>\n",
       "    <tr>\n",
       "      <td>1</td>\n",
       "      <td>3849</td>\n",
       "      <td>1</td>\n",
       "      <td>34.3</td>\n",
       "      <td>0</td>\n",
       "      <td>outofstock</td>\n",
       "      <td>15296</td>\n",
       "      <td>0</td>\n",
       "      <td>0</td>\n",
       "      <td>0</td>\n",
       "      <td>0.0</td>\n",
       "      <td>...</td>\n",
       "      <td>closed</td>\n",
       "      <td>pierre-jean-villa-saint-joseph-tilde-2017</td>\n",
       "      <td>2019-12-21 09:00:17</td>\n",
       "      <td>2019-12-21 08:00:17</td>\n",
       "      <td>0.0</td>\n",
       "      <td>https://www.bottle-neck.fr/?post_type=product&amp;...</td>\n",
       "      <td>0.0</td>\n",
       "      <td>product</td>\n",
       "      <td>0.0</td>\n",
       "      <td>0.0</td>\n",
       "    </tr>\n",
       "    <tr>\n",
       "      <td>2</td>\n",
       "      <td>3850</td>\n",
       "      <td>1</td>\n",
       "      <td>20.8</td>\n",
       "      <td>0</td>\n",
       "      <td>outofstock</td>\n",
       "      <td>15300</td>\n",
       "      <td>0</td>\n",
       "      <td>0</td>\n",
       "      <td>0</td>\n",
       "      <td>0.0</td>\n",
       "      <td>...</td>\n",
       "      <td>closed</td>\n",
       "      <td>pierre-jean-villa-croze-hermitage-accroche-coe...</td>\n",
       "      <td>2020-06-26 18:15:03</td>\n",
       "      <td>2020-06-26 16:15:03</td>\n",
       "      <td>0.0</td>\n",
       "      <td>https://www.bottle-neck.fr/?post_type=product&amp;...</td>\n",
       "      <td>0.0</td>\n",
       "      <td>product</td>\n",
       "      <td>0.0</td>\n",
       "      <td>0.0</td>\n",
       "    </tr>\n",
       "    <tr>\n",
       "      <td>3</td>\n",
       "      <td>4032</td>\n",
       "      <td>1</td>\n",
       "      <td>14.1</td>\n",
       "      <td>0</td>\n",
       "      <td>outofstock</td>\n",
       "      <td>19814</td>\n",
       "      <td>0</td>\n",
       "      <td>0</td>\n",
       "      <td>0</td>\n",
       "      <td>0.0</td>\n",
       "      <td>...</td>\n",
       "      <td>closed</td>\n",
       "      <td>pierre-jean-villa-igp-gamine-2018</td>\n",
       "      <td>2020-01-04 16:36:01</td>\n",
       "      <td>2020-01-04 15:36:01</td>\n",
       "      <td>0.0</td>\n",
       "      <td>https://www.bottle-neck.fr/?post_type=product&amp;...</td>\n",
       "      <td>0.0</td>\n",
       "      <td>product</td>\n",
       "      <td>0.0</td>\n",
       "      <td>42.3</td>\n",
       "    </tr>\n",
       "    <tr>\n",
       "      <td>4</td>\n",
       "      <td>4039</td>\n",
       "      <td>1</td>\n",
       "      <td>46.0</td>\n",
       "      <td>0</td>\n",
       "      <td>outofstock</td>\n",
       "      <td>19815</td>\n",
       "      <td>0</td>\n",
       "      <td>0</td>\n",
       "      <td>0</td>\n",
       "      <td>0.0</td>\n",
       "      <td>...</td>\n",
       "      <td>closed</td>\n",
       "      <td>pierre-jean-villa-cote-rotie-carmina-2017</td>\n",
       "      <td>2020-01-04 16:36:10</td>\n",
       "      <td>2020-01-04 15:36:10</td>\n",
       "      <td>0.0</td>\n",
       "      <td>https://www.bottle-neck.fr/?post_type=product&amp;...</td>\n",
       "      <td>0.0</td>\n",
       "      <td>product</td>\n",
       "      <td>0.0</td>\n",
       "      <td>0.0</td>\n",
       "    </tr>\n",
       "  </tbody>\n",
       "</table>\n",
       "<p>5 rows × 29 columns</p>\n",
       "</div>"
      ],
      "text/plain": [
       "   product_id  onsale_web  price  stock_quantity stock_status id_web  virtual  \\\n",
       "0        3847           1   24.2               0   outofstock  15298        0   \n",
       "1        3849           1   34.3               0   outofstock  15296        0   \n",
       "2        3850           1   20.8               0   outofstock  15300        0   \n",
       "3        4032           1   14.1               0   outofstock  19814        0   \n",
       "4        4039           1   46.0               0   outofstock  19815        0   \n",
       "\n",
       "   downloadable  rating_count  average_rating  ...  ping_status  \\\n",
       "0             0             0             0.0  ...       closed   \n",
       "1             0             0             0.0  ...       closed   \n",
       "2             0             0             0.0  ...       closed   \n",
       "3             0             0             0.0  ...       closed   \n",
       "4             0             0             0.0  ...       closed   \n",
       "\n",
       "                                           post_name       post_modified  \\\n",
       "0        pierre-jean-villa-saint-joseph-preface-2018 2019-12-30 09:30:29   \n",
       "1          pierre-jean-villa-saint-joseph-tilde-2017 2019-12-21 09:00:17   \n",
       "2  pierre-jean-villa-croze-hermitage-accroche-coe... 2020-06-26 18:15:03   \n",
       "3                  pierre-jean-villa-igp-gamine-2018 2020-01-04 16:36:01   \n",
       "4          pierre-jean-villa-cote-rotie-carmina-2017 2020-01-04 16:36:10   \n",
       "\n",
       "    post_modified_gmt post_parent  \\\n",
       "0 2019-12-30 08:30:29         0.0   \n",
       "1 2019-12-21 08:00:17         0.0   \n",
       "2 2020-06-26 16:15:03         0.0   \n",
       "3 2020-01-04 15:36:01         0.0   \n",
       "4 2020-01-04 15:36:10         0.0   \n",
       "\n",
       "                                                guid menu_order post_type  \\\n",
       "0  https://www.bottle-neck.fr/?post_type=product&...        0.0   product   \n",
       "1  https://www.bottle-neck.fr/?post_type=product&...        0.0   product   \n",
       "2  https://www.bottle-neck.fr/?post_type=product&...        0.0   product   \n",
       "3  https://www.bottle-neck.fr/?post_type=product&...        0.0   product   \n",
       "4  https://www.bottle-neck.fr/?post_type=product&...        0.0   product   \n",
       "\n",
       "  comment_count     ca  \n",
       "0           0.0  145.2  \n",
       "1           0.0    0.0  \n",
       "2           0.0    0.0  \n",
       "3           0.0   42.3  \n",
       "4           0.0    0.0  \n",
       "\n",
       "[5 rows x 29 columns]"
      ]
     },
     "execution_count": 47,
     "metadata": {},
     "output_type": "execute_result"
    }
   ],
   "source": [
    "# On affiche pour voir la colonne \"ca\" avec les chiffre d'affraie par produit\n",
    "df.head()"
   ]
  },
  {
   "cell_type": "markdown",
   "metadata": {},
   "source": [
    "### 7.2. Calcul du chiffre d'affaire total "
   ]
  },
  {
   "cell_type": "code",
   "execution_count": 48,
   "metadata": {
    "ExecuteTime": {
     "end_time": "2022-02-06T11:47:45.708754Z",
     "start_time": "2022-02-06T11:47:45.696321Z"
    }
   },
   "outputs": [],
   "source": [
    "# Faire la somme des valeurs de la colonne \"ca\"\n",
    "ca_total = df[\"ca\"].sum()"
   ]
  },
  {
   "cell_type": "code",
   "execution_count": 49,
   "metadata": {
    "ExecuteTime": {
     "end_time": "2022-02-06T11:47:45.724196Z",
     "start_time": "2022-02-06T11:47:45.714825Z"
    }
   },
   "outputs": [
    {
     "name": "stdout",
     "output_type": "stream",
     "text": [
      "Le chiffre d'affraire total est de 70568.6 euros.\n"
     ]
    }
   ],
   "source": [
    "print(\"Le chiffre d'affraire total est de\", ca_total, \"euros.\")"
   ]
  },
  {
   "cell_type": "markdown",
   "metadata": {},
   "source": [
    "## 8. Analyse sur le prix "
   ]
  },
  {
   "cell_type": "code",
   "execution_count": 50,
   "metadata": {
    "ExecuteTime": {
     "end_time": "2022-02-06T11:47:45.744611Z",
     "start_time": "2022-02-06T11:47:45.732899Z"
    }
   },
   "outputs": [
    {
     "data": {
      "text/plain": [
       "32.49313725490197"
      ]
     },
     "execution_count": 50,
     "metadata": {},
     "output_type": "execute_result"
    }
   ],
   "source": [
    "# On calcul de la moyenne de la colonne \"price\"\n",
    "df.price.mean()"
   ]
  },
  {
   "cell_type": "code",
   "execution_count": 51,
   "metadata": {
    "ExecuteTime": {
     "end_time": "2022-02-06T11:47:45.762387Z",
     "start_time": "2022-02-06T11:47:45.752849Z"
    }
   },
   "outputs": [
    {
     "data": {
      "text/plain": [
       "27.810524922323726"
      ]
     },
     "execution_count": 51,
     "metadata": {},
     "output_type": "execute_result"
    }
   ],
   "source": [
    "# On calcul de l'écart-type\n",
    "df.price.std()"
   ]
  },
  {
   "cell_type": "code",
   "execution_count": 52,
   "metadata": {
    "ExecuteTime": {
     "end_time": "2022-02-06T11:47:45.785327Z",
     "start_time": "2022-02-06T11:47:45.770007Z"
    }
   },
   "outputs": [
    {
     "data": {
      "text/plain": [
       "23.55"
      ]
     },
     "execution_count": 52,
     "metadata": {},
     "output_type": "execute_result"
    }
   ],
   "source": [
    "# On affiche le valeur médiane\n",
    "df.price.median()"
   ]
  },
  {
   "cell_type": "code",
   "execution_count": 53,
   "metadata": {
    "ExecuteTime": {
     "end_time": "2022-02-06T11:47:45.808976Z",
     "start_time": "2022-02-06T11:47:45.793451Z"
    }
   },
   "outputs": [
    {
     "data": {
      "text/plain": [
       "225.0"
      ]
     },
     "execution_count": 53,
     "metadata": {},
     "output_type": "execute_result"
    }
   ],
   "source": [
    "# On affiche le valeur la plus haute\n",
    "df.price.max()"
   ]
  },
  {
   "cell_type": "code",
   "execution_count": 54,
   "metadata": {
    "ExecuteTime": {
     "end_time": "2022-02-06T11:47:45.835835Z",
     "start_time": "2022-02-06T11:47:45.822467Z"
    }
   },
   "outputs": [
    {
     "data": {
      "text/plain": [
       "5.2"
      ]
     },
     "execution_count": 54,
     "metadata": {},
     "output_type": "execute_result"
    }
   ],
   "source": [
    "# On affiche le valeur la plus basse\n",
    "df.price.min()"
   ]
  },
  {
   "cell_type": "code",
   "execution_count": 55,
   "metadata": {
    "ExecuteTime": {
     "end_time": "2022-02-06T11:47:45.856403Z",
     "start_time": "2022-02-06T11:47:45.839900Z"
    }
   },
   "outputs": [
    {
     "data": {
      "text/plain": [
       "0.25    14.100\n",
       "0.50    23.550\n",
       "0.75    42.175\n",
       "Name: price, dtype: float64"
      ]
     },
     "execution_count": 55,
     "metadata": {},
     "output_type": "execute_result"
    }
   ],
   "source": [
    "# On calcul des valeurs quartiles\n",
    "df.price.quantile([0.25, 0.5, 0.75])"
   ]
  },
  {
   "cell_type": "code",
   "execution_count": 56,
   "metadata": {
    "ExecuteTime": {
     "end_time": "2022-02-06T11:47:45.881680Z",
     "start_time": "2022-02-06T11:47:45.862454Z"
    }
   },
   "outputs": [
    {
     "data": {
      "text/plain": [
       "count    714.000000\n",
       "mean      32.493137\n",
       "std       27.810525\n",
       "min        5.200000\n",
       "25%       14.100000\n",
       "50%       23.550000\n",
       "75%       42.175000\n",
       "max      225.000000\n",
       "Name: price, dtype: float64"
      ]
     },
     "execution_count": 56,
     "metadata": {},
     "output_type": "execute_result"
    }
   ],
   "source": [
    "# On vérifie tous les infos par fonction \"describe\"\n",
    "df.price.describe()"
   ]
  },
  {
   "cell_type": "markdown",
   "metadata": {},
   "source": [
    "**_On bien observe les valeurs nécessaire pour comprendre qu'est-ce au'il pass dans la colonne \"price\". Le min est 5.2 euros et max c'est 225 euros. Le median est de 32.49 euros. Écart-type est de +/-27.81. En suite, on va faire la visualization pour plus de lisibilité._**"
   ]
  },
  {
   "cell_type": "markdown",
   "metadata": {},
   "source": [
    "### 8.1. Visualization sur le prix"
   ]
  },
  {
   "cell_type": "markdown",
   "metadata": {},
   "source": [
    "**On choisit un graphique Boxplot pour faire une présentation des tous les valeurs includent les valeurs abérrantes. Because Boxplot is a standardized way of displaying the distribution of data based on a five number summary: the first quartile, minimum, median, the third quartile,and maximum. The [boxplot](https://seaborn.pydata.org/generated/seaborn.boxplot.html) can tell us:**"
   ]
  },
  {
   "cell_type": "markdown",
   "metadata": {},
   "source": [
    "* **Tell us the values of the outliers**\n",
    "* **Identify if data is symmetrical**\n",
    "* **Determine how tightly data is grouped**\n",
    "* **See if the data is skewed**"
   ]
  },
  {
   "cell_type": "markdown",
   "metadata": {},
   "source": [
    "<div>\n",
    "<img src= \"labeled-boxplot.png\" style = \"width:800px; height: 400px\" title = \"Boxplot\"/>\n",
    "</div>"
   ]
  },
  {
   "cell_type": "markdown",
   "metadata": {},
   "source": [
    "For those who are unfamiliar with the terminology of this diagram, they are described below:\n",
    "\n",
    "* Q1: The first quartile of the dataset. 25% of values lie below this level.\n",
    "* Median: The second quartile of the dataset. 50% of values lie above and below this level.\n",
    "* Q3: The third quartile of the dataset. 25% of values lie above this level.\n",
    "* The boxplot 'Minimum', defined as Q1 less 1.5 times the interquartile range.\n",
    "* The boxplot Maximum, defined as Q3 plus 1.5 times the interquartile range.\n",
    "* The median: the midpoint of the datasets.\n",
    "* Interquartile range (IQR): the distance between Q1 and Q3 (IQR = Q3 - Q1). This measure is less affected by extreme values (outliers) since it focused on the values lying in the middle and it is good measure for skewed distributions.\n",
    "* Outliers: data points that are below Q1 or above Q3. That is presented by the small circles/ dots as we see in the figure (left and right whiskers). Any point outside the both \"whiskers\" are called \"outlier\".\n"
   ]
  },
  {
   "cell_type": "code",
   "execution_count": 57,
   "metadata": {
    "ExecuteTime": {
     "end_time": "2022-02-06T11:47:46.129562Z",
     "start_time": "2022-02-06T11:47:45.888241Z"
    }
   },
   "outputs": [
    {
     "data": {
      "image/png": "[encoded data removed]",
      "text/plain": [
       "<Figure size 432x288 with 1 Axes>"
      ]
     },
     "metadata": {
      "needs_background": "light"
     },
     "output_type": "display_data"
    }
   ],
   "source": [
    "# On crée le boxplot\n",
    "sns.boxplot (x = df.price, notch = \"True\", \n",
    "                  color = \"green\",\n",
    "                 width = .75,\n",
    "                 linewidth = 2.5,\n",
    "                 whis = 2.5,\n",
    "                 fliersize = 4,\n",
    "                  showcaps = True\n",
    "                 )\n",
    "plt.title(\"Boxplot du prix des bouteilles de vin\", fontsize = 14)\n",
    "plt.show()"
   ]
  },
  {
   "cell_type": "markdown",
   "metadata": {},
   "source": [
    "**_Ce graphique représente beaucoup de prix qui sont considéré comme les valeurs abérrantes (outliers)._**"
   ]
  },
  {
   "cell_type": "code",
   "execution_count": 58,
   "metadata": {
    "ExecuteTime": {
     "end_time": "2022-02-06T11:47:46.473228Z",
     "start_time": "2022-02-06T11:47:46.136238Z"
    }
   },
   "outputs": [
    {
     "data": {
      "image/png": "[encoded data removed]",
      "text/plain": [
       "<Figure size 432x288 with 1 Axes>"
      ]
     },
     "metadata": {
      "needs_background": "light"
     },
     "output_type": "display_data"
    }
   ],
   "source": [
    "# On affiche un nuage de point pour décrire\n",
    "df.plot.scatter (x = \"price\", y = \"total_sales\", color = \"blue\")\n",
    "plt.title (\"Scatter plot pour le prix et total_sales\", fontsize = 14)\n",
    "plt.show()"
   ]
  },
  {
   "cell_type": "markdown",
   "metadata": {},
   "source": [
    "**Ici on peut voir le nombre des bouteilles de vin vendu est en relation avec son prix.**"
   ]
  },
  {
   "cell_type": "code",
   "execution_count": 59,
   "metadata": {
    "ExecuteTime": {
     "end_time": "2022-02-06T11:47:47.203834Z",
     "start_time": "2022-02-06T11:47:46.480895Z"
    }
   },
   "outputs": [
    {
     "data": {
      "image/png": "[encoded data removed]",
      "text/plain": [
       "<Figure size 432x288 with 2 Axes>"
      ]
     },
     "metadata": {
      "needs_background": "light"
     },
     "output_type": "display_data"
    }
   ],
   "source": [
    "# On affiche un nuage de point concerne de relation entre le prix de chaque\n",
    "df.plot.scatter(x = \"product_id\", y = \"price\", c = \"price\", cmap = \"Spectral\")\n",
    "plt.title(\"Scatter plot pour le prix et produit\", fontsize = 14)\n",
    "plt.show()"
   ]
  },
  {
   "cell_type": "markdown",
   "metadata": {},
   "source": [
    "_**On remarque au moins 6 prix de produit qui sont aberrants.**_"
   ]
  },
  {
   "cell_type": "markdown",
   "metadata": {},
   "source": [
    "### 8.2. Liste des outliers "
   ]
  },
  {
   "cell_type": "code",
   "execution_count": 60,
   "metadata": {
    "ExecuteTime": {
     "end_time": "2022-02-06T11:47:47.228399Z",
     "start_time": "2022-02-06T11:47:47.209906Z"
    }
   },
   "outputs": [
    {
     "name": "stdout",
     "output_type": "stream",
     "text": [
      "28.08\n"
     ]
    }
   ],
   "source": [
    "# On calcul la vraiable distance de l'écart inter-quartile (Inter-quantile range = IQR)\n",
    "Q1 = df.price.quantile(0.25)\n",
    "Q3 = df.price.quantile(0.75)\n",
    "IQR = np.round((Q3 - Q1),2)\n",
    "print (IQR)"
   ]
  },
  {
   "cell_type": "code",
   "execution_count": 61,
   "metadata": {
    "ExecuteTime": {
     "end_time": "2022-02-06T11:47:47.243621Z",
     "start_time": "2022-02-06T11:47:47.233202Z"
    }
   },
   "outputs": [
    {
     "name": "stdout",
     "output_type": "stream",
     "text": [
      "La limite supérieur est de 84.3 .\n"
     ]
    }
   ],
   "source": [
    "# On affiche de la limite supérieur\n",
    "sup = np.round((Q3 + 1.5 * IQR),2)\n",
    "print (\"La limite supérieur est de\", sup, \".\")"
   ]
  },
  {
   "cell_type": "code",
   "execution_count": 62,
   "metadata": {
    "ExecuteTime": {
     "end_time": "2022-02-06T11:47:47.257978Z",
     "start_time": "2022-02-06T11:47:47.250049Z"
    }
   },
   "outputs": [
    {
     "name": "stdout",
     "output_type": "stream",
     "text": [
      "La limite inférieur est de -28.02 .\n"
     ]
    }
   ],
   "source": [
    "# On calcul de la limite inférieur\n",
    "inf = np.round((Q1 - 1.5 * IQR),2)\n",
    "print (\"La limite inférieur est de\", inf, \".\")"
   ]
  },
  {
   "cell_type": "code",
   "execution_count": 63,
   "metadata": {
    "ExecuteTime": {
     "end_time": "2022-02-06T11:47:47.272271Z",
     "start_time": "2022-02-06T11:47:47.264067Z"
    }
   },
   "outputs": [],
   "source": [
    "# La liste des outliers dans la nouvelle colonne \"outliers\"\n",
    "df[\"outliers\"] = df.price > (Q3 + 1.5 * IQR)"
   ]
  },
  {
   "cell_type": "code",
   "execution_count": 64,
   "metadata": {
    "ExecuteTime": {
     "end_time": "2022-02-06T11:47:47.292481Z",
     "start_time": "2022-02-06T11:47:47.280094Z"
    }
   },
   "outputs": [],
   "source": [
    "# On affiche les outliers\n",
    "liste_outliers = df.loc[(df[\"price\"]> 84.3) &(df[\"id_web\"].notna()),:]"
   ]
  },
  {
   "cell_type": "code",
   "execution_count": 65,
   "metadata": {
    "ExecuteTime": {
     "end_time": "2022-02-06T11:47:47.304064Z",
     "start_time": "2022-02-06T11:47:47.296478Z"
    }
   },
   "outputs": [
    {
     "data": {
      "text/plain": [
       "(32, 30)"
      ]
     },
     "execution_count": 65,
     "metadata": {},
     "output_type": "execute_result"
    }
   ],
   "source": [
    "# Le nombre de outliers\n",
    "liste_outliers.shape"
   ]
  },
  {
   "cell_type": "markdown",
   "metadata": {},
   "source": [
    "**Il y a 32 produits qui ont le prix considéré comme les outliers.**"
   ]
  },
  {
   "cell_type": "code",
   "execution_count": 66,
   "metadata": {
    "ExecuteTime": {
     "end_time": "2022-02-06T11:47:47.356948Z",
     "start_time": "2022-02-06T11:47:47.307467Z"
    }
   },
   "outputs": [
    {
     "data": {
      "text/html": [
       "<div>\n",
       "<style scoped>\n",
       "    .dataframe tbody tr th:only-of-type {\n",
       "        vertical-align: middle;\n",
       "    }\n",
       "\n",
       "    .dataframe tbody tr th {\n",
       "        vertical-align: top;\n",
       "    }\n",
       "\n",
       "    .dataframe thead th {\n",
       "        text-align: right;\n",
       "    }\n",
       "</style>\n",
       "<table border=\"1\" class=\"dataframe\">\n",
       "  <thead>\n",
       "    <tr style=\"text-align: right;\">\n",
       "      <th></th>\n",
       "      <th>product_id</th>\n",
       "      <th>onsale_web</th>\n",
       "      <th>price</th>\n",
       "      <th>stock_quantity</th>\n",
       "      <th>stock_status</th>\n",
       "      <th>id_web</th>\n",
       "      <th>virtual</th>\n",
       "      <th>downloadable</th>\n",
       "      <th>rating_count</th>\n",
       "      <th>average_rating</th>\n",
       "      <th>...</th>\n",
       "      <th>post_name</th>\n",
       "      <th>post_modified</th>\n",
       "      <th>post_modified_gmt</th>\n",
       "      <th>post_parent</th>\n",
       "      <th>guid</th>\n",
       "      <th>menu_order</th>\n",
       "      <th>post_type</th>\n",
       "      <th>comment_count</th>\n",
       "      <th>ca</th>\n",
       "      <th>outliers</th>\n",
       "    </tr>\n",
       "  </thead>\n",
       "  <tbody>\n",
       "    <tr>\n",
       "      <td>199</td>\n",
       "      <td>4352</td>\n",
       "      <td>1</td>\n",
       "      <td>225.0</td>\n",
       "      <td>0</td>\n",
       "      <td>outofstock</td>\n",
       "      <td>15940</td>\n",
       "      <td>0</td>\n",
       "      <td>0</td>\n",
       "      <td>0</td>\n",
       "      <td>0.0</td>\n",
       "      <td>...</td>\n",
       "      <td>champagne-egly-ouriet-grand-cru-millesime-2008</td>\n",
       "      <td>2020-03-07 11:18:45</td>\n",
       "      <td>2020-03-07 10:18:45</td>\n",
       "      <td>0.0</td>\n",
       "      <td>https://www.bottle-neck.fr/?post_type=product&amp;...</td>\n",
       "      <td>0.0</td>\n",
       "      <td>product</td>\n",
       "      <td>0.0</td>\n",
       "      <td>1125.0</td>\n",
       "      <td>True</td>\n",
       "    </tr>\n",
       "    <tr>\n",
       "      <td>426</td>\n",
       "      <td>5001</td>\n",
       "      <td>1</td>\n",
       "      <td>217.5</td>\n",
       "      <td>20</td>\n",
       "      <td>instock</td>\n",
       "      <td>14581</td>\n",
       "      <td>0</td>\n",
       "      <td>0</td>\n",
       "      <td>0</td>\n",
       "      <td>0.0</td>\n",
       "      <td>...</td>\n",
       "      <td>david-duband-charmes-chambertin-grand-cru-2014</td>\n",
       "      <td>2020-05-16 09:00:05</td>\n",
       "      <td>2020-05-16 07:00:05</td>\n",
       "      <td>0.0</td>\n",
       "      <td>https://www.bottle-neck.fr/?post_type=product&amp;...</td>\n",
       "      <td>0.0</td>\n",
       "      <td>product</td>\n",
       "      <td>0.0</td>\n",
       "      <td>0.0</td>\n",
       "      <td>True</td>\n",
       "    </tr>\n",
       "    <tr>\n",
       "      <td>587</td>\n",
       "      <td>5892</td>\n",
       "      <td>1</td>\n",
       "      <td>191.3</td>\n",
       "      <td>10</td>\n",
       "      <td>instock</td>\n",
       "      <td>14983</td>\n",
       "      <td>0</td>\n",
       "      <td>0</td>\n",
       "      <td>0</td>\n",
       "      <td>0.0</td>\n",
       "      <td>...</td>\n",
       "      <td>coteaux-champenois-egly-ouriet-ambonnay-rouge-...</td>\n",
       "      <td>2020-04-01 09:30:09</td>\n",
       "      <td>2020-04-01 07:30:09</td>\n",
       "      <td>0.0</td>\n",
       "      <td>https://www.bottle-neck.fr/?post_type=product&amp;...</td>\n",
       "      <td>0.0</td>\n",
       "      <td>product</td>\n",
       "      <td>0.0</td>\n",
       "      <td>573.9</td>\n",
       "      <td>True</td>\n",
       "    </tr>\n",
       "    <tr>\n",
       "      <td>218</td>\n",
       "      <td>4402</td>\n",
       "      <td>1</td>\n",
       "      <td>176.0</td>\n",
       "      <td>8</td>\n",
       "      <td>instock</td>\n",
       "      <td>3510</td>\n",
       "      <td>0</td>\n",
       "      <td>0</td>\n",
       "      <td>0</td>\n",
       "      <td>0.0</td>\n",
       "      <td>...</td>\n",
       "      <td>cognac-frapin-vip-xo</td>\n",
       "      <td>2020-08-22 11:35:03</td>\n",
       "      <td>2020-08-22 09:35:03</td>\n",
       "      <td>0.0</td>\n",
       "      <td>https://www.bottle-neck.fr/?post_type=product&amp;...</td>\n",
       "      <td>0.0</td>\n",
       "      <td>product</td>\n",
       "      <td>0.0</td>\n",
       "      <td>2288.0</td>\n",
       "      <td>True</td>\n",
       "    </tr>\n",
       "    <tr>\n",
       "      <td>553</td>\n",
       "      <td>5767</td>\n",
       "      <td>1</td>\n",
       "      <td>175.0</td>\n",
       "      <td>12</td>\n",
       "      <td>instock</td>\n",
       "      <td>15185</td>\n",
       "      <td>0</td>\n",
       "      <td>0</td>\n",
       "      <td>0</td>\n",
       "      <td>0.0</td>\n",
       "      <td>...</td>\n",
       "      <td>camille-giroud-clos-de-vougeot-2016</td>\n",
       "      <td>2020-06-11 15:25:04</td>\n",
       "      <td>2020-06-11 13:25:04</td>\n",
       "      <td>0.0</td>\n",
       "      <td>https://www.bottle-neck.fr/?post_type=product&amp;...</td>\n",
       "      <td>0.0</td>\n",
       "      <td>product</td>\n",
       "      <td>0.0</td>\n",
       "      <td>0.0</td>\n",
       "      <td>True</td>\n",
       "    </tr>\n",
       "  </tbody>\n",
       "</table>\n",
       "<p>5 rows × 30 columns</p>\n",
       "</div>"
      ],
      "text/plain": [
       "     product_id  onsale_web  price  stock_quantity stock_status id_web  \\\n",
       "199        4352           1  225.0               0   outofstock  15940   \n",
       "426        5001           1  217.5              20      instock  14581   \n",
       "587        5892           1  191.3              10      instock  14983   \n",
       "218        4402           1  176.0               8      instock   3510   \n",
       "553        5767           1  175.0              12      instock  15185   \n",
       "\n",
       "     virtual  downloadable  rating_count  average_rating  ...  \\\n",
       "199        0             0             0             0.0  ...   \n",
       "426        0             0             0             0.0  ...   \n",
       "587        0             0             0             0.0  ...   \n",
       "218        0             0             0             0.0  ...   \n",
       "553        0             0             0             0.0  ...   \n",
       "\n",
       "                                             post_name       post_modified  \\\n",
       "199     champagne-egly-ouriet-grand-cru-millesime-2008 2020-03-07 11:18:45   \n",
       "426     david-duband-charmes-chambertin-grand-cru-2014 2020-05-16 09:00:05   \n",
       "587  coteaux-champenois-egly-ouriet-ambonnay-rouge-... 2020-04-01 09:30:09   \n",
       "218                               cognac-frapin-vip-xo 2020-08-22 11:35:03   \n",
       "553                camille-giroud-clos-de-vougeot-2016 2020-06-11 15:25:04   \n",
       "\n",
       "      post_modified_gmt post_parent  \\\n",
       "199 2020-03-07 10:18:45         0.0   \n",
       "426 2020-05-16 07:00:05         0.0   \n",
       "587 2020-04-01 07:30:09         0.0   \n",
       "218 2020-08-22 09:35:03         0.0   \n",
       "553 2020-06-11 13:25:04         0.0   \n",
       "\n",
       "                                                  guid menu_order post_type  \\\n",
       "199  https://www.bottle-neck.fr/?post_type=product&...        0.0   product   \n",
       "426  https://www.bottle-neck.fr/?post_type=product&...        0.0   product   \n",
       "587  https://www.bottle-neck.fr/?post_type=product&...        0.0   product   \n",
       "218  https://www.bottle-neck.fr/?post_type=product&...        0.0   product   \n",
       "553  https://www.bottle-neck.fr/?post_type=product&...        0.0   product   \n",
       "\n",
       "    comment_count      ca outliers  \n",
       "199           0.0  1125.0     True  \n",
       "426           0.0     0.0     True  \n",
       "587           0.0   573.9     True  \n",
       "218           0.0  2288.0     True  \n",
       "553           0.0     0.0     True  \n",
       "\n",
       "[5 rows x 30 columns]"
      ]
     },
     "execution_count": 66,
     "metadata": {},
     "output_type": "execute_result"
    }
   ],
   "source": [
    "# On affiche la liste des outliers (32 outliers)\n",
    "liste_outliers.sort_values(by = \"price\", ascending = False).head()"
   ]
  },
  {
   "cell_type": "code",
   "execution_count": 67,
   "metadata": {
    "ExecuteTime": {
     "end_time": "2022-02-06T11:47:47.369876Z",
     "start_time": "2022-02-06T11:47:47.362450Z"
    }
   },
   "outputs": [
    {
     "name": "stdout",
     "output_type": "stream",
     "text": [
      "Le chiffre d'affraire total des 32 produits qui sont outliers est de 6970.0 euros.\n"
     ]
    }
   ],
   "source": [
    "# Calcul du CA des 32 outliers\n",
    "print(\"Le chiffre d'affraire total des 32 produits qui sont outliers est de\", liste_outliers.ca.sum(), \"euros.\")"
   ]
  },
  {
   "cell_type": "code",
   "execution_count": 68,
   "metadata": {
    "ExecuteTime": {
     "end_time": "2022-02-06T11:47:47.397729Z",
     "start_time": "2022-02-06T11:47:47.389472Z"
    }
   },
   "outputs": [
    {
     "name": "stdout",
     "output_type": "stream",
     "text": [
      "La proportion des ventes des produits outliers est de 9.88 %.\n"
     ]
    }
   ],
   "source": [
    "# Calcul de la proportion des ventes des outliers\n",
    "print(\"La proportion des ventes des produits outliers est de\", np.round((liste_outliers.ca.sum()/df.ca.sum()*100),2), \"%.\") "
   ]
  },
  {
   "cell_type": "markdown",
   "metadata": {},
   "source": [
    "### 8.3. Les outliers les plus élevés "
   ]
  },
  {
   "cell_type": "code",
   "execution_count": 69,
   "metadata": {
    "ExecuteTime": {
     "end_time": "2022-02-06T11:47:47.462192Z",
     "start_time": "2022-02-06T11:47:47.406425Z"
    },
    "scrolled": true
   },
   "outputs": [
    {
     "data": {
      "text/html": [
       "<div>\n",
       "<style scoped>\n",
       "    .dataframe tbody tr th:only-of-type {\n",
       "        vertical-align: middle;\n",
       "    }\n",
       "\n",
       "    .dataframe tbody tr th {\n",
       "        vertical-align: top;\n",
       "    }\n",
       "\n",
       "    .dataframe thead th {\n",
       "        text-align: right;\n",
       "    }\n",
       "</style>\n",
       "<table border=\"1\" class=\"dataframe\">\n",
       "  <thead>\n",
       "    <tr style=\"text-align: right;\">\n",
       "      <th></th>\n",
       "      <th>product_id</th>\n",
       "      <th>onsale_web</th>\n",
       "      <th>price</th>\n",
       "      <th>stock_quantity</th>\n",
       "      <th>stock_status</th>\n",
       "      <th>id_web</th>\n",
       "      <th>virtual</th>\n",
       "      <th>downloadable</th>\n",
       "      <th>rating_count</th>\n",
       "      <th>average_rating</th>\n",
       "      <th>...</th>\n",
       "      <th>post_name</th>\n",
       "      <th>post_modified</th>\n",
       "      <th>post_modified_gmt</th>\n",
       "      <th>post_parent</th>\n",
       "      <th>guid</th>\n",
       "      <th>menu_order</th>\n",
       "      <th>post_type</th>\n",
       "      <th>comment_count</th>\n",
       "      <th>ca</th>\n",
       "      <th>outliers</th>\n",
       "    </tr>\n",
       "  </thead>\n",
       "  <tbody>\n",
       "    <tr>\n",
       "      <td>199</td>\n",
       "      <td>4352</td>\n",
       "      <td>1</td>\n",
       "      <td>225.0</td>\n",
       "      <td>0</td>\n",
       "      <td>outofstock</td>\n",
       "      <td>15940</td>\n",
       "      <td>0</td>\n",
       "      <td>0</td>\n",
       "      <td>0</td>\n",
       "      <td>0.0</td>\n",
       "      <td>...</td>\n",
       "      <td>champagne-egly-ouriet-grand-cru-millesime-2008</td>\n",
       "      <td>2020-03-07 11:18:45</td>\n",
       "      <td>2020-03-07 10:18:45</td>\n",
       "      <td>0.0</td>\n",
       "      <td>https://www.bottle-neck.fr/?post_type=product&amp;...</td>\n",
       "      <td>0.0</td>\n",
       "      <td>product</td>\n",
       "      <td>0.0</td>\n",
       "      <td>1125.0</td>\n",
       "      <td>True</td>\n",
       "    </tr>\n",
       "    <tr>\n",
       "      <td>426</td>\n",
       "      <td>5001</td>\n",
       "      <td>1</td>\n",
       "      <td>217.5</td>\n",
       "      <td>20</td>\n",
       "      <td>instock</td>\n",
       "      <td>14581</td>\n",
       "      <td>0</td>\n",
       "      <td>0</td>\n",
       "      <td>0</td>\n",
       "      <td>0.0</td>\n",
       "      <td>...</td>\n",
       "      <td>david-duband-charmes-chambertin-grand-cru-2014</td>\n",
       "      <td>2020-05-16 09:00:05</td>\n",
       "      <td>2020-05-16 07:00:05</td>\n",
       "      <td>0.0</td>\n",
       "      <td>https://www.bottle-neck.fr/?post_type=product&amp;...</td>\n",
       "      <td>0.0</td>\n",
       "      <td>product</td>\n",
       "      <td>0.0</td>\n",
       "      <td>0.0</td>\n",
       "      <td>True</td>\n",
       "    </tr>\n",
       "    <tr>\n",
       "      <td>587</td>\n",
       "      <td>5892</td>\n",
       "      <td>1</td>\n",
       "      <td>191.3</td>\n",
       "      <td>10</td>\n",
       "      <td>instock</td>\n",
       "      <td>14983</td>\n",
       "      <td>0</td>\n",
       "      <td>0</td>\n",
       "      <td>0</td>\n",
       "      <td>0.0</td>\n",
       "      <td>...</td>\n",
       "      <td>coteaux-champenois-egly-ouriet-ambonnay-rouge-...</td>\n",
       "      <td>2020-04-01 09:30:09</td>\n",
       "      <td>2020-04-01 07:30:09</td>\n",
       "      <td>0.0</td>\n",
       "      <td>https://www.bottle-neck.fr/?post_type=product&amp;...</td>\n",
       "      <td>0.0</td>\n",
       "      <td>product</td>\n",
       "      <td>0.0</td>\n",
       "      <td>573.9</td>\n",
       "      <td>True</td>\n",
       "    </tr>\n",
       "    <tr>\n",
       "      <td>218</td>\n",
       "      <td>4402</td>\n",
       "      <td>1</td>\n",
       "      <td>176.0</td>\n",
       "      <td>8</td>\n",
       "      <td>instock</td>\n",
       "      <td>3510</td>\n",
       "      <td>0</td>\n",
       "      <td>0</td>\n",
       "      <td>0</td>\n",
       "      <td>0.0</td>\n",
       "      <td>...</td>\n",
       "      <td>cognac-frapin-vip-xo</td>\n",
       "      <td>2020-08-22 11:35:03</td>\n",
       "      <td>2020-08-22 09:35:03</td>\n",
       "      <td>0.0</td>\n",
       "      <td>https://www.bottle-neck.fr/?post_type=product&amp;...</td>\n",
       "      <td>0.0</td>\n",
       "      <td>product</td>\n",
       "      <td>0.0</td>\n",
       "      <td>2288.0</td>\n",
       "      <td>True</td>\n",
       "    </tr>\n",
       "    <tr>\n",
       "      <td>553</td>\n",
       "      <td>5767</td>\n",
       "      <td>1</td>\n",
       "      <td>175.0</td>\n",
       "      <td>12</td>\n",
       "      <td>instock</td>\n",
       "      <td>15185</td>\n",
       "      <td>0</td>\n",
       "      <td>0</td>\n",
       "      <td>0</td>\n",
       "      <td>0.0</td>\n",
       "      <td>...</td>\n",
       "      <td>camille-giroud-clos-de-vougeot-2016</td>\n",
       "      <td>2020-06-11 15:25:04</td>\n",
       "      <td>2020-06-11 13:25:04</td>\n",
       "      <td>0.0</td>\n",
       "      <td>https://www.bottle-neck.fr/?post_type=product&amp;...</td>\n",
       "      <td>0.0</td>\n",
       "      <td>product</td>\n",
       "      <td>0.0</td>\n",
       "      <td>0.0</td>\n",
       "      <td>True</td>\n",
       "    </tr>\n",
       "    <tr>\n",
       "      <td>221</td>\n",
       "      <td>4406</td>\n",
       "      <td>1</td>\n",
       "      <td>157.0</td>\n",
       "      <td>3</td>\n",
       "      <td>instock</td>\n",
       "      <td>7819</td>\n",
       "      <td>0</td>\n",
       "      <td>0</td>\n",
       "      <td>0</td>\n",
       "      <td>0.0</td>\n",
       "      <td>...</td>\n",
       "      <td>cognac-frapin-chateau-de-fontpinot-1989-20-ans</td>\n",
       "      <td>2020-03-14 16:05:04</td>\n",
       "      <td>2020-03-14 15:05:04</td>\n",
       "      <td>0.0</td>\n",
       "      <td>https://www.bottle-neck.fr/?post_type=product&amp;...</td>\n",
       "      <td>0.0</td>\n",
       "      <td>product</td>\n",
       "      <td>0.0</td>\n",
       "      <td>0.0</td>\n",
       "      <td>True</td>\n",
       "    </tr>\n",
       "    <tr>\n",
       "      <td>381</td>\n",
       "      <td>4904</td>\n",
       "      <td>1</td>\n",
       "      <td>137.0</td>\n",
       "      <td>13</td>\n",
       "      <td>instock</td>\n",
       "      <td>14220</td>\n",
       "      <td>0</td>\n",
       "      <td>0</td>\n",
       "      <td>0</td>\n",
       "      <td>0.0</td>\n",
       "      <td>...</td>\n",
       "      <td>domaine-des-croix-corton-charlemagne-grand-cru...</td>\n",
       "      <td>2020-05-19 17:15:02</td>\n",
       "      <td>2020-05-19 15:15:02</td>\n",
       "      <td>0.0</td>\n",
       "      <td>https://www.bottle-neck.fr/?post_type=product&amp;...</td>\n",
       "      <td>0.0</td>\n",
       "      <td>product</td>\n",
       "      <td>0.0</td>\n",
       "      <td>685.0</td>\n",
       "      <td>True</td>\n",
       "    </tr>\n",
       "    <tr>\n",
       "      <td>642</td>\n",
       "      <td>6126</td>\n",
       "      <td>1</td>\n",
       "      <td>135.0</td>\n",
       "      <td>10</td>\n",
       "      <td>instock</td>\n",
       "      <td>14923</td>\n",
       "      <td>0</td>\n",
       "      <td>0</td>\n",
       "      <td>0</td>\n",
       "      <td>0.0</td>\n",
       "      <td>...</td>\n",
       "      <td>champagne-gosset-celebris-vintage-2007</td>\n",
       "      <td>2020-08-27 11:45:02</td>\n",
       "      <td>2020-08-27 09:45:02</td>\n",
       "      <td>0.0</td>\n",
       "      <td>https://www.bottle-neck.fr/?post_type=product&amp;...</td>\n",
       "      <td>0.0</td>\n",
       "      <td>product</td>\n",
       "      <td>0.0</td>\n",
       "      <td>270.0</td>\n",
       "      <td>True</td>\n",
       "    </tr>\n",
       "  </tbody>\n",
       "</table>\n",
       "<p>8 rows × 30 columns</p>\n",
       "</div>"
      ],
      "text/plain": [
       "     product_id  onsale_web  price  stock_quantity stock_status id_web  \\\n",
       "199        4352           1  225.0               0   outofstock  15940   \n",
       "426        5001           1  217.5              20      instock  14581   \n",
       "587        5892           1  191.3              10      instock  14983   \n",
       "218        4402           1  176.0               8      instock   3510   \n",
       "553        5767           1  175.0              12      instock  15185   \n",
       "221        4406           1  157.0               3      instock   7819   \n",
       "381        4904           1  137.0              13      instock  14220   \n",
       "642        6126           1  135.0              10      instock  14923   \n",
       "\n",
       "     virtual  downloadable  rating_count  average_rating  ...  \\\n",
       "199        0             0             0             0.0  ...   \n",
       "426        0             0             0             0.0  ...   \n",
       "587        0             0             0             0.0  ...   \n",
       "218        0             0             0             0.0  ...   \n",
       "553        0             0             0             0.0  ...   \n",
       "221        0             0             0             0.0  ...   \n",
       "381        0             0             0             0.0  ...   \n",
       "642        0             0             0             0.0  ...   \n",
       "\n",
       "                                             post_name       post_modified  \\\n",
       "199     champagne-egly-ouriet-grand-cru-millesime-2008 2020-03-07 11:18:45   \n",
       "426     david-duband-charmes-chambertin-grand-cru-2014 2020-05-16 09:00:05   \n",
       "587  coteaux-champenois-egly-ouriet-ambonnay-rouge-... 2020-04-01 09:30:09   \n",
       "218                               cognac-frapin-vip-xo 2020-08-22 11:35:03   \n",
       "553                camille-giroud-clos-de-vougeot-2016 2020-06-11 15:25:04   \n",
       "221     cognac-frapin-chateau-de-fontpinot-1989-20-ans 2020-03-14 16:05:04   \n",
       "381  domaine-des-croix-corton-charlemagne-grand-cru... 2020-05-19 17:15:02   \n",
       "642             champagne-gosset-celebris-vintage-2007 2020-08-27 11:45:02   \n",
       "\n",
       "      post_modified_gmt post_parent  \\\n",
       "199 2020-03-07 10:18:45         0.0   \n",
       "426 2020-05-16 07:00:05         0.0   \n",
       "587 2020-04-01 07:30:09         0.0   \n",
       "218 2020-08-22 09:35:03         0.0   \n",
       "553 2020-06-11 13:25:04         0.0   \n",
       "221 2020-03-14 15:05:04         0.0   \n",
       "381 2020-05-19 15:15:02         0.0   \n",
       "642 2020-08-27 09:45:02         0.0   \n",
       "\n",
       "                                                  guid menu_order post_type  \\\n",
       "199  https://www.bottle-neck.fr/?post_type=product&...        0.0   product   \n",
       "426  https://www.bottle-neck.fr/?post_type=product&...        0.0   product   \n",
       "587  https://www.bottle-neck.fr/?post_type=product&...        0.0   product   \n",
       "218  https://www.bottle-neck.fr/?post_type=product&...        0.0   product   \n",
       "553  https://www.bottle-neck.fr/?post_type=product&...        0.0   product   \n",
       "221  https://www.bottle-neck.fr/?post_type=product&...        0.0   product   \n",
       "381  https://www.bottle-neck.fr/?post_type=product&...        0.0   product   \n",
       "642  https://www.bottle-neck.fr/?post_type=product&...        0.0   product   \n",
       "\n",
       "    comment_count      ca outliers  \n",
       "199           0.0  1125.0     True  \n",
       "426           0.0     0.0     True  \n",
       "587           0.0   573.9     True  \n",
       "218           0.0  2288.0     True  \n",
       "553           0.0     0.0     True  \n",
       "221           0.0     0.0     True  \n",
       "381           0.0   685.0     True  \n",
       "642           0.0   270.0     True  \n",
       "\n",
       "[8 rows x 30 columns]"
      ]
     },
     "execution_count": 69,
     "metadata": {},
     "output_type": "execute_result"
    }
   ],
   "source": [
    "# On affiche la liste des produits qui ont les outliers plus fort \n",
    "outlier1 = df.price.quantile(0.99)\n",
    "outlier_price = df[df[\"price\"]>outlier1]\n",
    "outlier_price.sort_values (by = \"price\", ascending = False)"
   ]
  },
  {
   "cell_type": "markdown",
   "metadata": {},
   "source": [
    "**On a 8 produits.**"
   ]
  },
  {
   "cell_type": "code",
   "execution_count": 70,
   "metadata": {
    "ExecuteTime": {
     "end_time": "2022-02-06T11:47:47.771416Z",
     "start_time": "2022-02-06T11:47:47.467698Z"
    }
   },
   "outputs": [
    {
     "data": {
      "image/png": "[encoded data removed]",
      "text/plain": [
       "<Figure size 432x288 with 1 Axes>"
      ]
     },
     "metadata": {
      "needs_background": "light"
     },
     "output_type": "display_data"
    }
   ],
   "source": [
    "# Visualisation\n",
    "sns.barplot(x = outlier_price.product_id, y = outlier_price.price,\n",
    "            order = outlier_price.sort_values(\"price\", ascending = False).product_id)\n",
    "plt.title(\"Liste des produits avec le prix plus haut\", fontsize = 14)\n",
    "plt.show()\n"
   ]
  },
  {
   "cell_type": "markdown",
   "metadata": {},
   "source": [
    "## 9. Conclusion "
   ]
  },
  {
   "cell_type": "markdown",
   "metadata": {},
   "source": [
    "* **Le chiffre d’affaire total est de 70568.60 euros.**\n",
    "\n",
    "* **Le chiffre d’affaire total des outliers (32 outliers) est de 6970 euros (9.88%)**\n",
    "\n",
    "* **32 produits qui présentent comme les aberrantes (8 produits avec le prix plus élevés ). Problement, cette différence est venu de la différence de la qualité ou de la origine ou de la facon de fabriquer (temps, méthode, machine,...).**"
   ]
  },
  {
   "cell_type": "markdown",
   "metadata": {},
   "source": [
    "## Fin"
   ]
  }
 ],
 "metadata": {
  "kernelspec": {
   "display_name": "Python 3",
   "language": "python",
   "name": "python3"
  },
  "language_info": {
   "codemirror_mode": {
    "name": "ipython",
    "version": 3
   },
   "file_extension": ".py",
   "mimetype": "text/x-python",
   "name": "python",
   "nbconvert_exporter": "python",
   "pygments_lexer": "ipython3",
   "version": "3.7.4"
  },
  "toc": {
   "base_numbering": 1,
   "nav_menu": {},
   "number_sections": false,
   "sideBar": true,
   "skip_h1_title": false,
   "title_cell": "Table of Contents",
   "title_sidebar": "Contents",
   "toc_cell": false,
   "toc_position": {
    "height": "calc(100% - 180px)",
    "left": "10px",
    "top": "150px",
    "width": "288px"
   },
   "toc_section_display": true,
   "toc_window_display": false
  }
 },
 "nbformat": 4,
 "nbformat_minor": 2
}
